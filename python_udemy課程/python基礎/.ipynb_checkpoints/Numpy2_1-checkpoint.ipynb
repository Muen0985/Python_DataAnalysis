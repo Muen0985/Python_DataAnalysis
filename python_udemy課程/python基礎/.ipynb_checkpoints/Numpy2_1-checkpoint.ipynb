{
 "cells": [
  {
   "cell_type": "markdown",
   "id": "77cac245",
   "metadata": {},
   "source": [
    "### 用於練習的新教學的內容"
   ]
  },
  {
   "cell_type": "code",
   "execution_count": 1,
   "id": "d59ad007",
   "metadata": {},
   "outputs": [],
   "source": [
    "import numpy as np"
   ]
  },
  {
   "cell_type": "code",
   "execution_count": null,
   "id": "9da80e57",
   "metadata": {},
   "outputs": [],
   "source": []
  },
  {
   "cell_type": "code",
   "execution_count": 3,
   "id": "a2a5ed33",
   "metadata": {},
   "outputs": [],
   "source": [
    "d1=np.array([3,2,6])\n",
    "d2=np.array([6,8,5])"
   ]
  },
  {
   "cell_type": "code",
   "execution_count": 5,
   "id": "ac4dbd0a",
   "metadata": {},
   "outputs": [
    {
     "name": "stdout",
     "output_type": "stream",
     "text": [
      "[False False  True]\n",
      "[False False False]\n"
     ]
    }
   ],
   "source": [
    "print(d1>d2) # 做比較\n",
    "print(d1==d2)"
   ]
  },
  {
   "cell_type": "code",
   "execution_count": 10,
   "id": "c91218ae",
   "metadata": {},
   "outputs": [
    {
     "name": "stdout",
     "output_type": "stream",
     "text": [
      "[[1 3]]\n",
      "[[ 2 -1  3]\n",
      " [-2  4  1]]\n",
      "[[-4 11  6]]\n"
     ]
    }
   ],
   "source": [
    "d1=np.array([[1,3]]) #1x2\n",
    "d2=np.array([[2,-1,3],[-2,4,1]]) # 2x3\n",
    "result=d1@d2  # 內積\n",
    "print(d1)\n",
    "print(d2)\n",
    "print(result)"
   ]
  },
  {
   "cell_type": "code",
   "execution_count": 11,
   "id": "15fe67d3",
   "metadata": {
    "scrolled": true
   },
   "outputs": [
    {
     "name": "stdout",
     "output_type": "stream",
     "text": [
      "[[ 2 -1  3 -2  4  1]\n",
      " [ 6 -3  9 -6 12  3]]\n"
     ]
    }
   ],
   "source": [
    "result=np.outer(d1,d2)\n",
    "print(result)"
   ]
  },
  {
   "cell_type": "code",
   "execution_count": 16,
   "id": "ca4fdd95",
   "metadata": {},
   "outputs": [
    {
     "data": {
      "text/plain": [
       "array([ 2, -1,  3, -2,  4,  1])"
      ]
     },
     "execution_count": 16,
     "metadata": {},
     "output_type": "execute_result"
    }
   ],
   "source": [
    "d2.flatten()"
   ]
  },
  {
   "cell_type": "code",
   "execution_count": 19,
   "id": "bacc93e7",
   "metadata": {},
   "outputs": [
    {
     "data": {
      "text/plain": [
       "array([[ 2, -1,  3],\n",
       "       [-2,  4,  1]])"
      ]
     },
     "execution_count": 19,
     "metadata": {},
     "output_type": "execute_result"
    }
   ],
   "source": [
    "d2"
   ]
  },
  {
   "cell_type": "code",
   "execution_count": 23,
   "id": "a13a0adc",
   "metadata": {
    "scrolled": true
   },
   "outputs": [
    {
     "name": "stdout",
     "output_type": "stream",
     "text": [
      "[2 1 4 2 6 7]\n",
      "[[ 2 -1  3]\n",
      " [ 0  3  4]]\n"
     ]
    }
   ],
   "source": [
    "print(d2.cumsum()) # 逐值累加\n",
    "print(d2.cumsum(axis=0)) # 針對欄做逐值累加"
   ]
  },
  {
   "cell_type": "code",
   "execution_count": null,
   "id": "bee041af",
   "metadata": {},
   "outputs": [],
   "source": []
  },
  {
   "cell_type": "code",
   "execution_count": 19,
   "id": "2fd4730f",
   "metadata": {},
   "outputs": [
    {
     "name": "stdout",
     "output_type": "stream",
     "text": [
      "[[2 4 1]\n",
      " [1 5 0]]\n",
      "[[2 1]\n",
      " [4 5]\n",
      " [1 0]]\n"
     ]
    },
    {
     "data": {
      "text/plain": [
       "(3, 2)"
      ]
     },
     "execution_count": 19,
     "metadata": {},
     "output_type": "execute_result"
    }
   ],
   "source": [
    "data=np.array([[2,4,1],[1,5,0]])\n",
    "print(data)\n",
    "print(data.T)\n",
    "data.T.shape"
   ]
  },
  {
   "cell_type": "code",
   "execution_count": 15,
   "id": "d7a6d5d5",
   "metadata": {
    "scrolled": true
   },
   "outputs": [
    {
     "data": {
      "text/plain": [
       "array([2, 4, 1, 1, 5, 0])"
      ]
     },
     "execution_count": 15,
     "metadata": {},
     "output_type": "execute_result"
    }
   ],
   "source": [
    "data.ravel()"
   ]
  },
  {
   "cell_type": "code",
   "execution_count": 17,
   "id": "692995c1",
   "metadata": {},
   "outputs": [
    {
     "name": "stdout",
     "output_type": "stream",
     "text": [
      "[[ 2 99  1]\n",
      " [ 1  5  0]]\n"
     ]
    }
   ],
   "source": [
    "data.ravel()[1]=99\n",
    "print(data) # 會改變原本的值"
   ]
  },
  {
   "cell_type": "code",
   "execution_count": 16,
   "id": "d613755b",
   "metadata": {
    "scrolled": false
   },
   "outputs": [
    {
     "data": {
      "text/plain": [
       "array([2, 4, 1, 1, 5, 0])"
      ]
     },
     "execution_count": 16,
     "metadata": {},
     "output_type": "execute_result"
    }
   ],
   "source": [
    "data.flatten()"
   ]
  },
  {
   "cell_type": "code",
   "execution_count": 13,
   "id": "8a7f3a39",
   "metadata": {},
   "outputs": [
    {
     "name": "stdout",
     "output_type": "stream",
     "text": [
      "[[2 4 1]\n",
      " [1 5 0]]\n"
     ]
    }
   ],
   "source": [
    "data.flatten()[1]=99\n",
    "print(data)  # 不會動到原本的陣列"
   ]
  },
  {
   "cell_type": "code",
   "execution_count": null,
   "id": "18d47fa8",
   "metadata": {},
   "outputs": [],
   "source": []
  },
  {
   "cell_type": "code",
   "execution_count": null,
   "id": "d45145fc",
   "metadata": {},
   "outputs": [],
   "source": []
  },
  {
   "cell_type": "code",
   "execution_count": null,
   "id": "1cfc1f33",
   "metadata": {},
   "outputs": [],
   "source": []
  },
  {
   "cell_type": "code",
   "execution_count": null,
   "id": "dab75d27",
   "metadata": {},
   "outputs": [],
   "source": []
  },
  {
   "cell_type": "code",
   "execution_count": null,
   "id": "49194292",
   "metadata": {},
   "outputs": [],
   "source": []
  },
  {
   "cell_type": "code",
   "execution_count": null,
   "id": "84c65827",
   "metadata": {},
   "outputs": [],
   "source": []
  },
  {
   "cell_type": "code",
   "execution_count": null,
   "id": "5f36a7a9",
   "metadata": {},
   "outputs": [],
   "source": []
  }
 ],
 "metadata": {
  "kernelspec": {
   "display_name": "Python 3 (ipykernel)",
   "language": "python",
   "name": "python3"
  },
  "language_info": {
   "codemirror_mode": {
    "name": "ipython",
    "version": 3
   },
   "file_extension": ".py",
   "mimetype": "text/x-python",
   "name": "python",
   "nbconvert_exporter": "python",
   "pygments_lexer": "ipython3",
   "version": "3.9.12"
  }
 },
 "nbformat": 4,
 "nbformat_minor": 5
}
