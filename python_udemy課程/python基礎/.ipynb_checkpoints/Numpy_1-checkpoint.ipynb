{
 "cells": [
  {
   "cell_type": "code",
   "execution_count": 1,
   "id": "ffe41a2b",
   "metadata": {},
   "outputs": [],
   "source": [
    "import numpy as np"
   ]
  },
  {
   "cell_type": "markdown",
   "id": "ef37c912",
   "metadata": {},
   "source": [
    "### just python"
   ]
  },
  {
   "cell_type": "code",
   "execution_count": 63,
   "id": "886ab103",
   "metadata": {
    "scrolled": false
   },
   "outputs": [
    {
     "data": {
      "text/plain": [
       "[1, 2, 3, 4, 5, 6]"
      ]
     },
     "execution_count": 63,
     "metadata": {},
     "output_type": "execute_result"
    }
   ],
   "source": [
    "a=[1,2,3]\n",
    "b=[4,5,6]\n",
    "a+b"
   ]
  },
  {
   "cell_type": "code",
   "execution_count": 3,
   "id": "43f9031b",
   "metadata": {},
   "outputs": [
    {
     "name": "stdout",
     "output_type": "stream",
     "text": [
      "1 4\n",
      "2 5\n",
      "3 6\n"
     ]
    },
    {
     "data": {
      "text/plain": [
       "[5, 7, 9]"
      ]
     },
     "execution_count": 3,
     "metadata": {},
     "output_type": "execute_result"
    }
   ],
   "source": [
    "result=[]\n",
    "for va,vb in zip(a,b):\n",
    "    print(va,vb,end='\\n')\n",
    "    result.append(va+vb)\n",
    "\n",
    "result"
   ]
  },
  {
   "cell_type": "code",
   "execution_count": 4,
   "id": "c689f0f7",
   "metadata": {},
   "outputs": [
    {
     "data": {
      "text/plain": [
       "[5, 7, 9]"
      ]
     },
     "execution_count": 4,
     "metadata": {},
     "output_type": "execute_result"
    }
   ],
   "source": [
    "[va+vb for va,vb in zip(a,b)]"
   ]
  },
  {
   "cell_type": "markdown",
   "id": "4f945629",
   "metadata": {},
   "source": [
    "### use numpy"
   ]
  },
  {
   "cell_type": "code",
   "execution_count": 135,
   "id": "199a40e6",
   "metadata": {
    "scrolled": false
   },
   "outputs": [
    {
     "data": {
      "text/plain": [
       "array([5, 7, 9])"
      ]
     },
     "execution_count": 135,
     "metadata": {},
     "output_type": "execute_result"
    }
   ],
   "source": [
    "np_a=np.array(a)\n",
    "np_b=np.array(b)\n",
    "np_a+np_b       # no need to use for loop"
   ]
  },
  {
   "cell_type": "code",
   "execution_count": 69,
   "id": "8775b2b5",
   "metadata": {
    "scrolled": true
   },
   "outputs": [
    {
     "name": "stdout",
     "output_type": "stream",
     "text": [
      "[ 4 10 18]\n",
      "[  1  32 729]\n"
     ]
    }
   ],
   "source": [
    "print(np_a * np_b)\n",
    "print(np_a ** np_b)"
   ]
  },
  {
   "cell_type": "code",
   "execution_count": 44,
   "id": "0a9bc84e",
   "metadata": {},
   "outputs": [
    {
     "name": "stdout",
     "output_type": "stream",
     "text": [
      "float64\n",
      "<class 'numpy.ndarray'>\n"
     ]
    }
   ],
   "source": [
    "c=np.array([1,2.,3])\n",
    "print(c.dtype) # all will become float\n",
    "print(type(c))"
   ]
  },
  {
   "cell_type": "code",
   "execution_count": 137,
   "id": "731b72de",
   "metadata": {},
   "outputs": [
    {
     "name": "stdout",
     "output_type": "stream",
     "text": [
      "int32\n",
      "[13  2  3]\n",
      "int32\n"
     ]
    }
   ],
   "source": [
    "print(np_a.dtype)\n",
    "np_a[0]=13.746\n",
    "print(np_a) # but if alter after creating a int np.array ,it will truncate 13.746 into 13\n",
    "print(np_a[0].dtype) # will be transfer to integer as well"
   ]
  },
  {
   "cell_type": "code",
   "execution_count": 16,
   "id": "0ec96794",
   "metadata": {},
   "outputs": [
    {
     "name": "stdout",
     "output_type": "stream",
     "text": [
      "[13.5546  2.      3.    ]\n",
      "float64\n"
     ]
    }
   ],
   "source": [
    "np_a=np.array([1,2,3],dtype='float') # will transfer all elements into float\n",
    "np_a[0]=13.5546\n",
    "print(np_a)\n",
    "print(np_a.dtype)"
   ]
  },
  {
   "cell_type": "code",
   "execution_count": 18,
   "id": "78a8b267",
   "metadata": {
    "scrolled": true
   },
   "outputs": [
    {
     "data": {
      "text/plain": [
       "(array([0.83505315, 0.90929743, 0.14112001]),\n",
       " array([ 0.55016928, -0.41614684, -0.9899925 ]))"
      ]
     },
     "execution_count": 18,
     "metadata": {},
     "output_type": "execute_result"
    }
   ],
   "source": [
    "np.sin(np_a),np.cos(np_a)"
   ]
  },
  {
   "cell_type": "code",
   "execution_count": 28,
   "id": "778d33ba",
   "metadata": {},
   "outputs": [
    {
     "name": "stdout",
     "output_type": "stream",
     "text": [
      "5\n",
      "np_los: 5\n",
      "np_los: 5\n"
     ]
    }
   ],
   "source": [
    "los=[[1,2,3],[4,5,6]]\n",
    "np_los=np.array(los)\n",
    "print(los[1][1])\n",
    "# print(los[1,1]) will cause an error\n",
    "print(f'np_los: {np_los[1][1]}')\n",
    "print(f'np_los: {np_los[1,1]}') # better"
   ]
  },
  {
   "cell_type": "code",
   "execution_count": 40,
   "id": "fed1d39b",
   "metadata": {},
   "outputs": [
    {
     "name": "stdout",
     "output_type": "stream",
     "text": [
      "2\n",
      "[1 2 3]\n",
      "--------\n",
      "[1 2 3]\n",
      "[4 5 6]\n"
     ]
    }
   ],
   "source": [
    "print(np_los.ndim)\n",
    "print(np_los[0])\n",
    "print(\"--------\")\n",
    "print(np_los[0, :])\n",
    "print(np_los[1, :])"
   ]
  },
  {
   "cell_type": "code",
   "execution_count": 52,
   "id": "1fb5b069",
   "metadata": {},
   "outputs": [
    {
     "name": "stdout",
     "output_type": "stream",
     "text": [
      "(5,)\n",
      "4\n",
      "int32\n"
     ]
    }
   ],
   "source": [
    "x=np.array([1,2,3,4,5])\n",
    "print(x.shape)\n",
    "print(x.itemsize) \n",
    "# tells how many bytes per item in the array\n",
    "# so each is 4 byte (8 bits = 1 byte -> 32 bits = 4 byte)\n",
    "print(x.dtype)"
   ]
  },
  {
   "cell_type": "code",
   "execution_count": 53,
   "id": "96b475d5",
   "metadata": {},
   "outputs": [
    {
     "data": {
      "text/plain": [
       "[0, 1, 2, 3]"
      ]
     },
     "execution_count": 53,
     "metadata": {},
     "output_type": "execute_result"
    }
   ],
   "source": [
    "list(range(4))"
   ]
  },
  {
   "cell_type": "code",
   "execution_count": 55,
   "id": "7229e88e",
   "metadata": {},
   "outputs": [
    {
     "data": {
      "text/plain": [
       "array([0, 1, 2, 3, 4])"
      ]
     },
     "execution_count": 55,
     "metadata": {},
     "output_type": "execute_result"
    }
   ],
   "source": [
    "np.array(range(5))"
   ]
  },
  {
   "cell_type": "code",
   "execution_count": 61,
   "id": "687f9c01",
   "metadata": {},
   "outputs": [
    {
     "name": "stdout",
     "output_type": "stream",
     "text": [
      "[0 1 2 3 4]\n",
      "[0. 1. 2. 3. 4.]\n",
      "[0 2 4 6 8]\n",
      "[10 12 14 16 18]\n"
     ]
    }
   ],
   "source": [
    "print(np.arange(5)) # same result\n",
    "print(np.arange(5.))\n",
    "print(np.arange(10,step=2))\n",
    "print(np.arange(start=10,stop=20,step=2))"
   ]
  },
  {
   "cell_type": "code",
   "execution_count": 71,
   "id": "fa7222b9",
   "metadata": {},
   "outputs": [
    {
     "data": {
      "text/plain": [
       "(3.141592653589793, 2.718281828459045)"
      ]
     },
     "execution_count": 71,
     "metadata": {},
     "output_type": "execute_result"
    }
   ],
   "source": [
    "np.pi,np.e"
   ]
  },
  {
   "cell_type": "code",
   "execution_count": 129,
   "id": "d9995ccd",
   "metadata": {},
   "outputs": [
    {
     "data": {
      "text/plain": [
       "array([ 0.,  1.,  2.,  3.,  4.,  5.,  6.,  7.,  8.,  9., 10.])"
      ]
     },
     "execution_count": 129,
     "metadata": {},
     "output_type": "execute_result"
    }
   ],
   "source": [
    "y=np.arange(11.)\n",
    "y"
   ]
  },
  {
   "cell_type": "code",
   "execution_count": 130,
   "id": "df10a9b6",
   "metadata": {},
   "outputs": [
    {
     "data": {
      "text/plain": [
       "array([ 0.,  6., 12., 18., 24., 30., 36., 42., 48., 54., 60.])"
      ]
     },
     "execution_count": 130,
     "metadata": {},
     "output_type": "execute_result"
    }
   ],
   "source": [
    "y *= 6 # will broadcast to all elements\n",
    "y"
   ]
  },
  {
   "cell_type": "code",
   "execution_count": 134,
   "id": "5c0d685e",
   "metadata": {},
   "outputs": [
    {
     "data": {
      "text/plain": [
       "array([ 0.        , -0.2794155 , -0.53657292, -0.75098725, -0.90557836,\n",
       "       -0.98803162, -0.99177885, -0.91652155, -0.76825466, -0.55878905,\n",
       "       -0.30481062])"
      ]
     },
     "execution_count": 134,
     "metadata": {},
     "output_type": "execute_result"
    }
   ],
   "source": [
    "np.sin(y) # same behavior as above"
   ]
  },
  {
   "cell_type": "code",
   "execution_count": 139,
   "id": "ecffa496",
   "metadata": {},
   "outputs": [
    {
     "data": {
      "text/plain": [
       "array([5, 6, 7, 8, 9])"
      ]
     },
     "execution_count": 139,
     "metadata": {},
     "output_type": "execute_result"
    }
   ],
   "source": [
    "z=np.arange(5)\n",
    "z+5"
   ]
  },
  {
   "cell_type": "code",
   "execution_count": null,
   "id": "db60f83d",
   "metadata": {},
   "outputs": [],
   "source": []
  },
  {
   "cell_type": "code",
   "execution_count": null,
   "id": "7013e08e",
   "metadata": {},
   "outputs": [],
   "source": []
  },
  {
   "cell_type": "code",
   "execution_count": null,
   "id": "9f24520a",
   "metadata": {},
   "outputs": [],
   "source": []
  },
  {
   "cell_type": "code",
   "execution_count": null,
   "id": "624eb81b",
   "metadata": {},
   "outputs": [],
   "source": []
  },
  {
   "cell_type": "code",
   "execution_count": null,
   "id": "14eb3de4",
   "metadata": {},
   "outputs": [],
   "source": []
  },
  {
   "cell_type": "code",
   "execution_count": null,
   "id": "2881677b",
   "metadata": {},
   "outputs": [],
   "source": []
  }
 ],
 "metadata": {
  "kernelspec": {
   "display_name": "Python 3 (ipykernel)",
   "language": "python",
   "name": "python3"
  },
  "language_info": {
   "codemirror_mode": {
    "name": "ipython",
    "version": 3
   },
   "file_extension": ".py",
   "mimetype": "text/x-python",
   "name": "python",
   "nbconvert_exporter": "python",
   "pygments_lexer": "ipython3",
   "version": "3.9.12"
  }
 },
 "nbformat": 4,
 "nbformat_minor": 5
}
