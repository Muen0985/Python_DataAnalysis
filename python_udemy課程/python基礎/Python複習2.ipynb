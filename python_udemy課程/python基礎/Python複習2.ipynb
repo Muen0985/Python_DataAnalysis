{
 "cells": [
  {
   "cell_type": "markdown",
   "id": "34056ade",
   "metadata": {},
   "source": [
    "### try-except"
   ]
  },
  {
   "cell_type": "code",
   "execution_count": 7,
   "id": "e2971d62",
   "metadata": {},
   "outputs": [
    {
     "name": "stdout",
     "output_type": "stream",
     "text": [
      "enter a number: h\n",
      "error, not an integer\n"
     ]
    }
   ],
   "source": [
    "try:\n",
    "    num=input('enter a number: ')\n",
    "    total=int(num)+1\n",
    "    print(total) \n",
    "except ValueError:\n",
    "    print(\"error, not an integer\")\n",
    "except:\n",
    "    print('error')"
   ]
  },
  {
   "cell_type": "markdown",
   "id": "c0a6437f",
   "metadata": {},
   "source": [
    "##### 沒有發生異常會執行else\n",
    "##### 不論有無發生錯誤都會執行finally"
   ]
  },
  {
   "cell_type": "code",
   "execution_count": 13,
   "id": "b10dd1e4",
   "metadata": {},
   "outputs": [
    {
     "name": "stdout",
     "output_type": "stream",
     "text": [
      "enter a number: j\n",
      "error, not an integer\n",
      "執行結束\n"
     ]
    }
   ],
   "source": [
    "try:\n",
    "    num=input('enter a number: ')\n",
    "    total=int(num)+1\n",
    "    print(total) \n",
    "except ValueError:\n",
    "    print(\"error, not an integer\")\n",
    "except:\n",
    "    print('error')\n",
    "else:\n",
    "    print(\"execute successfully\")\n",
    "finally:\n",
    "    print(\"執行結束\")"
   ]
  },
  {
   "cell_type": "code",
   "execution_count": null,
   "id": "966bc4bd",
   "metadata": {},
   "outputs": [],
   "source": []
  },
  {
   "cell_type": "code",
   "execution_count": 43,
   "id": "e518d7d4",
   "metadata": {},
   "outputs": [],
   "source": [
    "def fib(n):\n",
    "    if n==0 or n==1:\n",
    "        return n\n",
    "    else:\n",
    "        return fib(n-1)+fib(n-2)"
   ]
  },
  {
   "cell_type": "code",
   "execution_count": 47,
   "id": "8e1f096c",
   "metadata": {
    "scrolled": true
   },
   "outputs": [
    {
     "name": "stdout",
     "output_type": "stream",
     "text": [
      "input an integer: 4\n",
      "3\n"
     ]
    }
   ],
   "source": [
    "number=input('input an integer: ')\n",
    "print(fib(int(number)))"
   ]
  },
  {
   "cell_type": "code",
   "execution_count": null,
   "id": "05c27880",
   "metadata": {},
   "outputs": [],
   "source": []
  },
  {
   "cell_type": "code",
   "execution_count": null,
   "id": "eec7d29c",
   "metadata": {},
   "outputs": [],
   "source": []
  },
  {
   "cell_type": "markdown",
   "id": "9a9eb959",
   "metadata": {},
   "source": [
    "### 物件導向"
   ]
  },
  {
   "cell_type": "code",
   "execution_count": 53,
   "id": "8d1803e4",
   "metadata": {},
   "outputs": [
    {
     "name": "stdout",
     "output_type": "stream",
     "text": [
      "hello, im steve \n",
      "hello jack\n"
     ]
    }
   ],
   "source": [
    "class Person:\n",
    "    def __init__(self,name,age):\n",
    "        self.name=name\n",
    "        self.age=age\n",
    "        \n",
    "    def sayhello(self):\n",
    "        print(f'hello, im {self.name} ')\n",
    "        \n",
    "    def response(yourname):\n",
    "        print(f'hello {yourname}')\n",
    "        \n",
    "        \n",
    "per=Person('steve','21') #建立instance\n",
    "\n",
    "per.age\n",
    "per.sayhello()\n",
    "Person.response('jack') # 靜態方法(不需要一個實例)"
   ]
  },
  {
   "cell_type": "code",
   "execution_count": 61,
   "id": "8c7e5510",
   "metadata": {},
   "outputs": [
    {
     "name": "stdout",
     "output_type": "stream",
     "text": [
      "my student id is s123\n",
      "hello, i'm james and student id is s123\n"
     ]
    }
   ],
   "source": [
    "class Person: # 父類別\n",
    "    def __init__(self,name,age):\n",
    "        self.name=name\n",
    "        self.age=age\n",
    "        \n",
    "    def sayhello(self):\n",
    "        print(f'hello, im {self.name} ')\n",
    "        \n",
    "    def response(yourname):\n",
    "        print(f'hello {yourname}')\n",
    "        \n",
    "class Student(Person): # 子類別\n",
    "    def __init__(self,name,age,sid):\n",
    "        super().__init__(name,age)\n",
    "        self.sid=sid\n",
    "\n",
    "    def showsid(self):\n",
    "        print(f'my student id is {self.sid}')\n",
    "        \n",
    "    def  sayhello(self):\n",
    "        print(f\"hello, i'm {self.name} and student id is {self.sid}\") # overide method\n",
    "\n",
    "        \n",
    "stu=Student('james','25','s123')\n",
    "\n",
    "stu.showsid()\n",
    "stu.sayhello()"
   ]
  },
  {
   "cell_type": "code",
   "execution_count": null,
   "id": "00880290",
   "metadata": {},
   "outputs": [],
   "source": []
  },
  {
   "cell_type": "markdown",
   "id": "9d64bd8f",
   "metadata": {},
   "source": [
    "### lambda"
   ]
  },
  {
   "cell_type": "code",
   "execution_count": 1,
   "id": "47115dd3",
   "metadata": {},
   "outputs": [
    {
     "data": {
      "text/plain": [
       "21.224489795918366"
      ]
     },
     "execution_count": 1,
     "metadata": {},
     "output_type": "execute_result"
    }
   ],
   "source": [
    "def bmi(w,h):\n",
    "    return w/h**2\n",
    "bmi(65,1.75)"
   ]
  },
  {
   "cell_type": "code",
   "execution_count": 2,
   "id": "a6fb7b36",
   "metadata": {},
   "outputs": [
    {
     "data": {
      "text/plain": [
       "21.224489795918366"
      ]
     },
     "execution_count": 2,
     "metadata": {},
     "output_type": "execute_result"
    }
   ],
   "source": [
    "bmi2=lambda w,h : w/h**2\n",
    "bmi2(65,1.75)"
   ]
  },
  {
   "cell_type": "code",
   "execution_count": 11,
   "id": "c7b13c99",
   "metadata": {},
   "outputs": [
    {
     "name": "stdout",
     "output_type": "stream",
     "text": [
      "26.122448979591837\n",
      "體重過重\n"
     ]
    }
   ],
   "source": [
    "res = lambda x:'體重過輕' if x<18.5 else '體重過重' if x>=24 else '體重正常'\n",
    "print(bmi2(80,1.75))\n",
    "print(res(bmi2(80,1.75)))"
   ]
  },
  {
   "cell_type": "markdown",
   "id": "451f1883",
   "metadata": {},
   "source": [
    "### filter"
   ]
  },
  {
   "cell_type": "code",
   "execution_count": 17,
   "id": "21b76978",
   "metadata": {},
   "outputs": [
    {
     "name": "stdout",
     "output_type": "stream",
     "text": [
      "[10, 11, 12]\n"
     ]
    }
   ],
   "source": [
    "lst=[8,9,10,11,12]\n",
    "f=filter(lambda x:x>=10,lst)\n",
    "print(list(f))"
   ]
  },
  {
   "cell_type": "markdown",
   "id": "e379bb8b",
   "metadata": {},
   "source": [
    "### map"
   ]
  },
  {
   "cell_type": "code",
   "execution_count": 18,
   "id": "27b1871a",
   "metadata": {},
   "outputs": [
    {
     "name": "stdout",
     "output_type": "stream",
     "text": [
      "[2, 3, 4]\n"
     ]
    }
   ],
   "source": [
    "lst2=[1,2,3]\n",
    "m=map(lambda x:x+1,lst2)\n",
    "print(list(m))"
   ]
  },
  {
   "cell_type": "code",
   "execution_count": null,
   "id": "5232277b",
   "metadata": {},
   "outputs": [],
   "source": []
  },
  {
   "cell_type": "code",
   "execution_count": null,
   "id": "44b31fa3",
   "metadata": {},
   "outputs": [],
   "source": []
  }
 ],
 "metadata": {
  "kernelspec": {
   "display_name": "Python 3 (ipykernel)",
   "language": "python",
   "name": "python3"
  },
  "language_info": {
   "codemirror_mode": {
    "name": "ipython",
    "version": 3
   },
   "file_extension": ".py",
   "mimetype": "text/x-python",
   "name": "python",
   "nbconvert_exporter": "python",
   "pygments_lexer": "ipython3",
   "version": "3.9.12"
  }
 },
 "nbformat": 4,
 "nbformat_minor": 5
}
