{
 "cells": [
  {
   "cell_type": "code",
   "execution_count": 1,
   "id": "da27f783",
   "metadata": {},
   "outputs": [],
   "source": [
    "#以下三種設定方式皆可\n",
    "\n",
    "# -*- coding: utf-8 -*-\n",
    "# coding = utf-8\n",
    "# coding : utf-8"
   ]
  },
  {
   "cell_type": "code",
   "execution_count": 15,
   "id": "4baf661e",
   "metadata": {},
   "outputs": [],
   "source": [
    "import os, time, socket"
   ]
  },
  {
   "cell_type": "code",
   "execution_count": 4,
   "id": "115f7cf1",
   "metadata": {},
   "outputs": [
    {
     "name": "stdout",
     "output_type": "stream",
     "text": [
      "6\n",
      "100\n"
     ]
    },
    {
     "data": {
      "text/plain": [
       "100"
      ]
     },
     "execution_count": 4,
     "metadata": {},
     "output_type": "execute_result"
    }
   ],
   "source": [
    "x=y=z=100\n",
    "x=6\n",
    "print(x)\n",
    "print(y)\n",
    "z"
   ]
  },
  {
   "cell_type": "code",
   "execution_count": 3,
   "id": "95443d36",
   "metadata": {},
   "outputs": [
    {
     "data": {
      "text/plain": [
       "33"
      ]
     },
     "execution_count": 3,
     "metadata": {},
     "output_type": "execute_result"
    }
   ],
   "source": [
    "x,y,z = 11111,222,33\n",
    "x\n",
    "y\n",
    "z"
   ]
  },
  {
   "cell_type": "code",
   "execution_count": 11,
   "id": "70eb97d9",
   "metadata": {},
   "outputs": [
    {
     "name": "stdout",
     "output_type": "stream",
     "text": [
      "111111\n",
      "2222\n",
      "33\n"
     ]
    }
   ],
   "source": [
    "x, y, z = 111111, 2222, 33  #這是換行鍵(不用特別加)\n",
    "print(x, end='\\n')          # shift+tab\n",
    "print(y)\n",
    "print(z)"
   ]
  },
  {
   "cell_type": "code",
   "execution_count": 8,
   "id": "092c8462",
   "metadata": {},
   "outputs": [
    {
     "name": "stdout",
     "output_type": "stream",
     "text": [
      "111111\t2222\t33\t"
     ]
    }
   ],
   "source": [
    "x, y, z = 111111, 2222, 33  #這是tab鍵\n",
    "print(x, end='\\t')          # shift+tab\n",
    "print(y, end='\\t')\n",
    "print(z, end='\\t')"
   ]
  },
  {
   "cell_type": "code",
   "execution_count": 13,
   "id": "0e8d5282",
   "metadata": {},
   "outputs": [
    {
     "name": "stdout",
     "output_type": "stream",
     "text": [
      "111111\r",
      "2222\r",
      "33\r"
     ]
    }
   ],
   "source": [
    "x, y, z = 111111, 2222, 33  #這是return鍵(會重新在開頭印出)\n",
    "print(x, end='\\r')          # shift+tab\n",
    "print(y, end='\\r')\n",
    "print(z, end='\\r')"
   ]
  },
  {
   "cell_type": "code",
   "execution_count": 17,
   "id": "a42035e7",
   "metadata": {},
   "outputs": [
    {
     "name": "stdout",
     "output_type": "stream",
     "text": [
      "10\r"
     ]
    }
   ],
   "source": [
    "print('01', end='\\r')\n",
    "time.sleep(0.5)\n",
    "print('02', end='\\r')\n",
    "time.sleep(0.5)\n",
    "print('03', end='\\r')\n",
    "time.sleep(0.5)\n",
    "print('04', end='\\r')\n",
    "time.sleep(0.5)\n",
    "print('05', end='\\r')\n",
    "time.sleep(0.5)\n",
    "print('06', end='\\r')\n",
    "time.sleep(0.5)\n",
    "print('07', end='\\r')\n",
    "time.sleep(0.5)\n",
    "print('08', end='\\r')\n",
    "time.sleep(0.5)\n",
    "print('09', end='\\r')\n",
    "time.sleep(0.5)\n",
    "print('10', end='\\r')"
   ]
  },
  {
   "cell_type": "markdown",
   "id": "57ee22b7",
   "metadata": {},
   "source": [
    "- 數學的四則運算，先乘除、後加減，所以是先 and 後 or"
   ]
  },
  {
   "cell_type": "markdown",
   "id": "cae3ea4a",
   "metadata": {},
   "source": [
    "&\tBitwise  AND\tx & y = 0 (0000 0000)\n",
    "｜\tBitwise  OR \tx ｜ y = 14 (0000 1110)\n",
    "~\tBitwise  NOT\t~x = -11 (1111 0101)\n",
    "^\tBitwise  XOR\tx ^ y = 14 (0000 1110)\n",
    ">>\tBitwise  right shift\tx>> 2 = 2 (0000 0010)\n",
    "<<\tBitwise  left shift\t    x<< 2 = 40 (0010 1000)"
   ]
  },
  {
   "cell_type": "code",
   "execution_count": null,
   "id": "76d172b8",
   "metadata": {},
   "outputs": [],
   "source": []
  },
  {
   "cell_type": "markdown",
   "id": "fbdd5756",
   "metadata": {},
   "source": [
    "- 當 x 是純量值(基本資料型態)時，x、y 彼此不影響(各自獨立) 例如: int "
   ]
  },
  {
   "cell_type": "markdown",
   "id": "940e59a3",
   "metadata": {},
   "source": [
    "- 當 x 是物件(具有結構)時，x、y 共用資料區 例如:list"
   ]
  },
  {
   "cell_type": "markdown",
   "id": "11cdecdd",
   "metadata": {},
   "source": [
    "- 當 x 是物件(具有結構)時，可以使用 .copy() 方法(method)，只複製資料，彼此不影響(各自獨立)"
   ]
  },
  {
   "cell_type": "code",
   "execution_count": 1,
   "id": "72c34503",
   "metadata": {},
   "outputs": [
    {
     "name": "stdout",
     "output_type": "stream",
     "text": [
      "x = [100, 200, 300], y = [100, 200, 300]\n",
      "x id : 0x1f771eac800, y id = 0x1f771eabd80\n",
      "x is y ? False\n",
      "-----------------------------\n",
      "x = [100, 200, 300], y = [900, 200, 300]\n",
      "x id : 0x1f771eac800, y id = 0x1f771eabd80\n",
      "x is y ? False\n"
     ]
    }
   ],
   "source": [
    "x = [100, 200, 300]\n",
    "y = x.copy() \n",
    "print('x = {}, y = {}'.format(x, y))\n",
    "print('x id : {}, y id = {}'.format(hex(id(x)), hex(id(y))))\n",
    "print('x is y ? {}'.format(x is y))\n",
    "print('-----------------------------')\n",
    "y[0] = 900\n",
    "print('x = {}, y = {}'.format(x, y))\n",
    "print('x id : {}, y id = {}'.format(hex(id(x)), hex(id(y))))\n",
    "print('x is y ? {}'.format(x is y))"
   ]
  },
  {
   "cell_type": "code",
   "execution_count": 2,
   "id": "b42a892d",
   "metadata": {},
   "outputs": [
    {
     "name": "stdout",
     "output_type": "stream",
     "text": [
      "True\n",
      "False\n"
     ]
    }
   ],
   "source": [
    "print(100 in [100, 200, 'x', 'y'])\n",
    "print('x' not in [100, 200, 'x', 'y'])"
   ]
  },
  {
   "cell_type": "markdown",
   "id": "490a4516",
   "metadata": {},
   "source": [
    "常用的math模組_方法\n",
    "math.ceil(), math.floor()\n",
    "math.isfinite(), math.isinf()\n",
    "math.isnan()\n",
    "math.pow(), math.exp()\n",
    "math.round()\n",
    "math.sqrt()"
   ]
  },
  {
   "cell_type": "code",
   "execution_count": 4,
   "id": "5edb3279",
   "metadata": {},
   "outputs": [
    {
     "name": "stdout",
     "output_type": "stream",
     "text": [
      "3.141592653589793\n",
      "8.0\n",
      "8\n"
     ]
    }
   ],
   "source": [
    "import math\n",
    "print(math.pi)\n",
    "print(math.pow(2,3)) #會是以float呈現\n",
    "print(pow(2,3))"
   ]
  },
  {
   "cell_type": "code",
   "execution_count": null,
   "id": "cb8e9bb4",
   "metadata": {},
   "outputs": [],
   "source": []
  },
  {
   "cell_type": "code",
   "execution_count": null,
   "id": "aa2b9fde",
   "metadata": {},
   "outputs": [],
   "source": []
  }
 ],
 "metadata": {
  "kernelspec": {
   "display_name": "Python 3 (ipykernel)",
   "language": "python",
   "name": "python3"
  },
  "language_info": {
   "codemirror_mode": {
    "name": "ipython",
    "version": 3
   },
   "file_extension": ".py",
   "mimetype": "text/x-python",
   "name": "python",
   "nbconvert_exporter": "python",
   "pygments_lexer": "ipython3",
   "version": "3.9.12"
  }
 },
 "nbformat": 4,
 "nbformat_minor": 5
}
