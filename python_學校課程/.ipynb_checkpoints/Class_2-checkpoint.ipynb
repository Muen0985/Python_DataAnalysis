{
 "cells": [
  {
   "cell_type": "code",
   "execution_count": 4,
   "id": "52329af2",
   "metadata": {},
   "outputs": [
    {
     "name": "stdout",
     "output_type": "stream",
     "text": [
      "6\n"
     ]
    }
   ],
   "source": [
    "a=[9,8,7,6]\n",
    "x=a.pop()\n",
    "print(x)"
   ]
  },
  {
   "cell_type": "code",
   "execution_count": 10,
   "id": "67aeca35",
   "metadata": {},
   "outputs": [
    {
     "name": "stdout",
     "output_type": "stream",
     "text": [
      "{1, 2, 3, 4, 5}\n",
      "{4}\n",
      "{1, 2, 3}\n",
      "{5}\n",
      "{1, 2, 3, 5}\n"
     ]
    }
   ],
   "source": [
    "A = {1,2,3,4}\n",
    "B = {4,5}\n",
    "\n",
    "print(A | B)  # 聯集 (重複的不會再顯示)\n",
    "print(A & B)  # 交集\n",
    "print(A - B)  # 差集\n",
    "print(B - A)\n",
    "print(A ^ B)  # 對稱式差集"
   ]
  },
  {
   "cell_type": "code",
   "execution_count": null,
   "id": "0e29736e",
   "metadata": {},
   "outputs": [],
   "source": []
  }
 ],
 "metadata": {
  "kernelspec": {
   "display_name": "Python 3 (ipykernel)",
   "language": "python",
   "name": "python3"
  },
  "language_info": {
   "codemirror_mode": {
    "name": "ipython",
    "version": 3
   },
   "file_extension": ".py",
   "mimetype": "text/x-python",
   "name": "python",
   "nbconvert_exporter": "python",
   "pygments_lexer": "ipython3",
   "version": "3.9.12"
  }
 },
 "nbformat": 4,
 "nbformat_minor": 5
}
