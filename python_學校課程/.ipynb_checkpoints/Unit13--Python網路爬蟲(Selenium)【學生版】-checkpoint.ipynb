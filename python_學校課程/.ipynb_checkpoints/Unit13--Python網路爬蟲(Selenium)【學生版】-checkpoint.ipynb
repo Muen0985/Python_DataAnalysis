{
 "cells": [
  {
   "cell_type": "markdown",
   "metadata": {},
   "source": [
    "【東吳大學資管系】資料工程實務與應用<br>\n",
    "【授課老師】[陳祥輝 (Email : HsiangHui.Chen@gmail.com)](mailto:HsiangHui.Chen@gmail.com)<br>\n",
    "【facebook】[陳祥輝老師的臉書 (歡迎加好友)](https://goo.gl/osivhx)<br>\n",
    "【相關課程】[陳祥輝老師的課程]\n",
    "- [【東吳大學推廣部】](https://www.ext.scu.edu.tw/courses_search.php?key=陳祥輝)\n",
    "- [【臺北大學推廣教育】](https://dce.ntpu.edu.tw/page-search.php?q=陳祥輝)"
   ]
  },
  {
   "cell_type": "markdown",
   "metadata": {},
   "source": [
    "### <font color=#0000FF>[【Selenium】](https://www.seleniumhq.org/)</font>\n",
    "1. <font color=#FF0000>Selenium IDE</font>\n",
    "2. <font color=#FF0000>Selenium WebDriver</font>\n",
    "    - [【Chrome WebDriver下載處】](https://sites.google.com/chromium.org/driver/)\n",
    "3. <font color=#FF0000>Selenium Remote Control</font>\n",
    "4. <font color=#FF0000>Selenium Grid</font>  "
   ]
  },
  {
   "cell_type": "markdown",
   "metadata": {},
   "source": [
    "#### 【Selenium IDE】資料來源 : <https://www.guru99.com/introduction-selenuim-ide.html>\n",
    "<img src='https://www.guru99.com/images/ide_-_labelled_parts.png' width=500 align=left></img>"
   ]
  },
  {
   "cell_type": "markdown",
   "metadata": {},
   "source": [
    "#### 【Selenium WebDriver】<br>\n",
    "<img src=\"http://180.218.162.136:2018/Images/Spider/Selenium001.jpg\" width=400 align=left></img>"
   ]
  },
  {
   "cell_type": "markdown",
   "metadata": {},
   "source": [
    "#### 【Selenium Remote Control】<br>\n",
    "<img src=\"http://180.218.162.136:2018/Images/Spider/Selenium002.jpg\" width=500 align=left></img>"
   ]
  },
  {
   "cell_type": "markdown",
   "metadata": {},
   "source": [
    "#### 【Selenium Grid】<br>\n",
    "<img src=\"http://180.218.162.136:2018/Images/Spider/Selenium003.jpg\" width=500 align=left></img>"
   ]
  },
  {
   "cell_type": "markdown",
   "metadata": {},
   "source": [
    "【可測試的網站】\n",
    "- [PCHOME 24h購物](https://24h.pchome.com.tw/)\n",
    "    - <https://24h.pchome.com.tw/>\n",
    "- [Fate/Grand Order](https://kazemai.github.io/fgo-vz/servant.html)\n",
    "    - <https://kazemai.github.io/fgo-vz/servant.html>"
   ]
  },
  {
   "cell_type": "code",
   "execution_count": null,
   "metadata": {},
   "outputs": [],
   "source": [
    "!pip install --upgrade BeautifulSoup4"
   ]
  },
  {
   "cell_type": "code",
   "execution_count": null,
   "metadata": {},
   "outputs": [],
   "source": [
    "!pip install --upgrade requests"
   ]
  },
  {
   "cell_type": "code",
   "execution_count": null,
   "metadata": {},
   "outputs": [],
   "source": [
    "!pip install selenium"
   ]
  },
  {
   "cell_type": "code",
   "execution_count": null,
   "metadata": {},
   "outputs": [],
   "source": [
    "#coding=utf-8\n",
    "from platform import python_version\n",
    "import sys, os, time, socket, json\n",
    "import numpy as np\n",
    "import pandas as pd\n",
    "from IPython.display import clear_output\n",
    "\n",
    "import selenium\n",
    "from selenium import webdriver\n",
    "from selenium.webdriver.common.desired_capabilities import DesiredCapabilities\n",
    "from selenium.webdriver.common.by import *\n",
    "\n",
    "import bs4\n",
    "from bs4 import BeautifulSoup\n",
    "import requests\n",
    "\n",
    "print(\"【現在時間】{}\".format(time.strftime(\"%Y/%m/%d %H:%M:%S\")))\n",
    "print(\"【所在目錄】{}\".format(os.getcwd()))\n",
    "print(\"【主機名稱】{} ({})\".format(socket.gethostname(),socket.gethostbyname(socket.gethostname())))\n",
    "print(\"【Python】{}\".format(python_version()))\n",
    "print(\"【BeautifulSoup4】{}\".format(bs4.__version__))\n",
    "print(\"【requests】{}\".format(requests.__version__))\n",
    "print(\"【Selenium】{}\".format(selenium.__version__))\n",
    "\n",
    "%autosave 120"
   ]
  },
  {
   "cell_type": "markdown",
   "metadata": {},
   "source": [
    "### <font color=#0000FF>安裝瀏覽器驅動程式</font>\n",
    "* [各個瀏覽器驅動下載網址](https://www.seleniumhq.org/download/)\n",
    "    * [Chrome瀏覽器驅動程式下載](https://chromedriver.storage.googleapis.com/index.html?path=2.38/)\n",
    "    * [Firefox瀏覽器驅動程式下載](https://github.com/mozilla/geckodriver/releases)\n",
    "\n",
    "----\n",
    "[安裝說明]\n",
    "1. 檔案下載後，至於某一目錄(例如 : C:\\WebDrivers)下解壓縮，例如 : <font color=#FF0000>C:\\WebDrivers</font>\n",
    "    -  <https://www.seleniumhq.org/download/>\n",
    "2. 使用方式分為以下兩種 : \n",
    "    - 在系統 PATH 加入該目錄(例如 : C:\\WebDrivers)\n",
    "        - driver=webdriver.Chrome()\n",
    "        - driver=webdriver.Firefox()\n",
    "    - 直接開啟驅動程式(chromedriver.exe / geckodriver.exe)\n",
    "        - driver=webdriver.Chrome(executable_path=r'D:\\WebDrivers\\chromedriver.exe')\n",
    "        - driver=webdriver.Firefox(executable_path=r'D:\\WebDrivers\\geckodriver.exe')"
   ]
  },
  {
   "cell_type": "markdown",
   "metadata": {},
   "source": [
    "### [WebDriver HTML Locating Elements API](https://selenium-python.readthedocs.io/locating-elements.html)\n",
    "\n",
    "To find an element:\n",
    "- <font color=#0000FF>find_element</font> : 以下幾種的通用寫法\n",
    "- find_element_by_id\n",
    "- find_element_by_name\n",
    "- find_element_by_xpath\n",
    "- find_element_by_link_text\n",
    "- find_element_by_partial_link_text\n",
    "- find_element_by_tag_name\n",
    "- find_element_by_class_name\n",
    "- find_element_by_css_selector\n",
    "\n",
    "To find multiple elements (these methods will return a list):\n",
    "- <font color=#0000FF>find_elements</font> : 以下幾種的通用寫法\n",
    "- find_elements_by_name\n",
    "- find_elements_by_xpath\n",
    "- find_elements_by_link_text\n",
    "- find_elements_by_partial_link_text\n",
    "- find_elements_by_tag_name\n",
    "- find_elements_by_class_name\n",
    "- find_elements_by_css_selector"
   ]
  },
  {
   "cell_type": "markdown",
   "metadata": {},
   "source": [
    "### <font color=#FF0000>Selenium的使用時機</font>\n",
    "- 為什麼使用一般的方式，卻抓不回看似簡單的新聞資料(例如 : 日期) ??\n",
    "- <https://www.wealth.com.tw/articles/05315bb9-6e08-4964-8b38-0010c6a619fa>\n",
    "- 優點 : 利用 Python 操控 Chrome 瀏覽器，可以解決 javascript 的問題\n",
    "- 缺點 : 很慢，還要常常使用 time.sleep(n)，否則執行太快會抓錯資料"
   ]
  },
  {
   "cell_type": "code",
   "execution_count": null,
   "metadata": {},
   "outputs": [],
   "source": [
    "url = 'https://www.wealth.com.tw/articles/05315bb9-6e08-4964-8b38-0010c6a619fa'\n",
    "resp = requests.request(method='GET', url=url)\n",
    "resp.encoding='utf-8'\n",
    "print(resp.text) "
   ]
  },
  {
   "cell_type": "markdown",
   "metadata": {},
   "source": [
    "### <font color=#FF0000>1. Selenium IDE (略)</font>"
   ]
  },
  {
   "cell_type": "code",
   "execution_count": null,
   "metadata": {},
   "outputs": [],
   "source": []
  },
  {
   "cell_type": "markdown",
   "metadata": {},
   "source": [
    "### <font color=#FF0000>2. Selenium WebDriver</font>"
   ]
  },
  {
   "cell_type": "markdown",
   "metadata": {},
   "source": [
    "<font color=#0000FF>如果驅動程式有在系統的 PATH 內，就可以不用指定可執行檔案，直接執行以下其中一個瀏覽器即可</font>\n",
    "- 可以利用以下查看目前系統環境的 PATH\n",
    "    - sys.path\n",
    "    - os.environ['path']\n",
    "    - os.environ.get('path')"
   ]
  },
  {
   "cell_type": "markdown",
   "metadata": {},
   "source": [
    "#### <font color=red>臨時性的將 C:\\WebDrivers 路徑加入環境變數 `PATH` 內</font>"
   ]
  },
  {
   "cell_type": "code",
   "execution_count": null,
   "metadata": {},
   "outputs": [],
   "source": []
  },
  {
   "cell_type": "code",
   "execution_count": null,
   "metadata": {},
   "outputs": [],
   "source": []
  },
  {
   "cell_type": "markdown",
   "metadata": {},
   "source": [
    "<font color=#0000FF>【啟動 Chrome 瀏覽器】</font>"
   ]
  },
  {
   "cell_type": "code",
   "execution_count": null,
   "metadata": {},
   "outputs": [],
   "source": []
  },
  {
   "cell_type": "markdown",
   "metadata": {},
   "source": [
    "#### <font color=#0000FF>連線 URL</font>"
   ]
  },
  {
   "cell_type": "code",
   "execution_count": null,
   "metadata": {},
   "outputs": [],
   "source": [
    "URL = 'http://news.ltn.com.tw/'"
   ]
  },
  {
   "cell_type": "code",
   "execution_count": null,
   "metadata": {},
   "outputs": [],
   "source": []
  },
  {
   "cell_type": "code",
   "execution_count": null,
   "metadata": {},
   "outputs": [],
   "source": []
  },
  {
   "cell_type": "markdown",
   "metadata": {},
   "source": [
    "<font color=#0000FF>webdriver的關閉函數</font>\n",
    "- webdriver.close() : 關閉 WebDriver 目前開啟的瀏覽器視窗\n",
    "- webdriver.quit() : 除了關閉開啟的瀏覽器視窗之外，也關閉 webdriver 物件"
   ]
  },
  {
   "cell_type": "code",
   "execution_count": null,
   "metadata": {},
   "outputs": [],
   "source": []
  },
  {
   "cell_type": "markdown",
   "metadata": {},
   "source": [
    "#### <font color=#0000FF>【同時開啟多個瀏覽器的控制】</font>"
   ]
  },
  {
   "cell_type": "code",
   "execution_count": null,
   "metadata": {},
   "outputs": [],
   "source": []
  },
  {
   "cell_type": "code",
   "execution_count": null,
   "metadata": {},
   "outputs": [],
   "source": []
  },
  {
   "cell_type": "code",
   "execution_count": null,
   "metadata": {},
   "outputs": [],
   "source": []
  },
  {
   "cell_type": "code",
   "execution_count": null,
   "metadata": {},
   "outputs": [],
   "source": []
  },
  {
   "cell_type": "code",
   "execution_count": null,
   "metadata": {},
   "outputs": [],
   "source": []
  },
  {
   "cell_type": "markdown",
   "metadata": {},
   "source": [
    "### <font color=#FF0000>3. Selenium Remote Control (略)</font>"
   ]
  },
  {
   "cell_type": "code",
   "execution_count": null,
   "metadata": {},
   "outputs": [],
   "source": []
  },
  {
   "cell_type": "markdown",
   "metadata": {},
   "source": [
    "### <font color=#FF0000>4.Selenium Grid (略)</font>"
   ]
  },
  {
   "cell_type": "code",
   "execution_count": null,
   "metadata": {},
   "outputs": [],
   "source": []
  },
  {
   "cell_type": "markdown",
   "metadata": {},
   "source": [
    "### <font color=#FF0000>5.練習Selenium的操作控制</font>\n",
    "- <font color=#0000FF>from selenium.webdriver.remote.webelement import WebElement</font>\n",
    "    - click() : 點擊滑鼠左鍵\n",
    "    - clear() : 清除資料\n",
    "    - send_keys() : 送出按鍵至目前的元素"
   ]
  },
  {
   "cell_type": "markdown",
   "metadata": {},
   "source": [
    "#### <font color=#0000FF>5-1. Selenium的操作控制--練習篇</font>\n",
    "- [練習Selenium的網頁](http://180.218.162.136:2018/練習Selenium操作用.html)"
   ]
  },
  {
   "cell_type": "code",
   "execution_count": null,
   "metadata": {},
   "outputs": [],
   "source": [
    "url = \"http://180.218.162.136:2018/練習Selenium操作用.html\""
   ]
  },
  {
   "cell_type": "code",
   "execution_count": null,
   "metadata": {},
   "outputs": [],
   "source": []
  },
  {
   "cell_type": "code",
   "execution_count": null,
   "metadata": {},
   "outputs": [],
   "source": []
  },
  {
   "cell_type": "markdown",
   "metadata": {},
   "source": [
    "#### <font color=#0000FF>5-2 Selenium的操作控制--PCHome 24h購物</font>\n",
    "- [PCHOME 24h購物](https://24h.pchome.com.tw/)"
   ]
  },
  {
   "cell_type": "code",
   "execution_count": null,
   "metadata": {},
   "outputs": [],
   "source": []
  },
  {
   "cell_type": "code",
   "execution_count": null,
   "metadata": {},
   "outputs": [],
   "source": []
  },
  {
   "cell_type": "code",
   "execution_count": null,
   "metadata": {},
   "outputs": [],
   "source": []
  },
  {
   "cell_type": "markdown",
   "metadata": {},
   "source": [
    "#### <font color=#0000FF>5-3 Selenium的操作控制--公開資訊觀測站</font>\n",
    "- [公開資訊觀測站](https://mops.twse.com.tw/mops/web/index)\n",
    "    - 【財務報表】→【採IFRSs後】→【合併個別報表】→【綜合損益表】"
   ]
  },
  {
   "cell_type": "code",
   "execution_count": null,
   "metadata": {},
   "outputs": [],
   "source": []
  },
  {
   "cell_type": "code",
   "execution_count": null,
   "metadata": {},
   "outputs": [],
   "source": []
  },
  {
   "cell_type": "code",
   "execution_count": null,
   "metadata": {},
   "outputs": [],
   "source": []
  }
 ],
 "metadata": {
  "kernelspec": {
   "display_name": "Python 3 (ipykernel)",
   "language": "python",
   "name": "python3"
  },
  "language_info": {
   "codemirror_mode": {
    "name": "ipython",
    "version": 3
   },
   "file_extension": ".py",
   "mimetype": "text/x-python",
   "name": "python",
   "nbconvert_exporter": "python",
   "pygments_lexer": "ipython3",
   "version": "3.9.12"
  }
 },
 "nbformat": 4,
 "nbformat_minor": 4
}
