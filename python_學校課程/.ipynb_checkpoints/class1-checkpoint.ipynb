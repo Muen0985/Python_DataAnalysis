{
 "cells": [
  {
   "cell_type": "code",
   "execution_count": 2,
   "id": "c291bd31",
   "metadata": {},
   "outputs": [],
   "source": [
    "# -*- coding: utf-8 -*-\n",
    "# coding=utf-8\n",
    "# coding:utf-8"
   ]
  },
  {
   "cell_type": "code",
   "execution_count": 10,
   "id": "3fad75d6",
   "metadata": {},
   "outputs": [],
   "source": [
    "import os, time, socket"
   ]
  },
  {
   "cell_type": "markdown",
   "id": "758c93cb",
   "metadata": {},
   "source": [
    "\\n : new line\n",
    "\\t : tab\n",
    "\\r : return (歸位鍵)"
   ]
  },
  {
   "cell_type": "code",
   "execution_count": 5,
   "id": "67c1d5fc",
   "metadata": {
    "scrolled": false
   },
   "outputs": [
    {
     "name": "stdout",
     "output_type": "stream",
     "text": [
      "11111\n",
      "2222\n",
      "33\n"
     ]
    }
   ],
   "source": [
    "x,y,z=11111,2222,33\n",
    "print(x,end=\"\\n\")\n",
    "print(y,end=\"\\n\")\n",
    "print(z,end=\"\\n\")"
   ]
  },
  {
   "cell_type": "code",
   "execution_count": 7,
   "id": "ad526341",
   "metadata": {
    "scrolled": false
   },
   "outputs": [
    {
     "name": "stdout",
     "output_type": "stream",
     "text": [
      "11111\n",
      "2222\n",
      "33\n"
     ]
    }
   ],
   "source": [
    "x,y,z=11111,2222,33\n",
    "print(x)\n",
    "print(y)\n",
    "print(z)"
   ]
  },
  {
   "cell_type": "code",
   "execution_count": 8,
   "id": "51c5ac8e",
   "metadata": {
    "scrolled": false
   },
   "outputs": [
    {
     "name": "stdout",
     "output_type": "stream",
     "text": [
      "11111\t2222\t33\t"
     ]
    }
   ],
   "source": [
    "x,y,z=11111,2222,33\n",
    "print(x,end=\"\\t\")\n",
    "print(y,end=\"\\t\")\n",
    "print(z,end=\"\\t\")"
   ]
  },
  {
   "cell_type": "code",
   "execution_count": 9,
   "id": "703eadc7",
   "metadata": {
    "scrolled": false
   },
   "outputs": [
    {
     "name": "stdout",
     "output_type": "stream",
     "text": [
      "11111\r",
      "2222\r",
      "33\r"
     ]
    }
   ],
   "source": [
    "x,y,z=11111,2222,33\n",
    "print(x,end=\"\\r\")\n",
    "print(y,end=\"\\r\")\n",
    "print(z,end=\"\\r\")"
   ]
  },
  {
   "cell_type": "code",
   "execution_count": null,
   "id": "be036433",
   "metadata": {},
   "outputs": [],
   "source": []
  },
  {
   "cell_type": "code",
   "execution_count": 12,
   "id": "915e07a1",
   "metadata": {},
   "outputs": [
    {
     "name": "stdout",
     "output_type": "stream",
     "text": [
      "5\r"
     ]
    }
   ],
   "source": [
    "print(1,end=\"\\r\")\n",
    "time.sleep(0.5)\n",
    "print(2,end=\"\\r\")\n",
    "time.sleep(0.5)\n",
    "print(3,end=\"\\r\")\n",
    "time.sleep(0.5)\n",
    "print(4,end=\"\\r\")\n",
    "time.sleep(0.5)\n",
    "print(5,end=\"\\r\")\n",
    "time.sleep(0.5)"
   ]
  },
  {
   "cell_type": "code",
   "execution_count": null,
   "id": "e36cdbfe",
   "metadata": {},
   "outputs": [],
   "source": [
    "x = 100 ; y = 200 ; z = 300\n",
    "print(x, y, z)\n",
    "print('x = {}, y = {}, z = {}'.format(x, y, z))  # 依序填入\n",
    "print('x = {0}, y = {1}, z = {2}'.format(x, y, z))  # 依據 index 填入\n",
    "print('x = {2}, y = {1}, z = {2}'.format(x, y, z))  # 依據 index 填入"
   ]
  },
  {
   "cell_type": "code",
   "execution_count": 17,
   "id": "56d74ffe",
   "metadata": {},
   "outputs": [
    {
     "name": "stdout",
     "output_type": "stream",
     "text": [
      "3.8\n",
      "3\n",
      "(6, 1)\n",
      "1\n"
     ]
    }
   ],
   "source": [
    "print(19/5)\n",
    "print(19//5)\n",
    "print(divmod(19,3))\n",
    "print(19%3)"
   ]
  },
  {
   "cell_type": "code",
   "execution_count": null,
   "id": "4e70d411",
   "metadata": {},
   "outputs": [],
   "source": []
  },
  {
   "cell_type": "markdown",
   "id": "7dc6c1d2",
   "metadata": {},
   "source": [
    "運算子\t說明\t                                        範例\n",
    "and\t  當兩邊皆為True，結果才會True，否則皆為False\t   x and y\n",
    "or\t  當兩邊其中有一個True，結果就會True，否則為False  x or y\n",
    "not\t  結果會與運算元(operand)相反\t                not x\n",
    "\n",
    "數學的四則運算，先乘除、後加減，所以是先 and 後 or"
   ]
  },
  {
   "cell_type": "code",
   "execution_count": null,
   "id": "eb9eabbb",
   "metadata": {},
   "outputs": [],
   "source": []
  },
  {
   "cell_type": "code",
   "execution_count": 18,
   "id": "efc7843c",
   "metadata": {},
   "outputs": [
    {
     "name": "stdout",
     "output_type": "stream",
     "text": [
      "x = 100, y = 100\n",
      "x id : 0x1a47c1555d0, y id = 0x1a47c1555d0\n",
      "x is y ? True\n",
      "-----------------------------\n",
      "x = 100, y = 130\n",
      "x id : 0x1a47c1555d0, y id = 0x1a47c155990\n",
      "x is y ? False\n"
     ]
    }
   ],
   "source": [
    "x = 100\n",
    "y = x \n",
    "print('x = {}, y = {}'.format(x, y))\n",
    "print('x id : {}, y id = {}'.format(hex(id(x)), hex(id(y))))\n",
    "print('x is y ? {}'.format(x is y))\n",
    "print('-----------------------------')\n",
    "y = x + 30\n",
    "print('x = {}, y = {}'.format(x, y))\n",
    "print('x id : {}, y id = {}'.format(hex(id(x)), hex(id(y))))\n",
    "print('x is y ? {}'.format(x is y))"
   ]
  },
  {
   "cell_type": "code",
   "execution_count": 19,
   "id": "0ac06aeb",
   "metadata": {},
   "outputs": [
    {
     "name": "stdout",
     "output_type": "stream",
     "text": [
      "x = [100, 200, 300], y = [100, 200, 300]\n",
      "x id : 0x1a40317e440, y id = 0x1a40317e440\n",
      "x is y ? True\n",
      "-----------------------------\n",
      "x = [900, 200, 300], y = [900, 200, 300]\n",
      "x id : 0x1a40317e440, y id = 0x1a40317e440\n",
      "x is y ? True\n"
     ]
    }
   ],
   "source": [
    "x = [100, 200, 300]\n",
    "y = x \n",
    "print('x = {}, y = {}'.format(x, y))\n",
    "print('x id : {}, y id = {}'.format(hex(id(x)), hex(id(y))))\n",
    "print('x is y ? {}'.format(x is y))\n",
    "print('-----------------------------')\n",
    "y[0] = 900\n",
    "print('x = {}, y = {}'.format(x, y))\n",
    "print('x id : {}, y id = {}'.format(hex(id(x)), hex(id(y))))\n",
    "print('x is y ? {}'.format(x is y))\n"
   ]
  },
  {
   "cell_type": "code",
   "execution_count": 20,
   "id": "be2857b6",
   "metadata": {},
   "outputs": [
    {
     "name": "stdout",
     "output_type": "stream",
     "text": [
      "x = [100, 200, 300], y = [100, 200, 300]\n",
      "x id : 0x1a4031bbd40, y id = 0x1a403185e00\n",
      "x is y ? False\n",
      "-----------------------------\n",
      "x = [100, 200, 300], y = [900, 200, 300]\n",
      "x id : 0x1a4031bbd40, y id = 0x1a403185e00\n",
      "x is y ? False\n"
     ]
    }
   ],
   "source": [
    "x = [100, 200, 300]\n",
    "y = x.copy() \n",
    "print('x = {}, y = {}'.format(x, y))\n",
    "print('x id : {}, y id = {}'.format(hex(id(x)), hex(id(y))))\n",
    "print('x is y ? {}'.format(x is y))\n",
    "print('-----------------------------')\n",
    "y[0] = 900\n",
    "print('x = {}, y = {}'.format(x, y))\n",
    "print('x id : {}, y id = {}'.format(hex(id(x)), hex(id(y))))\n",
    "print('x is y ? {}'.format(x is y))"
   ]
  },
  {
   "cell_type": "code",
   "execution_count": null,
   "id": "6f47cdf4",
   "metadata": {},
   "outputs": [],
   "source": []
  },
  {
   "cell_type": "code",
   "execution_count": 22,
   "id": "35c1b897",
   "metadata": {},
   "outputs": [
    {
     "name": "stdout",
     "output_type": "stream",
     "text": [
      "True\n",
      "False\n"
     ]
    }
   ],
   "source": [
    "print(6 in [134,23, 32,6])\n",
    "print('x' not in ['x','dw',23,32,6])"
   ]
  },
  {
   "cell_type": "code",
   "execution_count": 24,
   "id": "4510bb52",
   "metadata": {},
   "outputs": [],
   "source": [
    "import math"
   ]
  },
  {
   "cell_type": "code",
   "execution_count": 25,
   "id": "0c2f26e6",
   "metadata": {},
   "outputs": [
    {
     "data": {
      "text/plain": [
       "nan"
      ]
     },
     "execution_count": 25,
     "metadata": {},
     "output_type": "execute_result"
    }
   ],
   "source": [
    "math.nan"
   ]
  },
  {
   "cell_type": "code",
   "execution_count": 26,
   "id": "e4c594b6",
   "metadata": {},
   "outputs": [
    {
     "name": "stdout",
     "output_type": "stream",
     "text": [
      "<class 'float'>\n"
     ]
    }
   ],
   "source": [
    "print(type(math.nan))"
   ]
  },
  {
   "cell_type": "code",
   "execution_count": 27,
   "id": "e6524ce8",
   "metadata": {},
   "outputs": [
    {
     "name": "stdout",
     "output_type": "stream",
     "text": [
      "3.141592653589793\n"
     ]
    }
   ],
   "source": [
    "print(math.pi)"
   ]
  },
  {
   "cell_type": "code",
   "execution_count": 29,
   "id": "8121af52",
   "metadata": {},
   "outputs": [
    {
     "name": "stdout",
     "output_type": "stream",
     "text": [
      "8.0\n",
      "8\n"
     ]
    }
   ],
   "source": [
    "print(math.pow(2,3))\n",
    "print(pow(2,3))"
   ]
  },
  {
   "cell_type": "code",
   "execution_count": null,
   "id": "30cbf06a",
   "metadata": {},
   "outputs": [],
   "source": []
  },
  {
   "cell_type": "code",
   "execution_count": null,
   "id": "dcf9df5e",
   "metadata": {},
   "outputs": [],
   "source": []
  },
  {
   "cell_type": "code",
   "execution_count": null,
   "id": "b0aa8b9c",
   "metadata": {},
   "outputs": [],
   "source": []
  },
  {
   "cell_type": "code",
   "execution_count": null,
   "id": "3170bafe",
   "metadata": {},
   "outputs": [],
   "source": []
  },
  {
   "cell_type": "code",
   "execution_count": null,
   "id": "fefed292",
   "metadata": {},
   "outputs": [],
   "source": []
  },
  {
   "cell_type": "code",
   "execution_count": null,
   "id": "190ecfdd",
   "metadata": {},
   "outputs": [],
   "source": []
  },
  {
   "cell_type": "code",
   "execution_count": null,
   "id": "2976bfd4",
   "metadata": {},
   "outputs": [],
   "source": []
  },
  {
   "cell_type": "code",
   "execution_count": null,
   "id": "132bc041",
   "metadata": {},
   "outputs": [],
   "source": []
  },
  {
   "cell_type": "code",
   "execution_count": null,
   "id": "8ecd8372",
   "metadata": {},
   "outputs": [],
   "source": []
  }
 ],
 "metadata": {
  "kernelspec": {
   "display_name": "Python 3 (ipykernel)",
   "language": "python",
   "name": "python3"
  },
  "language_info": {
   "codemirror_mode": {
    "name": "ipython",
    "version": 3
   },
   "file_extension": ".py",
   "mimetype": "text/x-python",
   "name": "python",
   "nbconvert_exporter": "python",
   "pygments_lexer": "ipython3",
   "version": "3.9.12"
  }
 },
 "nbformat": 4,
 "nbformat_minor": 5
}
