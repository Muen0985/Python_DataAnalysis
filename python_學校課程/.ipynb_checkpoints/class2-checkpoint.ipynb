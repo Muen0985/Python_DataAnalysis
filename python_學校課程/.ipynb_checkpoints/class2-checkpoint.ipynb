{
 "cells": [
  {
   "cell_type": "code",
   "execution_count": 2,
   "id": "301893f3",
   "metadata": {},
   "outputs": [],
   "source": [
    "# coding : utf-8"
   ]
  },
  {
   "cell_type": "code",
   "execution_count": 3,
   "id": "011649e0",
   "metadata": {},
   "outputs": [],
   "source": [
    "import os, time, socket"
   ]
  },
  {
   "cell_type": "code",
   "execution_count": 4,
   "id": "fe225b1d",
   "metadata": {},
   "outputs": [
    {
     "name": "stdout",
     "output_type": "stream",
     "text": [
      "[3, 4, 5, 5, 6, 7]\n"
     ]
    }
   ],
   "source": [
    "A = [3, 4, 5]\n",
    "B = [5, 6, 7]\n",
    "print(A + B)"
   ]
  },
  {
   "cell_type": "code",
   "execution_count": 5,
   "id": "d7394908",
   "metadata": {},
   "outputs": [
    {
     "name": "stdout",
     "output_type": "stream",
     "text": [
      "[3, 4, 5, 5, 6, 7]\n"
     ]
    }
   ],
   "source": [
    "A = [3, 4, 5]\n",
    "B = [5, 6, 7]\n",
    "A.extend(B)\n",
    "print(A)"
   ]
  },
  {
   "cell_type": "code",
   "execution_count": 2,
   "id": "b0b717e5",
   "metadata": {},
   "outputs": [
    {
     "name": "stdout",
     "output_type": "stream",
     "text": [
      "[10, 20, 30]\n",
      "[10, 20, 30, [5, 6, 7]]\n",
      "4\n",
      "[10, 20, 30, [5, 6, 7], 5, 6, 7]\n"
     ]
    }
   ],
   "source": [
    "A = []\n",
    "B = [5, 6, 7]\n",
    "A.append(10)\n",
    "A.append(20)\n",
    "A.append(30)\n",
    "print(A)\n",
    "\n",
    "A.append(B)\n",
    "print(A)\n",
    "print(len(A))   # length\n",
    "A.extend(B)\n",
    "print(A)"
   ]
  },
  {
   "cell_type": "code",
   "execution_count": 8,
   "id": "850747f5",
   "metadata": {},
   "outputs": [
    {
     "data": {
      "text/plain": [
       "[3, 5, 10, 6, 7, 8]"
      ]
     },
     "execution_count": 8,
     "metadata": {},
     "output_type": "execute_result"
    }
   ],
   "source": [
    "A = [3, 5, 6, 7, 8]\n",
    "A.insert(2,10)\n",
    "A"
   ]
  },
  {
   "cell_type": "code",
   "execution_count": 3,
   "id": "cd97066d",
   "metadata": {},
   "outputs": [
    {
     "name": "stdout",
     "output_type": "stream",
     "text": [
      "[5, 6, 3, 8]\n",
      "[5, 6, 8]\n"
     ]
    },
    {
     "ename": "ValueError",
     "evalue": "list.remove(x): x not in list",
     "output_type": "error",
     "traceback": [
      "\u001b[1;31m---------------------------------------------------------------------------\u001b[0m",
      "\u001b[1;31mValueError\u001b[0m                                Traceback (most recent call last)",
      "\u001b[1;32m~\\AppData\\Local\\Temp\\ipykernel_19104\\2988150716.py\u001b[0m in \u001b[0;36m<module>\u001b[1;34m\u001b[0m\n\u001b[0;32m      5\u001b[0m \u001b[0mprint\u001b[0m\u001b[1;33m(\u001b[0m\u001b[0mA\u001b[0m\u001b[1;33m)\u001b[0m\u001b[1;33m\u001b[0m\u001b[1;33m\u001b[0m\u001b[0m\n\u001b[0;32m      6\u001b[0m \u001b[1;31m#-------------\u001b[0m\u001b[1;33m\u001b[0m\u001b[1;33m\u001b[0m\u001b[0m\n\u001b[1;32m----> 7\u001b[1;33m \u001b[0mA\u001b[0m\u001b[1;33m.\u001b[0m\u001b[0mremove\u001b[0m\u001b[1;33m(\u001b[0m\u001b[1;36m3\u001b[0m\u001b[1;33m)\u001b[0m\u001b[1;33m\u001b[0m\u001b[1;33m\u001b[0m\u001b[0m\n\u001b[0m\u001b[0;32m      8\u001b[0m \u001b[0mprint\u001b[0m\u001b[1;33m(\u001b[0m\u001b[0mA\u001b[0m\u001b[1;33m)\u001b[0m\u001b[1;33m\u001b[0m\u001b[1;33m\u001b[0m\u001b[0m\n",
      "\u001b[1;31mValueError\u001b[0m: list.remove(x): x not in list"
     ]
    }
   ],
   "source": [
    "A = [3, 5, 6, 3, 8]\n",
    "A.remove(3) #remove from the left\n",
    "print(A)\n",
    "A.remove(3)\n",
    "print(A)\n",
    "#-------------\n",
    "A.remove(3)\n",
    "print(A)"
   ]
  },
  {
   "cell_type": "code",
   "execution_count": 13,
   "id": "70ac2a90",
   "metadata": {},
   "outputs": [
    {
     "name": "stdout",
     "output_type": "stream",
     "text": [
      "8\n",
      "5\n",
      "7\n",
      "6\n",
      "[3]\n"
     ]
    }
   ],
   "source": [
    "A = [3, 5, 6, 7, 8]\n",
    "print(A.pop()) # pop from the right as default\n",
    "print(A.pop(1)) # assign the index\n",
    "print(A.pop())\n",
    "print(A.pop())\n",
    "print(A)"
   ]
  },
  {
   "cell_type": "code",
   "execution_count": 14,
   "id": "053259ca",
   "metadata": {},
   "outputs": [
    {
     "name": "stdout",
     "output_type": "stream",
     "text": [
      "[]\n"
     ]
    }
   ],
   "source": [
    "A = [3, 5, 6, 7, 8]\n",
    "A.clear()\n",
    "print(A)"
   ]
  },
  {
   "cell_type": "code",
   "execution_count": 4,
   "id": "c3be376d",
   "metadata": {},
   "outputs": [
    {
     "name": "stdout",
     "output_type": "stream",
     "text": [
      "0\n",
      "5\n"
     ]
    }
   ],
   "source": [
    "A = [3, 5, 6, 7, 9, 3, 8]\n",
    "print(A.index(3)) # find the element's position,start from left\n",
    "print(A.index(3, 2)) # spicefic start or range"
   ]
  },
  {
   "cell_type": "code",
   "execution_count": 17,
   "id": "8dea3abb",
   "metadata": {},
   "outputs": [
    {
     "data": {
      "text/plain": [
       "3"
      ]
     },
     "execution_count": 17,
     "metadata": {},
     "output_type": "execute_result"
    }
   ],
   "source": [
    "A = [3, 5, 6, 7, 9, 3,8,25,2,3]\n",
    "A.count(3)"
   ]
  },
  {
   "cell_type": "code",
   "execution_count": 19,
   "id": "5dd0ef69",
   "metadata": {},
   "outputs": [
    {
     "name": "stdout",
     "output_type": "stream",
     "text": [
      "[9, 8, 7, 6, 5, 3, 3]\n",
      "[3, 3, 5, 6, 7, 8, 9]\n"
     ]
    }
   ],
   "source": [
    "A = [3, 5, 6, 7, 9, 3, 8]\n",
    "A.sort(reverse=True)\n",
    "print(A)\n",
    "A.sort(reverse=False) # default\n",
    "print(A)"
   ]
  },
  {
   "cell_type": "code",
   "execution_count": 1,
   "id": "c39f56fb",
   "metadata": {},
   "outputs": [
    {
     "data": {
      "text/plain": [
       "[8, 3, 9, 7, 6, 5, 3]"
      ]
     },
     "execution_count": 1,
     "metadata": {},
     "output_type": "execute_result"
    }
   ],
   "source": [
    "A = [3, 5, 6, 7, 9, 3, 8]\n",
    "A.reverse() # 整個序列反轉\n",
    "A"
   ]
  },
  {
   "cell_type": "code",
   "execution_count": 7,
   "id": "9eafeaa3",
   "metadata": {},
   "outputs": [
    {
     "data": {
      "text/plain": [
       "[3, 5, 6, 7, 9]"
      ]
     },
     "execution_count": 7,
     "metadata": {},
     "output_type": "execute_result"
    }
   ],
   "source": [
    "A[0:5] # 代表reverse 只是表面的並不是真的反轉"
   ]
  },
  {
   "cell_type": "code",
   "execution_count": 22,
   "id": "8b5feb29",
   "metadata": {},
   "outputs": [
    {
     "data": {
      "text/plain": [
       "[100, 101, 102, 103, 104, 105, 106, 107, 108, 109, 110]"
      ]
     },
     "execution_count": 22,
     "metadata": {},
     "output_type": "execute_result"
    }
   ],
   "source": [
    "list(range(100,111))"
   ]
  },
  {
   "cell_type": "code",
   "execution_count": 23,
   "id": "1beeaa38",
   "metadata": {},
   "outputs": [
    {
     "ename": "NameError",
     "evalue": "name 'lst' is not defined",
     "output_type": "error",
     "traceback": [
      "\u001b[1;31m---------------------------------------------------------------------------\u001b[0m",
      "\u001b[1;31mNameError\u001b[0m                                 Traceback (most recent call last)",
      "\u001b[1;32m~\\AppData\\Local\\Temp\\ipykernel_29836\\3896868690.py\u001b[0m in \u001b[0;36m<module>\u001b[1;34m\u001b[0m\n\u001b[0;32m      1\u001b[0m \u001b[0mlst\u001b[0m \u001b[1;33m=\u001b[0m \u001b[0mlist\u001b[0m\u001b[1;33m(\u001b[0m\u001b[0mrange\u001b[0m\u001b[1;33m(\u001b[0m\u001b[1;36m100\u001b[0m\u001b[1;33m,\u001b[0m \u001b[1;36m110\u001b[0m\u001b[1;33m+\u001b[0m\u001b[1;36m1\u001b[0m\u001b[1;33m)\u001b[0m\u001b[1;33m)\u001b[0m\u001b[1;33m\u001b[0m\u001b[1;33m\u001b[0m\u001b[0m\n\u001b[0;32m      2\u001b[0m \u001b[1;32mdel\u001b[0m \u001b[0mlst\u001b[0m\u001b[1;33m\u001b[0m\u001b[1;33m\u001b[0m\u001b[0m\n\u001b[1;32m----> 3\u001b[1;33m \u001b[0mprint\u001b[0m\u001b[1;33m(\u001b[0m\u001b[0mlst\u001b[0m\u001b[1;33m)\u001b[0m\u001b[1;33m\u001b[0m\u001b[1;33m\u001b[0m\u001b[0m\n\u001b[0m",
      "\u001b[1;31mNameError\u001b[0m: name 'lst' is not defined"
     ]
    }
   ],
   "source": [
    "lst = list(range(100, 110+1))\n",
    "del lst\n",
    "print(lst)"
   ]
  },
  {
   "cell_type": "code",
   "execution_count": 24,
   "id": "1fbd1d1b",
   "metadata": {},
   "outputs": [
    {
     "name": "stdout",
     "output_type": "stream",
     "text": [
      "[100, 101, 102, 103, 104, 105, 106, 107, 108, 109, 110]\n",
      "[100, 101, 102, 103, 104, 105, 106, 107, 108, 109, 110]\n",
      "103\n",
      "[100, 101, 102]\n",
      "[102, 103, 104, 105, 106, 107]\n",
      "[105, 106, 107, 108, 109, 110]\n",
      "[102, 105]\n"
     ]
    }
   ],
   "source": [
    "lst = list(range(100, 110+1))\n",
    "print(lst)\n",
    "print(lst[:])\n",
    "print(lst[3])\n",
    "print(lst[:3])    # 講人話 : 前 3 個\n",
    "print(lst[2:8])\n",
    "print(lst[5:])\n",
    "print(lst[2:8:3])"
   ]
  },
  {
   "cell_type": "code",
   "execution_count": 28,
   "id": "8e2490fe",
   "metadata": {},
   "outputs": [
    {
     "name": "stdout",
     "output_type": "stream",
     "text": [
      "[100, 101, 102, 103, 104, 105, 106, 107, 108, 109, 110]\n",
      "108\n",
      "[105, 106, 107]\n",
      "[108, 109, 110]\n",
      "[110, 109, 108, 107, 106, 105, 104, 103, 102, 101, 100]\n",
      "[110, 108, 106, 104, 102, 100]\n"
     ]
    }
   ],
   "source": [
    "lst = list(range(100, 110+1))\n",
    "print(lst)\n",
    "print(lst[-3])\n",
    "print(lst[-6:-3])\n",
    "print(lst[-3:])   # 講人話 : 後 3 個\n",
    "print(lst[::-1]) # 整個反轉,不會真的改變串列\n",
    "print(lst[::-2])"
   ]
  },
  {
   "cell_type": "code",
   "execution_count": null,
   "id": "d4b5de19",
   "metadata": {},
   "outputs": [],
   "source": []
  },
  {
   "cell_type": "markdown",
   "id": "56a9cc85",
   "metadata": {},
   "source": [
    "Tuples are immutable(不可變), and usually contain a heterogeneous(異質) sequence of elements that are accessed via unpacking (see later in this section) or indexing (or even by attribute in the case of namedtuples)."
   ]
  },
  {
   "cell_type": "code",
   "execution_count": 33,
   "id": "b54f4766",
   "metadata": {},
   "outputs": [
    {
     "name": "stdout",
     "output_type": "stream",
     "text": [
      "(3, 5, 7, 2, 7, 4, 6)\n"
     ]
    },
    {
     "ename": "TypeError",
     "evalue": "'tuple' object does not support item assignment",
     "output_type": "error",
     "traceback": [
      "\u001b[1;31m---------------------------------------------------------------------------\u001b[0m",
      "\u001b[1;31mTypeError\u001b[0m                                 Traceback (most recent call last)",
      "\u001b[1;32m~\\AppData\\Local\\Temp\\ipykernel_29836\\17091857.py\u001b[0m in \u001b[0;36m<module>\u001b[1;34m\u001b[0m\n\u001b[0;32m      2\u001b[0m \u001b[0mt2\u001b[0m \u001b[1;33m=\u001b[0m \u001b[1;33m(\u001b[0m\u001b[1;36m2\u001b[0m\u001b[1;33m,\u001b[0m \u001b[1;36m7\u001b[0m\u001b[1;33m,\u001b[0m \u001b[1;36m4\u001b[0m\u001b[1;33m,\u001b[0m \u001b[1;36m6\u001b[0m\u001b[1;33m)\u001b[0m\u001b[1;33m\u001b[0m\u001b[1;33m\u001b[0m\u001b[0m\n\u001b[0;32m      3\u001b[0m \u001b[0mprint\u001b[0m\u001b[1;33m(\u001b[0m\u001b[0mt1\u001b[0m \u001b[1;33m+\u001b[0m \u001b[0mt2\u001b[0m\u001b[1;33m)\u001b[0m\u001b[1;33m\u001b[0m\u001b[1;33m\u001b[0m\u001b[0m\n\u001b[1;32m----> 4\u001b[1;33m \u001b[0mt1\u001b[0m\u001b[1;33m[\u001b[0m\u001b[1;36m0\u001b[0m\u001b[1;33m]\u001b[0m \u001b[1;33m=\u001b[0m \u001b[1;36m100\u001b[0m          \u001b[1;31m# tuple 不得變更資料，所以發生 exception\u001b[0m\u001b[1;33m\u001b[0m\u001b[1;33m\u001b[0m\u001b[0m\n\u001b[0m",
      "\u001b[1;31mTypeError\u001b[0m: 'tuple' object does not support item assignment"
     ]
    }
   ],
   "source": [
    "t1 = (3, 5, 7)\n",
    "t2 = (2, 7, 4, 6)\n",
    "print(t1 + t2)\n",
    "t1[0] = 100          # tuple 不得變更資料，所以發生 exception"
   ]
  },
  {
   "cell_type": "code",
   "execution_count": 34,
   "id": "c119bbd4",
   "metadata": {
    "scrolled": true
   },
   "outputs": [
    {
     "name": "stdout",
     "output_type": "stream",
     "text": [
      "{3, 5, 6, 7, 8, 9, 10}\n",
      "7\n"
     ]
    }
   ],
   "source": [
    "A = [3,5,7,8,3,5,8,9,10,3,5,6,7]\n",
    "print(set(A)) # 只會保留不同的值\n",
    "print(len(set(A)))"
   ]
  },
  {
   "cell_type": "code",
   "execution_count": 23,
   "id": "1e46a3df",
   "metadata": {},
   "outputs": [
    {
     "name": "stdout",
     "output_type": "stream",
     "text": [
      "{'d', 'y', 'e', 'b', 'a'}\n",
      "1 2 2 2 2 "
     ]
    }
   ],
   "source": [
    "d=['a','b','b','d','e','y','e','y','a']\n",
    "k=set(d)\n",
    "print(k)\n",
    "for n in k :\n",
    "    print(d.count(n),end=' ')"
   ]
  },
  {
   "cell_type": "code",
   "execution_count": 41,
   "id": "fc60d606",
   "metadata": {},
   "outputs": [
    {
     "name": "stdout",
     "output_type": "stream",
     "text": [
      "{1, 2, 3, 4, 5}\n",
      "{4}\n",
      "{1, 2, 3}\n",
      "{5}\n",
      "{1, 2, 3, 5}\n"
     ]
    }
   ],
   "source": [
    "a = {1,2,3,4}\n",
    "b = {4,5}\n",
    "print(a | b) # 聯集\n",
    "print(a & b)\n",
    "print(a-b)\n",
    "print(b-a)\n",
    "print(a^b) # 對稱式差集"
   ]
  },
  {
   "cell_type": "code",
   "execution_count": null,
   "id": "4ca3877a",
   "metadata": {},
   "outputs": [],
   "source": []
  },
  {
   "cell_type": "code",
   "execution_count": 42,
   "id": "6a8fad4b",
   "metadata": {},
   "outputs": [],
   "source": [
    "d1 = {}            # python的寫法\n",
    "d2 = dict()        # 物件導向的寫法"
   ]
  },
  {
   "cell_type": "code",
   "execution_count": 24,
   "id": "eda997bb",
   "metadata": {},
   "outputs": [
    {
     "name": "stdout",
     "output_type": "stream",
     "text": [
      "500\n",
      "500\n",
      "a\n",
      "['x', 'y', 'z']\n",
      "{3, 5, 7}\n"
     ]
    }
   ],
   "source": [
    "d1 = {'a':100, 'b':200, 'c':300, 'a':500, 'd':400}        # key:value\n",
    "d2 = {100:'a', 200:['x', 'y', 'z'], 300:{3, 5, 7}}\n",
    "\n",
    "print(d1['a'])      # python的寫法\n",
    "print(d1.get('a'))  # 物件導向寫法\n",
    "\n",
    "print(d2.get(100))\n",
    "print(d2.get(200))\n",
    "print(d2.get(300))"
   ]
  },
  {
   "cell_type": "code",
   "execution_count": 30,
   "id": "05ce6f59",
   "metadata": {},
   "outputs": [
    {
     "name": "stdout",
     "output_type": "stream",
     "text": [
      "{1: 'a', 2: 'b'}\n",
      "b\n",
      "b\n"
     ]
    }
   ],
   "source": [
    "dp={1:'a'}\n",
    "dp[2]='b'\n",
    "print(dp)\n",
    "print(dp.get(2))\n",
    "print(dp[2])"
   ]
  },
  {
   "cell_type": "markdown",
   "id": "033a502f",
   "metadata": {},
   "source": [
    "/ : 左邊參數一定是位置參數(positional argument)\n",
    "* : 右邊參數一定是關鍵參數(keyword argument)"
   ]
  },
  {
   "cell_type": "code",
   "execution_count": 44,
   "id": "2e185cfc",
   "metadata": {},
   "outputs": [
    {
     "name": "stdout",
     "output_type": "stream",
     "text": [
      "None\n",
      "0\n",
      "就是找不到\n"
     ]
    },
    {
     "ename": "KeyError",
     "evalue": "'x'",
     "output_type": "error",
     "traceback": [
      "\u001b[1;31m---------------------------------------------------------------------------\u001b[0m",
      "\u001b[1;31mKeyError\u001b[0m                                  Traceback (most recent call last)",
      "\u001b[1;32m~\\AppData\\Local\\Temp\\ipykernel_29836\\2935210316.py\u001b[0m in \u001b[0;36m<module>\u001b[1;34m\u001b[0m\n\u001b[0;32m      7\u001b[0m \u001b[1;31m# print(d1.get('x', default=0))    # 會發生錯誤\u001b[0m\u001b[1;33m\u001b[0m\u001b[1;33m\u001b[0m\u001b[0m\n\u001b[0;32m      8\u001b[0m \u001b[1;33m\u001b[0m\u001b[0m\n\u001b[1;32m----> 9\u001b[1;33m \u001b[0mprint\u001b[0m\u001b[1;33m(\u001b[0m\u001b[0md1\u001b[0m\u001b[1;33m[\u001b[0m\u001b[1;34m'x'\u001b[0m\u001b[1;33m]\u001b[0m\u001b[1;33m)\u001b[0m                     \u001b[1;31m# 報錯\u001b[0m\u001b[1;33m\u001b[0m\u001b[1;33m\u001b[0m\u001b[0m\n\u001b[0m",
      "\u001b[1;31mKeyError\u001b[0m: 'x'"
     ]
    }
   ],
   "source": [
    "d1 = {'a':100, 'b':200, 'c':300, 'a':500, 'd':400} \n",
    "\n",
    "# 找不到 key 時的預設值\n",
    "print(d1.get('x'))\n",
    "print(d1.get('x', 0))\n",
    "print(d1.get('x', '就是找不到'))\n",
    "# print(d1.get('x', default=0))    # 會發生錯誤\n",
    "\n",
    "print(d1['x'])                     # 報錯"
   ]
  },
  {
   "cell_type": "code",
   "execution_count": 45,
   "id": "ccb84b57",
   "metadata": {},
   "outputs": [
    {
     "name": "stdout",
     "output_type": "stream",
     "text": [
      "None\n",
      "800\n",
      "700\n",
      "None\n"
     ]
    }
   ],
   "source": [
    "d1 = {'a':100, 'b':200, 'c':300, 'a':500, 'd':400} \n",
    "\n",
    "print(d1.get('x'))         # 'x' 不存在\n",
    "d1['x'] = 800              # 形同新增\n",
    "print(d1.get('x'))         # 'x' 已經存在\n",
    "d1['x'] = 700              # 形同修改\n",
    "print(d1.get('x'))         # 'x' 已經存在\n",
    "del d1['x']                # 形同刪除\n",
    "print(d1.get('x'))         # 'x' 不存在"
   ]
  },
  {
   "cell_type": "code",
   "execution_count": 31,
   "id": "08e18758",
   "metadata": {},
   "outputs": [],
   "source": [
    "import string"
   ]
  },
  {
   "cell_type": "code",
   "execution_count": 47,
   "id": "4de3d06d",
   "metadata": {},
   "outputs": [
    {
     "name": "stdout",
     "output_type": "stream",
     "text": [
      "['a', 'b', 'c', 'd', 'e', 'f', 'g', 'h', 'i', 'j', 'k', 'l', 'm', 'n', 'o', 'p', 'q', 'r', 's', 't', 'u', 'v', 'w', 'x', 'y', 'z']\n",
      "[1, 2, 3, 4, 5, 6, 7, 8, 9, 10, 11, 12, 13, 14, 15, 16, 17, 18, 19, 20, 21, 22, 23, 24, 25, 26]\n",
      "dict_items([('a', 1), ('b', 2), ('c', 3), ('d', 4), ('e', 5), ('f', 6), ('g', 7), ('h', 8), ('i', 9), ('j', 10), ('k', 11), ('l', 12), ('m', 13), ('n', 14), ('o', 15), ('p', 16), ('q', 17), ('r', 18), ('s', 19), ('t', 20), ('u', 21), ('v', 22), ('w', 23), ('x', 24), ('y', 25), ('z', 26)])\n"
     ]
    }
   ],
   "source": [
    "x=list(string.ascii_lowercase)\n",
    "y=list(range(1,len(x)+1))\n",
    "print(x)\n",
    "print(y)\n",
    "dic=dict(zip(x,y))\n",
    "print(dic.items())"
   ]
  },
  {
   "cell_type": "code",
   "execution_count": 46,
   "id": "f77b0b06",
   "metadata": {},
   "outputs": [
    {
     "name": "stdout",
     "output_type": "stream",
     "text": [
      "False\n",
      "True\n",
      "-------------------------\n",
      "True\n",
      "False\n"
     ]
    }
   ],
   "source": [
    "d1 = {'a':100, 'b':200, 'c':300, 'a':500, 'd':400} \n",
    "\n",
    "print('x' in d1)\n",
    "print('x' not in d1)\n",
    "print('-------------------------')\n",
    "print(d1.get('x') is None)\n",
    "print(d1.get('x') is not None)"
   ]
  },
  {
   "cell_type": "code",
   "execution_count": 51,
   "id": "867d96a5",
   "metadata": {},
   "outputs": [
    {
     "name": "stdout",
     "output_type": "stream",
     "text": [
      "dict_keys(['a', 'b', 'c', 'd'])\n",
      "dict_values([500, 200, 300, 400])\n",
      "dict_items([('a', 500), ('b', 200), ('c', 300), ('d', 400)])\n"
     ]
    }
   ],
   "source": [
    "d1 = {'a':100, 'b':200, 'c':300, 'a':500, 'd':400} \n",
    "\n",
    "print(d1.keys())\n",
    "print(d1.values())\n",
    "print(d1.items())"
   ]
  },
  {
   "cell_type": "code",
   "execution_count": null,
   "id": "86695fd7",
   "metadata": {},
   "outputs": [],
   "source": []
  },
  {
   "cell_type": "code",
   "execution_count": 52,
   "id": "9ef10fe9",
   "metadata": {
    "scrolled": true
   },
   "outputs": [
    {
     "name": "stdout",
     "output_type": "stream",
     "text": [
      "x = 6579076.897897, y = 0.9798686, z= 36\n",
      "x = +6,579,076.898, y = 97.99%, z= 00036\n",
      "x = +6,579,076.898, y = 97.99%, z= 00036\n"
     ]
    }
   ],
   "source": [
    "x = 6579076.897897 ; y = 0.9798686 ; z = 36\n",
    "print('x = {}, y = {}, z= {}'.format(x, y, z))\n",
    "print('x = {:+,.3f}, y = {:.2%}, z= {:0>5d}'.format(x, y, z))\n",
    "print('x = {0:+,.3f}, y = {1:.2%}, z= {2:0>5d}'.format(x, y, z))"
   ]
  },
  {
   "cell_type": "code",
   "execution_count": 53,
   "id": "57c529b3",
   "metadata": {},
   "outputs": [
    {
     "name": "stdout",
     "output_type": "stream",
     "text": [
      "x = 6579076.897897, y = 0.9798686, z= 36\n",
      "x = +6,579,081.898, y = 97.99%, z= 00036\n"
     ]
    }
   ],
   "source": [
    "x = 6579076.897897 ; y = 0.9798686 ; z = 36\n",
    "print(f'x = {x}, y = {y}, z= {z}')\n",
    "print(f'x = {x+5:+,.3f}, y = {y:.2%}, z= {z:0>5d}')"
   ]
  },
  {
   "cell_type": "code",
   "execution_count": null,
   "id": "4503170a",
   "metadata": {},
   "outputs": [],
   "source": []
  },
  {
   "cell_type": "code",
   "execution_count": null,
   "id": "c46b22f1",
   "metadata": {},
   "outputs": [],
   "source": []
  },
  {
   "cell_type": "code",
   "execution_count": null,
   "id": "27688b8b",
   "metadata": {},
   "outputs": [],
   "source": []
  },
  {
   "cell_type": "code",
   "execution_count": null,
   "id": "19b58e9e",
   "metadata": {},
   "outputs": [],
   "source": []
  },
  {
   "cell_type": "code",
   "execution_count": null,
   "id": "318d8647",
   "metadata": {},
   "outputs": [],
   "source": []
  },
  {
   "cell_type": "code",
   "execution_count": null,
   "id": "5a59dc78",
   "metadata": {},
   "outputs": [],
   "source": []
  }
 ],
 "metadata": {
  "kernelspec": {
   "display_name": "Python 3 (ipykernel)",
   "language": "python",
   "name": "python3"
  },
  "language_info": {
   "codemirror_mode": {
    "name": "ipython",
    "version": 3
   },
   "file_extension": ".py",
   "mimetype": "text/x-python",
   "name": "python",
   "nbconvert_exporter": "python",
   "pygments_lexer": "ipython3",
   "version": "3.9.12"
  }
 },
 "nbformat": 4,
 "nbformat_minor": 5
}
