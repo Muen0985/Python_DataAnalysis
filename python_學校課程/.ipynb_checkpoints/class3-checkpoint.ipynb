{
 "cells": [
  {
   "cell_type": "code",
   "execution_count": 1,
   "id": "561e5728",
   "metadata": {},
   "outputs": [],
   "source": [
    "# coding:utf-8"
   ]
  },
  {
   "cell_type": "code",
   "execution_count": 2,
   "id": "db70ef30",
   "metadata": {},
   "outputs": [],
   "source": [
    "import os,time\n",
    "import pandas as pd\n",
    "import numpy as np"
   ]
  },
  {
   "cell_type": "code",
   "execution_count": 50,
   "id": "b8dd17d0",
   "metadata": {},
   "outputs": [
    {
     "name": "stdout",
     "output_type": "stream",
     "text": [
      "1020\n",
      "30\n"
     ]
    }
   ],
   "source": [
    "x='20'\n",
    "y=10\n",
    "print(str(y)+x)\n",
    "print(int(x)+y)"
   ]
  },
  {
   "cell_type": "code",
   "execution_count": 51,
   "id": "2dc03720",
   "metadata": {},
   "outputs": [
    {
     "name": "stdout",
     "output_type": "stream",
     "text": [
      "True\n",
      "True\n",
      "False\n"
     ]
    }
   ],
   "source": [
    "print(bool(10)) # 只要不是0，就是true\n",
    "print(bool(-10))\n",
    "print(bool(0))"
   ]
  },
  {
   "cell_type": "code",
   "execution_count": 52,
   "id": "a90e698f",
   "metadata": {},
   "outputs": [
    {
     "name": "stdout",
     "output_type": "stream",
     "text": [
      "1\n",
      "0\n"
     ]
    }
   ],
   "source": [
    "print(int(True))\n",
    "print(int(False))"
   ]
  },
  {
   "cell_type": "code",
   "execution_count": 53,
   "id": "43a259ce",
   "metadata": {
    "scrolled": true
   },
   "outputs": [
    {
     "data": {
      "text/plain": [
       "3"
      ]
     },
     "execution_count": 53,
     "metadata": {},
     "output_type": "execute_result"
    }
   ],
   "source": [
    "sum([True, True, False, False, True])"
   ]
  },
  {
   "cell_type": "code",
   "execution_count": null,
   "id": "0815b5f6",
   "metadata": {},
   "outputs": [],
   "source": []
  },
  {
   "cell_type": "code",
   "execution_count": 1,
   "id": "a9d66635",
   "metadata": {},
   "outputs": [
    {
     "name": "stdout",
     "output_type": "stream",
     "text": [
      "# conda environments:\n",
      "#\n",
      "base                  *  C:\\Users\\maztl\\anaconda3\n",
      "tensorflow2              C:\\Users\\maztl\\anaconda3\\envs\\tensorflow2\n",
      "tf_py38                  C:\\Users\\maztl\\anaconda3\\envs\\tf_py38\n",
      "\n"
     ]
    }
   ],
   "source": [
    "!conda env list"
   ]
  },
  {
   "cell_type": "markdown",
   "id": "0d33af98",
   "metadata": {},
   "source": [
    "### import 方法1"
   ]
  },
  {
   "cell_type": "code",
   "execution_count": 5,
   "id": "be81dffa",
   "metadata": {},
   "outputs": [],
   "source": [
    "import numpy as np\n",
    "import math"
   ]
  },
  {
   "cell_type": "code",
   "execution_count": 56,
   "id": "264b7e65",
   "metadata": {},
   "outputs": [
    {
     "name": "stdout",
     "output_type": "stream",
     "text": [
      "0.6423237356881372\n"
     ]
    }
   ],
   "source": [
    "print(np.random.random())"
   ]
  },
  {
   "cell_type": "code",
   "execution_count": 60,
   "id": "8cbd7b6b",
   "metadata": {},
   "outputs": [
    {
     "name": "stdout",
     "output_type": "stream",
     "text": [
      "0.6964691855978616\n",
      "0.28613933495037946\n",
      "0.2268514535642031\n"
     ]
    }
   ],
   "source": [
    "np.random.seed(123)  # 每一次的結果都是一樣的\n",
    "print(np.random.random())\n",
    "print(np.random.random())\n",
    "print(np.random.random())"
   ]
  },
  {
   "cell_type": "markdown",
   "id": "a9498ff7",
   "metadata": {},
   "source": [
    "### import 方法2"
   ]
  },
  {
   "cell_type": "code",
   "execution_count": 61,
   "id": "fd74d3b3",
   "metadata": {},
   "outputs": [],
   "source": [
    "import numpy.random as rnd1\n",
    "from numpy import random as rnd2"
   ]
  },
  {
   "cell_type": "code",
   "execution_count": 65,
   "id": "971fd737",
   "metadata": {},
   "outputs": [
    {
     "name": "stdout",
     "output_type": "stream",
     "text": [
      "0.48093190148436094\n",
      "0.3921175181941505\n"
     ]
    }
   ],
   "source": [
    "print(rnd1.random())\n",
    "print(rnd2.random())"
   ]
  },
  {
   "cell_type": "markdown",
   "id": "e2633a35",
   "metadata": {},
   "source": [
    "### import 方法3 ( 要小心使用，避免覆蓋掉內建函數 )"
   ]
  },
  {
   "cell_type": "code",
   "execution_count": 3,
   "id": "c1772413",
   "metadata": {},
   "outputs": [
    {
     "data": {
      "text/plain": [
       "0.12984360653310822"
      ]
     },
     "execution_count": 3,
     "metadata": {},
     "output_type": "execute_result"
    }
   ],
   "source": [
    "from numpy.random import random\n",
    "# from numpy.random import *           # 特別小小使用\n",
    "random()"
   ]
  },
  {
   "cell_type": "code",
   "execution_count": null,
   "id": "f4fa7de8",
   "metadata": {},
   "outputs": [],
   "source": []
  },
  {
   "cell_type": "markdown",
   "id": "a62e80b8",
   "metadata": {},
   "source": [
    "【常用的隨機產生亂數】"
   ]
  },
  {
   "cell_type": "code",
   "execution_count": 73,
   "id": "30d61610",
   "metadata": {},
   "outputs": [
    {
     "name": "stdout",
     "output_type": "stream",
     "text": [
      "0.7379954057320357\n",
      "[0.18249173 0.17545176]\n",
      "[0.53155137 0.53182759 0.63440096 0.84943179 0.72445532]\n"
     ]
    }
   ],
   "source": [
    "print(np.random.random())\n",
    "print(np.random.random(2))\n",
    "print(np.random.random(5))"
   ]
  },
  {
   "cell_type": "code",
   "execution_count": 6,
   "id": "10b24bb1",
   "metadata": {
    "scrolled": true
   },
   "outputs": [
    {
     "name": "stdout",
     "output_type": "stream",
     "text": [
      "[[-1.51325133 -1.06332169 -3.59737606  0.01272353]\n",
      " [-0.66245642  0.64182178  0.69113692  1.18468824]\n",
      " [-0.85988377 -0.16307452  0.18910226  0.89854201]]\n",
      "<class 'numpy.ndarray'>\n"
     ]
    }
   ],
   "source": [
    "print(np.random.randn(3,4))  # 產生ndarray的多為陣列\n",
    "x=np.random.randn(3,4)\n",
    "print(type(x))"
   ]
  },
  {
   "cell_type": "code",
   "execution_count": 88,
   "id": "c78fff38",
   "metadata": {},
   "outputs": [
    {
     "name": "stdout",
     "output_type": "stream",
     "text": [
      "6\n",
      "[19 17]\n"
     ]
    }
   ],
   "source": [
    "print(np.random.randint(1,21)) # 隨機產生範圍內的整數\n",
    "print(np.random.randint(11, 20+1, size=2))"
   ]
  },
  {
   "cell_type": "code",
   "execution_count": 100,
   "id": "ea74859b",
   "metadata": {},
   "outputs": [
    {
     "name": "stdout",
     "output_type": "stream",
     "text": [
      "5\n",
      "[4 4 2]\n",
      "[5 6 1 6 5 6 1]\n"
     ]
    }
   ],
   "source": [
    "print(np.random.choice(a=[1,2,3,4,5,6]))\n",
    "print(np.random.choice(a=[1,2,3,4,5,6], size=3))\n",
    "print(np.random.choice(a=[1,2,3,4,5,6], size=7, replace=True))\n",
    "# print(np.random.choice(a=[1,2,3,4,5,6], size=7, replace=False)) # 不夠取，所以會發生錯誤"
   ]
  },
  {
   "cell_type": "code",
   "execution_count": 101,
   "id": "75e5bfd4",
   "metadata": {},
   "outputs": [
    {
     "name": "stdout",
     "output_type": "stream",
     "text": [
      "[1 5 2 5 1 3 6]\n"
     ]
    }
   ],
   "source": [
    "print(np.random.choice(a=[1,2,3,4,5,6], \n",
    "                       size=7, \n",
    "                       replace=True,\n",
    "                       p=[2/8, 2/8, 1/8, 1/8, 1/8, 1/8]))"
   ]
  },
  {
   "cell_type": "code",
   "execution_count": 103,
   "id": "8a5202a5",
   "metadata": {},
   "outputs": [
    {
     "name": "stdout",
     "output_type": "stream",
     "text": [
      "請輸入一個數值: 20\n",
      "<class 'int'>\n"
     ]
    }
   ],
   "source": [
    "usr = int(input('請輸入一個數值: '))\n",
    "print(type(usr))"
   ]
  },
  {
   "cell_type": "code",
   "execution_count": null,
   "id": "c72d4ee1",
   "metadata": {},
   "outputs": [],
   "source": []
  },
  {
   "cell_type": "code",
   "execution_count": 107,
   "id": "33b98dda",
   "metadata": {},
   "outputs": [
    {
     "name": "stdout",
     "output_type": "stream",
     "text": [
      "33\n",
      "請輸入介於0-100之間的數 : 55\n",
      "太大\n"
     ]
    }
   ],
   "source": [
    "rnd = np.random.randint(1,51)\n",
    "print(f'{rnd}')\n",
    "usr = int(input('請輸入介於0-100之間的數 : '))\n",
    "\n",
    "if usr == rnd :\n",
    "    print('答對')\n",
    "elif abs(usr - rnd) <= 5 :\n",
    "    print('將近')\n",
    "elif usr - rnd > 5 :\n",
    "    print('太大')\n",
    "else :\n",
    "    print('太小')"
   ]
  },
  {
   "cell_type": "code",
   "execution_count": 110,
   "id": "4ccf8383",
   "metadata": {},
   "outputs": [
    {
     "name": "stdout",
     "output_type": "stream",
     "text": [
      "score : 98\n",
      "及格\n"
     ]
    }
   ],
   "source": [
    "score = np.random.randint(0, 100+1)\n",
    "print(f'score : {score}')\n",
    "\n",
    "print('及格' if score>=60 else '不及格')"
   ]
  },
  {
   "cell_type": "code",
   "execution_count": 7,
   "id": "86074f8d",
   "metadata": {
    "scrolled": true
   },
   "outputs": [
    {
     "name": "stdout",
     "output_type": "stream",
     "text": [
      "score : 79, 狀態 : 及格\n"
     ]
    }
   ],
   "source": [
    "score = np.random.randint(0, 100+1)\n",
    "print(f\"score : {score}, 狀態 : {'及格' if score >= 60 else '不及格'}\")"
   ]
  },
  {
   "cell_type": "code",
   "execution_count": null,
   "id": "cf3cd182",
   "metadata": {},
   "outputs": [],
   "source": []
  },
  {
   "cell_type": "code",
   "execution_count": 112,
   "id": "77d1dd08",
   "metadata": {},
   "outputs": [
    {
     "name": "stdout",
     "output_type": "stream",
     "text": [
      "[0, 1, 2, 3, 4, 5, 6, 7, 8, 9]\n",
      "[11, 12, 13, 14, 15, 16, 17, 18, 19, 20]\n",
      "[11, 13, 15, 17, 19]\n"
     ]
    }
   ],
   "source": [
    "# 【重點】只能用於整數\n",
    "print(list(range(10)))\n",
    "print(list(range(11, 20+1)))\n",
    "print(list(range(11, 20+1, 2)))"
   ]
  },
  {
   "cell_type": "code",
   "execution_count": 114,
   "id": "ac57a245",
   "metadata": {},
   "outputs": [
    {
     "name": "stdout",
     "output_type": "stream",
     "text": [
      "[ 0.  1.  2.  3.  4.  5.  6.  7.  8.  9. 10.]\n",
      "[11. 12. 13. 14. 15. 16. 17. 18. 19. 20.]\n",
      "[11.  13.5 16.  18.5]\n"
     ]
    }
   ],
   "source": [
    "# 【重點】可以用於浮點數\n",
    "print(np.arange(10.5))\n",
    "print(np.arange(11, 20.5))\n",
    "print(np.arange(11, 20.5, 2.5))"
   ]
  },
  {
   "cell_type": "code",
   "execution_count": null,
   "id": "4f685d7a",
   "metadata": {},
   "outputs": [],
   "source": []
  },
  {
   "cell_type": "code",
   "execution_count": 119,
   "id": "bda03e9d",
   "metadata": {},
   "outputs": [
    {
     "name": "stdout",
     "output_type": "stream",
     "text": [
      "[ 0.  5. 10.]\n",
      "[0.         3.33333333 6.66666667]\n",
      "(array([ 0.,  5., 10., 15., 20.]), 5.0)\n"
     ]
    }
   ],
   "source": [
    "print(np.linspace(0,10,3))\n",
    "print(np.linspace(0,10,3,endpoint=False)) # 預設是True，會包含最後一個數\n",
    "print(np.linspace(0,20,5,endpoint=True,retstep=True))"
   ]
  },
  {
   "cell_type": "code",
   "execution_count": 121,
   "id": "3d355b39",
   "metadata": {},
   "outputs": [
    {
     "name": "stdout",
     "output_type": "stream",
     "text": [
      "[ 0.  5. 10.]\n",
      "5.0\n"
     ]
    }
   ],
   "source": [
    "data, step = np.linspace(0, 10, 3, endpoint=True, retstep=True) # return 每個值之間空多少\n",
    "print(data)\n",
    "print(step)"
   ]
  },
  {
   "cell_type": "code",
   "execution_count": null,
   "id": "d53ffcb0",
   "metadata": {},
   "outputs": [],
   "source": []
  },
  {
   "cell_type": "code",
   "execution_count": null,
   "id": "4a398b4e",
   "metadata": {},
   "outputs": [],
   "source": []
  },
  {
   "cell_type": "code",
   "execution_count": 122,
   "id": "18ee3c4f",
   "metadata": {},
   "outputs": [
    {
     "name": "stdout",
     "output_type": "stream",
     "text": [
      "*\t*\t*\t*\t*\t"
     ]
    }
   ],
   "source": [
    "for _ in range(5) :           # 匿名變數\n",
    "    print(\"*\", end='\\t')\n"
   ]
  },
  {
   "cell_type": "code",
   "execution_count": null,
   "id": "a6d3550a",
   "metadata": {},
   "outputs": [],
   "source": []
  },
  {
   "cell_type": "code",
   "execution_count": 8,
   "id": "45c8ac8b",
   "metadata": {},
   "outputs": [],
   "source": [
    "import string"
   ]
  },
  {
   "cell_type": "code",
   "execution_count": 126,
   "id": "d297c22c",
   "metadata": {},
   "outputs": [
    {
     "name": "stdout",
     "output_type": "stream",
     "text": [
      "abcdefghijklmnopqrstuvwxyzABCDEFGHIJKLMNOPQRSTUVWXYZ\n",
      "abcdefghijklmnopqrstuvwxyz\n",
      "0123456789\n",
      "0123456789abcdefghijklmnopqrstuvwxyzABCDEFGHIJKLMNOPQRSTUVWXYZ!\"#$%&'()*+,-./:;<=>?@[\\]^_`{|}~ \t\n",
      "\r",
      "\u000b",
      "\f",
      "\n",
      "!\"#$%&'()*+,-./:;<=>?@[\\]^_`{|}~\n"
     ]
    }
   ],
   "source": [
    "print(string.ascii_letters)\n",
    "print(string.ascii_lowercase)\n",
    "print(string.digits)\n",
    "print(string.printable)\n",
    "print(string.punctuation)"
   ]
  },
  {
   "cell_type": "code",
   "execution_count": 128,
   "id": "ddd0064f",
   "metadata": {},
   "outputs": [
    {
     "name": "stdout",
     "output_type": "stream",
     "text": [
      "abcdefghij\n"
     ]
    }
   ],
   "source": [
    "print(string.ascii_letters[:10])"
   ]
  },
  {
   "cell_type": "code",
   "execution_count": 130,
   "id": "746ac2a6",
   "metadata": {},
   "outputs": [
    {
     "name": "stdout",
     "output_type": "stream",
     "text": [
      "a\tb\tc\td\te\t"
     ]
    }
   ],
   "source": [
    "for w in string.ascii_letters[:5]:\n",
    "    print(w, end='\\t')"
   ]
  },
  {
   "cell_type": "code",
   "execution_count": 131,
   "id": "02bdba46",
   "metadata": {},
   "outputs": [
    {
     "name": "stdout",
     "output_type": "stream",
     "text": [
      "True\n",
      "False\n"
     ]
    }
   ],
   "source": [
    "print('123'.isdigit())\n",
    "print('123x'.isdigit())"
   ]
  },
  {
   "cell_type": "code",
   "execution_count": 133,
   "id": "8f8b2dd8",
   "metadata": {},
   "outputs": [
    {
     "data": {
      "text/plain": [
       "['a', 'b', 'c', 'd', '資', '管', '系']"
      ]
     },
     "execution_count": 133,
     "metadata": {},
     "output_type": "execute_result"
    }
   ],
   "source": [
    "'a|b|c|d|資|管|系'.split('|') # 會變成list"
   ]
  },
  {
   "cell_type": "code",
   "execution_count": 8,
   "id": "be9c2cb4",
   "metadata": {},
   "outputs": [
    {
     "name": "stdout",
     "output_type": "stream",
     "text": [
      "aa,bb,cc\n",
      "aabbcc\n"
     ]
    }
   ],
   "source": [
    "lst = ['aa', 'bb', 'cc']\n",
    "print(','.join(lst))\n",
    "print(''.join(lst))"
   ]
  },
  {
   "cell_type": "code",
   "execution_count": 12,
   "id": "3565590a",
   "metadata": {},
   "outputs": [
    {
     "data": {
      "text/plain": [
       "'aa/bb/cc'"
      ]
     },
     "execution_count": 12,
     "metadata": {},
     "output_type": "execute_result"
    }
   ],
   "source": [
    "lst = ['aa', 'bb', 'cc']\n",
    "x=\",\".join(lst)\n",
    "x\n",
    "y=\"/\".join(lst) # 用自己決定的符號來串連整個字串\n",
    "y"
   ]
  },
  {
   "cell_type": "code",
   "execution_count": null,
   "id": "e8654e96",
   "metadata": {},
   "outputs": [],
   "source": []
  },
  {
   "cell_type": "code",
   "execution_count": 139,
   "id": "31b486fb",
   "metadata": {},
   "outputs": [
    {
     "name": "stdout",
     "output_type": "stream",
     "text": [
      "dict_items([('a', 100), ('b', 200), ('c', 300)])\n",
      "3\n"
     ]
    }
   ],
   "source": [
    "d1 = {'a':100, 'b':200, 'c':300}\n",
    "print(d1.items())\n",
    "print(len(d1))"
   ]
  },
  {
   "cell_type": "code",
   "execution_count": 142,
   "id": "33bed1dd",
   "metadata": {},
   "outputs": [
    {
     "name": "stdout",
     "output_type": "stream",
     "text": [
      "key: a value : 100\n",
      "key: b value : 200\n",
      "key: c value : 300\n"
     ]
    }
   ],
   "source": [
    "for k,v in d1.items():\n",
    "    print(f\"key: {k} value : {v}\")"
   ]
  },
  {
   "cell_type": "code",
   "execution_count": 143,
   "id": "828c2cbd",
   "metadata": {},
   "outputs": [
    {
     "name": "stdout",
     "output_type": "stream",
     "text": [
      "('a', 100)\n",
      "('b', 200)\n",
      "('c', 300)\n"
     ]
    }
   ],
   "source": [
    "for item in d1.items():\n",
    "    print(item)"
   ]
  },
  {
   "cell_type": "code",
   "execution_count": 144,
   "id": "5f1de5ff",
   "metadata": {},
   "outputs": [
    {
     "name": "stdout",
     "output_type": "stream",
     "text": [
      "k : a, v : 100\n",
      "k : b, v : 200\n",
      "k : c, v : 300\n"
     ]
    }
   ],
   "source": [
    "for item in d1.items() :\n",
    "    print(f'k : {item[0]}, v : {item[1]}')"
   ]
  },
  {
   "cell_type": "markdown",
   "id": "a4c18564",
   "metadata": {},
   "source": [
    "$\\sum_{x=1}^{x=20} x^2$"
   ]
  },
  {
   "cell_type": "code",
   "execution_count": 148,
   "id": "e4d78ce2",
   "metadata": {},
   "outputs": [
    {
     "name": "stdout",
     "output_type": "stream",
     "text": [
      "[0, 1, 4, 9, 16]\n",
      "30\n"
     ]
    }
   ],
   "source": [
    "print([x**2 for x in range(0,5)])\n",
    "print(sum([x**2 for x in range(0,5)]))"
   ]
  },
  {
   "cell_type": "code",
   "execution_count": 149,
   "id": "7eb6e90e",
   "metadata": {},
   "outputs": [
    {
     "data": {
      "text/plain": [
       "[1, 9, 25, 49, 81]"
      ]
     },
     "execution_count": 149,
     "metadata": {},
     "output_type": "execute_result"
    }
   ],
   "source": [
    "[x**2 for x in range(0,10) if x%2==1]"
   ]
  },
  {
   "cell_type": "code",
   "execution_count": 150,
   "id": "26209a94",
   "metadata": {},
   "outputs": [
    {
     "data": {
      "text/plain": [
       "165"
      ]
     },
     "execution_count": 150,
     "metadata": {},
     "output_type": "execute_result"
    }
   ],
   "source": [
    "sum([x**2 for x in range(0,10) if x%2==1])"
   ]
  },
  {
   "cell_type": "code",
   "execution_count": null,
   "id": "6ff57362",
   "metadata": {},
   "outputs": [],
   "source": []
  },
  {
   "cell_type": "code",
   "execution_count": 155,
   "id": "6ae275eb",
   "metadata": {},
   "outputs": [
    {
     "name": "stdout",
     "output_type": "stream",
     "text": [
      "[0, 0, 0, 1, 1, 0, 1]\n"
     ]
    }
   ],
   "source": [
    "lst = [0, 0, 0, 1, 1, 0, 1, 2]\n",
    "print([x for x in lst if x in [0,1]])"
   ]
  },
  {
   "cell_type": "code",
   "execution_count": 157,
   "id": "d648712b",
   "metadata": {},
   "outputs": [
    {
     "name": "stdout",
     "output_type": "stream",
     "text": [
      "['girl', 'girl', 'girl', 'boy', 'boy', 'girl', 'boy']\n"
     ]
    }
   ],
   "source": [
    "lst = [0, 0, 0, 1, 1, 0, 1]\n",
    "print(['girl' if x==0 else 'boy' for x in lst if x in [0,1]])"
   ]
  },
  {
   "cell_type": "code",
   "execution_count": null,
   "id": "0629f274",
   "metadata": {},
   "outputs": [],
   "source": []
  },
  {
   "cell_type": "code",
   "execution_count": 163,
   "id": "781001bb",
   "metadata": {},
   "outputs": [
    {
     "name": "stdout",
     "output_type": "stream",
     "text": [
      "dict_items([('a', 1), ('b', 2), ('c', 3), ('d', 4), ('e', 5), ('f', 6), ('g', 7), ('h', 8), ('i', 9), ('j', 10), ('k', 11), ('l', 12), ('m', 13), ('n', 14), ('o', 15)])\n"
     ]
    }
   ],
   "source": [
    "d={}\n",
    "idx=1\n",
    "for w in string.ascii_letters[:15]:\n",
    "    d[w]=idx\n",
    "    idx+=1\n",
    "print(d.items())"
   ]
  },
  {
   "cell_type": "code",
   "execution_count": 11,
   "id": "8d617f07",
   "metadata": {
    "scrolled": false
   },
   "outputs": [
    {
     "name": "stdout",
     "output_type": "stream",
     "text": [
      "dict_items([('a', 1), ('b', 2), ('c', 3), ('d', 4), ('e', 5), ('f', 6), ('g', 7), ('h', 8), ('i', 9), ('j', 10), ('k', 11), ('l', 12), ('m', 13), ('n', 14), ('o', 15)])\n"
     ]
    }
   ],
   "source": [
    "d={ k:v for v, k in enumerate(string.ascii_letters[:15],start=1)}\n",
    "print(d.items())"
   ]
  },
  {
   "cell_type": "code",
   "execution_count": null,
   "id": "ab570d54",
   "metadata": {},
   "outputs": [],
   "source": []
  },
  {
   "cell_type": "code",
   "execution_count": 13,
   "id": "0b4a1ccb",
   "metadata": {},
   "outputs": [],
   "source": [
    "txt = \"\"\"\n",
    "兩岸情勢嚴峻，兵役確定延長1年役期，國防部長邱國正今天在立法院表示，\n",
    "國防部朝年底前公告義務役期延長的方向努力。邱國正答詢時並說明，\n",
    "役男服完軍事訓練役4個月，不會因役期延長1年再回營。\n",
    "\n",
    "國防部長邱國正說，服軍事訓練役4個月役男不會因役期延長1年再回營。（中央社＼檔案照）\n",
    "邱國正上午列席立法院外交及國防委員會專案報告並備詢。國民黨立委江啟臣質詢關切，\n",
    "若義務役恢復為1年，現階段服4個月軍事訓練役的役男領的是「結訓令」而非「退伍令」\n",
    "，民眾擔憂服軍事訓練役的役男屆時是否要再回營補實其餘8個月役期。邱國正答詢說「不會影響」，\n",
    "國防部對於義務役期延長的議題戒慎恐懼，民眾擔憂、國防部也很擔憂。\n",
    "\n",
    "邱國正在會前受訪也針對是否在今年底前公告義務役期將延長說明，依規定若義務役期延長要公告1年\n",
    "後實施，若今年底前公告，公告滿1年後可在113年實施；但若是明年（112年）公告，得再經過1年，\n",
    "也就是114年才能實施，雖然他不能承諾時程，但期望今年底前公告，國防部也朝這方向努力。\n",
    "\"\"\""
   ]
  },
  {
   "cell_type": "code",
   "execution_count": 14,
   "id": "7c6d2881",
   "metadata": {
    "scrolled": true
   },
   "outputs": [
    {
     "name": "stdout",
     "output_type": "stream",
     "text": [
      "dict_items([('恐', 1), ('承', 1), ('啟', 1), ('定', 2), ('時', 3), ('題', 1), ('憂', 3), ('峻', 1), ('事', 4), ('午', 1), ('中', 1), ('）', 2), ('而', 1), ('告', 8), ('男', 4), ('也', 4), ('底', 4), ('領', 1), ('其', 1), ('確', 1), ('議', 1), ('慎', 1), ('營', 3), ('席', 1), ('照', 1), ('＼', 1), ('努', 2), ('答', 2), ('受', 1), ('法', 2), ('、', 1), ('現', 1), ('過', 1), ('今', 4), ('切', 1), ('，', 19), ('滿', 1), ('期', 9), ('列', 1), ('就', 1), ('4', 4), ('邱', 6), ('望', 1), ('公', 7), ('服', 4), ('關', 1), ('向', 2), ('補', 1), ('天', 1), ('針', 1), ('國', 14), ('完', 1), ('員', 1), ('部', 6), ('明', 3), ('復', 1), ('\\n', 14), ('8', 1), ('懼', 1), ('說', 4), ('役', 18), ('長', 9), ('諾', 1), ('經', 1), ('程', 1), ('才', 1), ('務', 5), ('並', 2), ('交', 1), ('質', 1), ('」', 3), ('階', 1), ('再', 4), ('年', 15), ('回', 3), ('嚴', 1), ('外', 1), ('段', 1), ('1', 13), ('岸', 1), ('備', 1), ('可', 1), ('餘', 1), ('的', 5), ('正', 6), ('詢', 4), ('社', 1), ('得', 1), ('結', 1), ('實', 4), ('將', 1), ('義', 5), ('對', 2), ('民', 3), ('會', 5), ('2', 1), ('規', 1), ('施', 3), ('兵', 1), ('於', 1), ('很', 1), ('院', 2), ('令', 2), ('響', 1), ('案', 2), ('立', 3), ('及', 1), ('要', 2), ('但', 2), ('能', 2), ('委', 2), ('影', 1), ('後', 2), ('眾', 2), ('退', 1), ('戒', 1), ('。', 7), ('力', 2), ('擔', 3), ('個', 4), ('雖', 1), ('他', 1), ('報', 1), ('在', 4), ('否', 2), ('不', 4), ('江', 1), ('勢', 1), ('專', 1), ('因', 2), ('臣', 1), ('表', 1), ('訓', 5), ('上', 1), ('軍', 4), ('非', 1), ('黨', 1), ('（', 2), ('伍', 1), ('然', 1), ('檔', 1), ('方', 2), ('朝', 2), ('這', 1), ('；', 1), ('是', 5), ('示', 1), ('練', 4), ('月', 4), ('「', 3), ('3', 1), ('延', 7), ('兩', 1), ('屆', 1), ('為', 1), ('防', 7), ('恢', 1), ('依', 1), ('前', 5), ('若', 4), ('情', 1), ('央', 1), ('訪', 1)])\n"
     ]
    }
   ],
   "source": [
    "d={w:txt.count(w)for w in set(txt)}\n",
    "print(d.items())"
   ]
  },
  {
   "cell_type": "code",
   "execution_count": 15,
   "id": "2cf71f12",
   "metadata": {},
   "outputs": [
    {
     "name": "stdout",
     "output_type": "stream",
     "text": [
      "dict_items([('役', 18), ('延', 7), ('長', 9), ('年', 15), ('期', 9), ('國', 14), ('防', 7), ('部', 6), ('邱', 6), ('正', 6), ('公', 7), ('告', 8)])\n"
     ]
    }
   ],
   "source": [
    "stop_words = ['（', '）', '＼', '「', '」', '\\n', '，', '、', '。', '；'] + \\\n",
    "             list(string.ascii_letters) + \\\n",
    "             list(string.digits)\n",
    "d={w:txt.count(w) for w in txt if w not in stop_words and txt.count(w)>5}\n",
    "print(d.items())"
   ]
  },
  {
   "cell_type": "code",
   "execution_count": null,
   "id": "46c7269d",
   "metadata": {},
   "outputs": [],
   "source": []
  },
  {
   "cell_type": "code",
   "execution_count": 174,
   "id": "0c3330e2",
   "metadata": {},
   "outputs": [],
   "source": [
    "def add(x,y):\n",
    "    return x+y"
   ]
  },
  {
   "cell_type": "code",
   "execution_count": 175,
   "id": "729bfd33",
   "metadata": {},
   "outputs": [
    {
     "data": {
      "text/plain": [
       "7"
      ]
     },
     "execution_count": 175,
     "metadata": {},
     "output_type": "execute_result"
    }
   ],
   "source": [
    "add(3,4)"
   ]
  },
  {
   "cell_type": "code",
   "execution_count": 176,
   "id": "55128516",
   "metadata": {},
   "outputs": [
    {
     "data": {
      "text/plain": [
       "12"
      ]
     },
     "execution_count": 176,
     "metadata": {},
     "output_type": "execute_result"
    }
   ],
   "source": [
    "(lambda x,y : x*y)(3,4)"
   ]
  },
  {
   "cell_type": "code",
   "execution_count": null,
   "id": "23c4edcf",
   "metadata": {},
   "outputs": [],
   "source": []
  },
  {
   "cell_type": "code",
   "execution_count": 22,
   "id": "443a0cb0",
   "metadata": {
    "scrolled": true
   },
   "outputs": [
    {
     "data": {
      "text/plain": [
       "[('役', 18),\n",
       " ('年', 15),\n",
       " ('國', 14),\n",
       " ('長', 9),\n",
       " ('期', 9),\n",
       " ('告', 8),\n",
       " ('延', 7),\n",
       " ('防', 7),\n",
       " ('公', 7),\n",
       " ('部', 6),\n",
       " ('邱', 6),\n",
       " ('正', 6)]"
      ]
     },
     "execution_count": 22,
     "metadata": {},
     "output_type": "execute_result"
    }
   ],
   "source": [
    "sorted(d.items() , key=lambda x : x[1] , reverse=True) # key是決定排序的依據"
   ]
  },
  {
   "cell_type": "code",
   "execution_count": null,
   "id": "f21eda15",
   "metadata": {},
   "outputs": [],
   "source": []
  },
  {
   "cell_type": "code",
   "execution_count": 185,
   "id": "9b732085",
   "metadata": {},
   "outputs": [],
   "source": [
    "def isPrime(num) :\n",
    "    isPrimeFlag = True\n",
    "    for f in range(2, num) :\n",
    "        if num%f == 0 :\n",
    "            isPrimeFlag = False\n",
    "            break\n",
    "\n",
    "    return isPrimeFlag"
   ]
  },
  {
   "cell_type": "code",
   "execution_count": 186,
   "id": "60d4a48f",
   "metadata": {},
   "outputs": [
    {
     "name": "stdout",
     "output_type": "stream",
     "text": [
      "False\n"
     ]
    }
   ],
   "source": [
    "print(isPrime(15))"
   ]
  },
  {
   "cell_type": "code",
   "execution_count": 187,
   "id": "19e4ba30",
   "metadata": {},
   "outputs": [],
   "source": [
    "def isPrime(num) :\n",
    "    isPrimeFlag = True\n",
    "    f = 2\n",
    "    while isPrimeFlag and f < num:\n",
    "        if num%f == 0 :\n",
    "            isPrimeFlag = False\n",
    "#             break\n",
    "        f += 1\n",
    "    return isPrimeFlag"
   ]
  },
  {
   "cell_type": "code",
   "execution_count": 188,
   "id": "788e3b6a",
   "metadata": {},
   "outputs": [
    {
     "name": "stdout",
     "output_type": "stream",
     "text": [
      "True\n"
     ]
    }
   ],
   "source": [
    "print(isPrime(13))"
   ]
  },
  {
   "cell_type": "code",
   "execution_count": null,
   "id": "9c11381a",
   "metadata": {},
   "outputs": [],
   "source": []
  },
  {
   "cell_type": "code",
   "execution_count": null,
   "id": "84c3bbd4",
   "metadata": {},
   "outputs": [],
   "source": []
  },
  {
   "cell_type": "code",
   "execution_count": null,
   "id": "28b3d51f",
   "metadata": {},
   "outputs": [],
   "source": []
  },
  {
   "cell_type": "code",
   "execution_count": null,
   "id": "4f05c810",
   "metadata": {},
   "outputs": [],
   "source": []
  },
  {
   "cell_type": "code",
   "execution_count": null,
   "id": "1567d560",
   "metadata": {},
   "outputs": [],
   "source": []
  },
  {
   "cell_type": "code",
   "execution_count": null,
   "id": "0643e909",
   "metadata": {},
   "outputs": [],
   "source": []
  },
  {
   "cell_type": "code",
   "execution_count": null,
   "id": "68811a75",
   "metadata": {},
   "outputs": [],
   "source": []
  },
  {
   "cell_type": "code",
   "execution_count": null,
   "id": "ada0315d",
   "metadata": {},
   "outputs": [],
   "source": []
  },
  {
   "cell_type": "code",
   "execution_count": null,
   "id": "2aa9f207",
   "metadata": {},
   "outputs": [],
   "source": []
  },
  {
   "cell_type": "code",
   "execution_count": null,
   "id": "33541e7c",
   "metadata": {},
   "outputs": [],
   "source": []
  },
  {
   "cell_type": "code",
   "execution_count": null,
   "id": "87121ba2",
   "metadata": {},
   "outputs": [],
   "source": []
  }
 ],
 "metadata": {
  "kernelspec": {
   "display_name": "Python 3 (ipykernel)",
   "language": "python",
   "name": "python3"
  },
  "language_info": {
   "codemirror_mode": {
    "name": "ipython",
    "version": 3
   },
   "file_extension": ".py",
   "mimetype": "text/x-python",
   "name": "python",
   "nbconvert_exporter": "python",
   "pygments_lexer": "ipython3",
   "version": "3.9.12"
  }
 },
 "nbformat": 4,
 "nbformat_minor": 5
}
