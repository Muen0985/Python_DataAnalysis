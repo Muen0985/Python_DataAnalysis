{
 "cells": [
  {
   "cell_type": "code",
   "execution_count": null,
   "id": "0bd6b9be",
   "metadata": {},
   "outputs": [],
   "source": []
  },
  {
   "cell_type": "markdown",
   "id": "7f3dbbd1",
   "metadata": {},
   "source": [
    "### Exception與處理\n",
    "#### 【Case 1】系統拋出例外，你處理"
   ]
  },
  {
   "cell_type": "code",
   "execution_count": 1,
   "id": "54e32c0b",
   "metadata": {},
   "outputs": [
    {
     "ename": "ZeroDivisionError",
     "evalue": "division by zero",
     "output_type": "error",
     "traceback": [
      "\u001b[1;31m---------------------------------------------------------------------------\u001b[0m",
      "\u001b[1;31mZeroDivisionError\u001b[0m                         Traceback (most recent call last)",
      "\u001b[1;32m~\\AppData\\Local\\Temp\\ipykernel_20664\\179726827.py\u001b[0m in \u001b[0;36m<module>\u001b[1;34m\u001b[0m\n\u001b[1;32m----> 1\u001b[1;33m \u001b[0mprint\u001b[0m\u001b[1;33m(\u001b[0m\u001b[1;36m10\u001b[0m\u001b[1;33m/\u001b[0m\u001b[1;36m0\u001b[0m\u001b[1;33m)\u001b[0m\u001b[1;33m\u001b[0m\u001b[1;33m\u001b[0m\u001b[0m\n\u001b[0m",
      "\u001b[1;31mZeroDivisionError\u001b[0m: division by zero"
     ]
    }
   ],
   "source": [
    "print(10/0)"
   ]
  },
  {
   "cell_type": "code",
   "execution_count": 5,
   "id": "5f8400be",
   "metadata": {},
   "outputs": [
    {
     "name": "stdout",
     "output_type": "stream",
     "text": [
      "【錯誤訊息】分母不得為零\n"
     ]
    }
   ],
   "source": [
    "try :\n",
    "    print(10/0)\n",
    "except ZeroDivisionError:\n",
    "    print(\"【錯誤訊息】分母不得為零\")\n",
    "    "
   ]
  },
  {
   "cell_type": "code",
   "execution_count": 6,
   "id": "bc4e9cbe",
   "metadata": {},
   "outputs": [
    {
     "name": "stdout",
     "output_type": "stream",
     "text": [
      "10.0\n",
      "2.0\n",
      "【錯誤訊息】分母不得為零\n"
     ]
    }
   ],
   "source": [
    "try :\n",
    "    print(100/10)\n",
    "    print(10/5)\n",
    "    print(10/0)\n",
    "except ZeroDivisionError:\n",
    "    print(\"【錯誤訊息】分母不得為零\")\n",
    "    "
   ]
  },
  {
   "cell_type": "code",
   "execution_count": 9,
   "id": "18901e20",
   "metadata": {},
   "outputs": [
    {
     "name": "stdout",
     "output_type": "stream",
     "text": [
      "2.0\n",
      "【錯誤訊息】檔案找不到\n"
     ]
    }
   ],
   "source": [
    "try :\n",
    "    print(10/5)\n",
    "    open(r'C:\\Data\\tedfjeot.txt',mode='rt',encoding='utf-8').read()\n",
    "    print(10/0)\n",
    "    print(50*2)\n",
    "except ZeroDivisionError:\n",
    "    print(\"【錯誤訊息】分母不得為零\")\n",
    "except FileNotFoundError:\n",
    "    print(\"【錯誤訊息】檔案找不到\")"
   ]
  },
  {
   "cell_type": "code",
   "execution_count": 14,
   "id": "725eda99",
   "metadata": {},
   "outputs": [
    {
     "name": "stdout",
     "output_type": "stream",
     "text": [
      "50.0\n",
      "【錯誤訊息】反正就是有錯\n"
     ]
    }
   ],
   "source": [
    "lst = [3, 5, 7]\n",
    "\n",
    "try :\n",
    "    print(100/2)\n",
    "    print(lst[3])   # 此處系統拋出例外\n",
    "    open(r'C:\\Data\\test.txt', mode='rt', encoding='utf-8').read()\n",
    "    print(10/0)\n",
    "    print(50*2)\n",
    "except ZeroDivisionError :\n",
    "    print('【錯誤訊息】分母不得為零')\n",
    "except FileNotFoundError :\n",
    "    print('【錯誤訊息】檔案找不到')\n",
    "except :\n",
    "    print(\"【錯誤訊息】反正就是有錯\")  # 無法知道錯在哪"
   ]
  },
  {
   "cell_type": "markdown",
   "id": "7d6e9c79",
   "metadata": {},
   "source": [
    "### 【情境一】正常執行"
   ]
  },
  {
   "cell_type": "code",
   "execution_count": 22,
   "id": "a5d222a1",
   "metadata": {},
   "outputs": [
    {
     "name": "stdout",
     "output_type": "stream",
     "text": [
      "50.0\n",
      "【finally】無論如何，這一定會執行\n",
      "結束\n"
     ]
    }
   ],
   "source": [
    "lst = [3, 5, 7]\n",
    "\n",
    "try :\n",
    "    print(100/2)\n",
    "except ZeroDivisionError as e :\n",
    "    print('【錯誤訊息】分母不得為零')\n",
    "    print(f'【系統訊息】{e}')\n",
    "except FileNotFoundError as e :\n",
    "    print('【錯誤訊息】檔案找不到')\n",
    "    print(f'【系統訊息】{e}')\n",
    "except Exception as e :\n",
    "    print(\"【錯誤訊息】反正就是有錯\") \n",
    "    print(f'【系統訊息】{e}')\n",
    "finally :\n",
    "     print('【finally】無論如何，這一定會執行')\n",
    "\n",
    "print(\"結束\")"
   ]
  },
  {
   "cell_type": "markdown",
   "id": "2f2c632d",
   "metadata": {},
   "source": [
    "### 【情境二】發生例外、順利被捕捉並處理"
   ]
  },
  {
   "cell_type": "code",
   "execution_count": 18,
   "id": "fa4a9e60",
   "metadata": {},
   "outputs": [
    {
     "name": "stdout",
     "output_type": "stream",
     "text": [
      "50.0\n",
      "【錯誤訊息】反正就是有錯\n",
      "【系統訊息】list index out of range\n",
      "【finally】無論如何，這一定會執行\n",
      "結束\n"
     ]
    }
   ],
   "source": [
    "lst = [3, 5, 7]\n",
    "\n",
    "try :\n",
    "    print(100/2)\n",
    "    print(lst[3])   # 此處系統拋出例外\n",
    "    open(r'C:\\Data\\test.txt', mode='rt', encoding='utf-8').read()\n",
    "    print(10/0)\n",
    "    print(50*2)\n",
    "except ZeroDivisionError as e :\n",
    "    print('【錯誤訊息】分母不得為零')\n",
    "    print(f'【系統訊息】{e}')\n",
    "except FileNotFoundError as e :\n",
    "    print('【錯誤訊息】檔案找不到')\n",
    "    print(f'【系統訊息】{e}')\n",
    "except Exception as e :\n",
    "    print(\"【錯誤訊息】反正就是有錯\") \n",
    "    print(f'【系統訊息】{e}')\n",
    "finally :\n",
    "     print('【finally】無論如何，這一定會執行')\n",
    "\n",
    "print(\"結束\")"
   ]
  },
  {
   "cell_type": "markdown",
   "id": "77133129",
   "metadata": {},
   "source": [
    "### 【情境三】發生例外、沒有被捕捉、直接拋出畫面"
   ]
  },
  {
   "cell_type": "code",
   "execution_count": 20,
   "id": "3941e777",
   "metadata": {},
   "outputs": [
    {
     "name": "stdout",
     "output_type": "stream",
     "text": [
      "50.0\n",
      "【finally】無論如何，這一定會執行\n"
     ]
    },
    {
     "ename": "IndexError",
     "evalue": "list index out of range",
     "output_type": "error",
     "traceback": [
      "\u001b[1;31m---------------------------------------------------------------------------\u001b[0m",
      "\u001b[1;31mIndexError\u001b[0m                                Traceback (most recent call last)",
      "\u001b[1;32m~\\AppData\\Local\\Temp\\ipykernel_20664\\419081355.py\u001b[0m in \u001b[0;36m<module>\u001b[1;34m\u001b[0m\n\u001b[0;32m      3\u001b[0m \u001b[1;32mtry\u001b[0m \u001b[1;33m:\u001b[0m\u001b[1;33m\u001b[0m\u001b[1;33m\u001b[0m\u001b[0m\n\u001b[0;32m      4\u001b[0m     \u001b[0mprint\u001b[0m\u001b[1;33m(\u001b[0m\u001b[1;36m100\u001b[0m\u001b[1;33m/\u001b[0m\u001b[1;36m2\u001b[0m\u001b[1;33m)\u001b[0m\u001b[1;33m\u001b[0m\u001b[1;33m\u001b[0m\u001b[0m\n\u001b[1;32m----> 5\u001b[1;33m     \u001b[0mprint\u001b[0m\u001b[1;33m(\u001b[0m\u001b[0mlst\u001b[0m\u001b[1;33m[\u001b[0m\u001b[1;36m3\u001b[0m\u001b[1;33m]\u001b[0m\u001b[1;33m)\u001b[0m   \u001b[1;31m# 此處系統拋出例外\u001b[0m\u001b[1;33m\u001b[0m\u001b[1;33m\u001b[0m\u001b[0m\n\u001b[0m\u001b[0;32m      6\u001b[0m     \u001b[0mopen\u001b[0m\u001b[1;33m(\u001b[0m\u001b[1;34mr'C:\\Data\\test.txt'\u001b[0m\u001b[1;33m,\u001b[0m \u001b[0mmode\u001b[0m\u001b[1;33m=\u001b[0m\u001b[1;34m'rt'\u001b[0m\u001b[1;33m,\u001b[0m \u001b[0mencoding\u001b[0m\u001b[1;33m=\u001b[0m\u001b[1;34m'utf-8'\u001b[0m\u001b[1;33m)\u001b[0m\u001b[1;33m.\u001b[0m\u001b[0mread\u001b[0m\u001b[1;33m(\u001b[0m\u001b[1;33m)\u001b[0m\u001b[1;33m\u001b[0m\u001b[1;33m\u001b[0m\u001b[0m\n\u001b[0;32m      7\u001b[0m     \u001b[0mprint\u001b[0m\u001b[1;33m(\u001b[0m\u001b[1;36m10\u001b[0m\u001b[1;33m/\u001b[0m\u001b[1;36m0\u001b[0m\u001b[1;33m)\u001b[0m\u001b[1;33m\u001b[0m\u001b[1;33m\u001b[0m\u001b[0m\n",
      "\u001b[1;31mIndexError\u001b[0m: list index out of range"
     ]
    }
   ],
   "source": [
    "lst = [3, 5, 7]\n",
    "\n",
    "try :\n",
    "    print(100/2)\n",
    "    print(lst[3])   # 此處系統拋出例外\n",
    "    open(r'C:\\Data\\test.txt', mode='rt', encoding='utf-8').read()\n",
    "    print(10/0)\n",
    "    print(50*2)\n",
    "except ZeroDivisionError as e :\n",
    "    print('【錯誤訊息】分母不得為零')\n",
    "    print(f'【系統訊息】{e}')\n",
    "except FileNotFoundError as e :\n",
    "    print('【錯誤訊息】檔案找不到')\n",
    "    print(f'【系統訊息】{e}')\n",
    "finally :\n",
    "     print('【finally】無論如何，這一定會執行')\n",
    "\n",
    "print(\"結束\") # 就不會執行到"
   ]
  },
  {
   "cell_type": "markdown",
   "id": "15df6dbd",
   "metadata": {},
   "source": [
    "### Raise Exception\n",
    "#### 【Case 2】自己拋出例外，自己處理"
   ]
  },
  {
   "cell_type": "code",
   "execution_count": 35,
   "id": "e94ef724",
   "metadata": {},
   "outputs": [],
   "source": [
    "def isLegalAge(age) :\n",
    "    try :\n",
    "        if age<18:\n",
    "            raise ValueError('【錯誤訊息】年齡未滿18歲')\n",
    "        else :\n",
    "            return True\n",
    "    except ValueError as e:\n",
    "        print(f'{e}')\n",
    "        return False"
   ]
  },
  {
   "cell_type": "code",
   "execution_count": 36,
   "id": "20709699",
   "metadata": {
    "scrolled": false
   },
   "outputs": [
    {
     "data": {
      "text/plain": [
       "True"
      ]
     },
     "execution_count": 36,
     "metadata": {},
     "output_type": "execute_result"
    }
   ],
   "source": [
    "isLegalAge(25)"
   ]
  },
  {
   "cell_type": "code",
   "execution_count": 27,
   "id": "50c2d969",
   "metadata": {
    "scrolled": false
   },
   "outputs": [
    {
     "name": "stdout",
     "output_type": "stream",
     "text": [
      "【錯誤訊息】年齡未滿18歲\n"
     ]
    },
    {
     "data": {
      "text/plain": [
       "False"
      ]
     },
     "execution_count": 27,
     "metadata": {},
     "output_type": "execute_result"
    }
   ],
   "source": [
    "isLegalAge(5)"
   ]
  },
  {
   "cell_type": "code",
   "execution_count": null,
   "id": "328d850e",
   "metadata": {},
   "outputs": [],
   "source": []
  },
  {
   "cell_type": "markdown",
   "id": "62e7eeaf",
   "metadata": {},
   "source": [
    "### User-Define Exception\n",
    "#### 【Case 4】自訂例外"
   ]
  },
  {
   "cell_type": "code",
   "execution_count": 37,
   "id": "41b9564b",
   "metadata": {},
   "outputs": [],
   "source": [
    "class AgeError(Exception):\n",
    "    pass"
   ]
  },
  {
   "cell_type": "code",
   "execution_count": 38,
   "id": "449d385a",
   "metadata": {},
   "outputs": [],
   "source": [
    "def isLegalAge(age) :\n",
    "    if age < 18 :\n",
    "        raise AgeError('【錯誤訊息】年齡未滿18歲')\n",
    "    else :\n",
    "        return True"
   ]
  },
  {
   "cell_type": "code",
   "execution_count": 40,
   "id": "00813e5f",
   "metadata": {},
   "outputs": [
    {
     "data": {
      "text/plain": [
       "True"
      ]
     },
     "execution_count": 40,
     "metadata": {},
     "output_type": "execute_result"
    }
   ],
   "source": [
    "isLegalAge(25)"
   ]
  },
  {
   "cell_type": "code",
   "execution_count": 39,
   "id": "e6ea1c73",
   "metadata": {
    "scrolled": true
   },
   "outputs": [
    {
     "ename": "AgeError",
     "evalue": "【錯誤訊息】年齡未滿18歲",
     "output_type": "error",
     "traceback": [
      "\u001b[1;31m---------------------------------------------------------------------------\u001b[0m",
      "\u001b[1;31mAgeError\u001b[0m                                  Traceback (most recent call last)",
      "\u001b[1;32m~\\AppData\\Local\\Temp\\ipykernel_20664\\4250094590.py\u001b[0m in \u001b[0;36m<module>\u001b[1;34m\u001b[0m\n\u001b[1;32m----> 1\u001b[1;33m \u001b[0misLegalAge\u001b[0m\u001b[1;33m(\u001b[0m\u001b[1;36m17\u001b[0m\u001b[1;33m)\u001b[0m\u001b[1;33m\u001b[0m\u001b[1;33m\u001b[0m\u001b[0m\n\u001b[0m",
      "\u001b[1;32m~\\AppData\\Local\\Temp\\ipykernel_20664\\1333696202.py\u001b[0m in \u001b[0;36misLegalAge\u001b[1;34m(age)\u001b[0m\n\u001b[0;32m      1\u001b[0m \u001b[1;32mdef\u001b[0m \u001b[0misLegalAge\u001b[0m\u001b[1;33m(\u001b[0m\u001b[0mage\u001b[0m\u001b[1;33m)\u001b[0m \u001b[1;33m:\u001b[0m\u001b[1;33m\u001b[0m\u001b[1;33m\u001b[0m\u001b[0m\n\u001b[0;32m      2\u001b[0m     \u001b[1;32mif\u001b[0m \u001b[0mage\u001b[0m \u001b[1;33m<\u001b[0m \u001b[1;36m18\u001b[0m \u001b[1;33m:\u001b[0m\u001b[1;33m\u001b[0m\u001b[1;33m\u001b[0m\u001b[0m\n\u001b[1;32m----> 3\u001b[1;33m         \u001b[1;32mraise\u001b[0m \u001b[0mAgeError\u001b[0m\u001b[1;33m(\u001b[0m\u001b[1;34m'【錯誤訊息】年齡未滿18歲'\u001b[0m\u001b[1;33m)\u001b[0m\u001b[1;33m\u001b[0m\u001b[1;33m\u001b[0m\u001b[0m\n\u001b[0m\u001b[0;32m      4\u001b[0m     \u001b[1;32melse\u001b[0m \u001b[1;33m:\u001b[0m\u001b[1;33m\u001b[0m\u001b[1;33m\u001b[0m\u001b[0m\n\u001b[0;32m      5\u001b[0m         \u001b[1;32mreturn\u001b[0m \u001b[1;32mTrue\u001b[0m\u001b[1;33m\u001b[0m\u001b[1;33m\u001b[0m\u001b[0m\n",
      "\u001b[1;31mAgeError\u001b[0m: 【錯誤訊息】年齡未滿18歲"
     ]
    }
   ],
   "source": [
    "isLegalAge(17)"
   ]
  },
  {
   "cell_type": "code",
   "execution_count": 41,
   "id": "54273be3",
   "metadata": {},
   "outputs": [
    {
     "name": "stdout",
     "output_type": "stream",
     "text": [
      "【錯誤訊息】年齡未滿18歲\n"
     ]
    }
   ],
   "source": [
    "try :\n",
    "    isLegalAge(12)\n",
    "except AgeError as e:\n",
    "    print(e)"
   ]
  }
 ],
 "metadata": {
  "kernelspec": {
   "display_name": "Python 3 (ipykernel)",
   "language": "python",
   "name": "python3"
  },
  "language_info": {
   "codemirror_mode": {
    "name": "ipython",
    "version": 3
   },
   "file_extension": ".py",
   "mimetype": "text/x-python",
   "name": "python",
   "nbconvert_exporter": "python",
   "pygments_lexer": "ipython3",
   "version": "3.9.12"
  }
 },
 "nbformat": 4,
 "nbformat_minor": 5
}
