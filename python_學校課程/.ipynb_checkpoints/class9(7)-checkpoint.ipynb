{
 "cells": [
  {
   "cell_type": "code",
   "execution_count": 1,
   "id": "1f7183da",
   "metadata": {
    "scrolled": true
   },
   "outputs": [
    {
     "name": "stdout",
     "output_type": "stream",
     "text": [
      "Collecting selenium\n",
      "  Downloading selenium-4.6.1-py3-none-any.whl (6.0 MB)\n",
      "     ---------------------------------------- 6.0/6.0 MB 1.4 MB/s eta 0:00:00\n",
      "Requirement already satisfied: certifi>=2021.10.8 in c:\\users\\maztl\\anaconda3\\lib\\site-packages (from selenium) (2022.9.24)\n",
      "Collecting trio-websocket~=0.9\n",
      "  Downloading trio_websocket-0.9.2-py3-none-any.whl (16 kB)\n",
      "Requirement already satisfied: urllib3[socks]~=1.26 in c:\\users\\maztl\\anaconda3\\lib\\site-packages (from selenium) (1.26.11)\n",
      "Collecting trio~=0.17\n",
      "  Downloading trio-0.22.0-py3-none-any.whl (384 kB)\n",
      "     ------------------------------------ 384.9/384.9 kB 239.9 kB/s eta 0:00:00\n",
      "Requirement already satisfied: attrs>=19.2.0 in c:\\users\\maztl\\anaconda3\\lib\\site-packages (from trio~=0.17->selenium) (21.4.0)\n",
      "Requirement already satisfied: cffi>=1.14 in c:\\users\\maztl\\anaconda3\\lib\\site-packages (from trio~=0.17->selenium) (1.15.1)\n",
      "Collecting exceptiongroup>=1.0.0rc9\n",
      "  Downloading exceptiongroup-1.0.4-py3-none-any.whl (14 kB)\n",
      "Collecting outcome\n",
      "  Downloading outcome-1.2.0-py2.py3-none-any.whl (9.7 kB)\n",
      "Collecting async-generator>=1.9\n",
      "  Downloading async_generator-1.10-py3-none-any.whl (18 kB)\n",
      "Requirement already satisfied: sniffio in c:\\users\\maztl\\anaconda3\\lib\\site-packages (from trio~=0.17->selenium) (1.2.0)\n",
      "Requirement already satisfied: idna in c:\\users\\maztl\\anaconda3\\lib\\site-packages (from trio~=0.17->selenium) (3.3)\n",
      "Requirement already satisfied: sortedcontainers in c:\\users\\maztl\\anaconda3\\lib\\site-packages (from trio~=0.17->selenium) (2.4.0)\n",
      "Collecting wsproto>=0.14\n",
      "  Downloading wsproto-1.2.0-py3-none-any.whl (24 kB)\n",
      "Requirement already satisfied: PySocks!=1.5.7,<2.0,>=1.5.6 in c:\\users\\maztl\\anaconda3\\lib\\site-packages (from urllib3[socks]~=1.26->selenium) (1.7.1)\n",
      "Requirement already satisfied: pycparser in c:\\users\\maztl\\anaconda3\\lib\\site-packages (from cffi>=1.14->trio~=0.17->selenium) (2.21)\n",
      "Collecting h11<1,>=0.9.0\n",
      "  Downloading h11-0.14.0-py3-none-any.whl (58 kB)\n",
      "     -------------------------------------- 58.3/58.3 kB 153.9 kB/s eta 0:00:00\n",
      "Installing collected packages: outcome, h11, exceptiongroup, async-generator, wsproto, trio, trio-websocket, selenium\n",
      "Successfully installed async-generator-1.10 exceptiongroup-1.0.4 h11-0.14.0 outcome-1.2.0 selenium-4.6.1 trio-0.22.0 trio-websocket-0.9.2 wsproto-1.2.0\n",
      "Note: you may need to restart the kernel to use updated packages.\n"
     ]
    }
   ],
   "source": [
    "pip install selenium"
   ]
  },
  {
   "cell_type": "code",
   "execution_count": 3,
   "id": "96de08ca",
   "metadata": {},
   "outputs": [],
   "source": [
    "import sys, os, time, socket, json\n",
    "import numpy as np\n",
    "import pandas as pd\n",
    "from IPython.display import clear_output\n",
    "\n",
    "import selenium\n",
    "from selenium import webdriver"
   ]
  },
  {
   "cell_type": "code",
   "execution_count": 18,
   "id": "0094ce9e",
   "metadata": {},
   "outputs": [],
   "source": [
    "from selenium.webdriver.common.desired_capabilities import DesiredCapabilities\n",
    "from selenium.webdriver.common.by import *"
   ]
  },
  {
   "cell_type": "code",
   "execution_count": 4,
   "id": "70db85b4",
   "metadata": {
    "scrolled": true
   },
   "outputs": [
    {
     "data": {
      "text/plain": [
       "['C:\\\\Users\\\\maztl\\\\python_class',\n",
       " 'C:\\\\Users\\\\maztl\\\\anaconda3\\\\python39.zip',\n",
       " 'C:\\\\Users\\\\maztl\\\\anaconda3\\\\DLLs',\n",
       " 'C:\\\\Users\\\\maztl\\\\anaconda3\\\\lib',\n",
       " 'C:\\\\Users\\\\maztl\\\\anaconda3',\n",
       " '',\n",
       " 'C:\\\\Users\\\\maztl\\\\anaconda3\\\\lib\\\\site-packages',\n",
       " 'C:\\\\Users\\\\maztl\\\\anaconda3\\\\lib\\\\site-packages\\\\win32',\n",
       " 'C:\\\\Users\\\\maztl\\\\anaconda3\\\\lib\\\\site-packages\\\\win32\\\\lib',\n",
       " 'C:\\\\Users\\\\maztl\\\\anaconda3\\\\lib\\\\site-packages\\\\Pythonwin',\n",
       " 'C:\\\\Users\\\\maztl\\\\anaconda3\\\\lib\\\\site-packages\\\\IPython\\\\extensions',\n",
       " 'C:\\\\Users\\\\maztl\\\\.ipython']"
      ]
     },
     "execution_count": 4,
     "metadata": {},
     "output_type": "execute_result"
    }
   ],
   "source": [
    "sys.path"
   ]
  },
  {
   "cell_type": "code",
   "execution_count": 5,
   "id": "6c01d0ec",
   "metadata": {},
   "outputs": [
    {
     "name": "stdout",
     "output_type": "stream",
     "text": [
      "['C:\\\\Users\\\\maztl\\\\python_class', 'C:\\\\Users\\\\maztl\\\\anaconda3\\\\python39.zip', 'C:\\\\Users\\\\maztl\\\\anaconda3\\\\DLLs', 'C:\\\\Users\\\\maztl\\\\anaconda3\\\\lib', 'C:\\\\Users\\\\maztl\\\\anaconda3', '', 'C:\\\\Users\\\\maztl\\\\anaconda3\\\\lib\\\\site-packages', 'C:\\\\Users\\\\maztl\\\\anaconda3\\\\lib\\\\site-packages\\\\win32', 'C:\\\\Users\\\\maztl\\\\anaconda3\\\\lib\\\\site-packages\\\\win32\\\\lib', 'C:\\\\Users\\\\maztl\\\\anaconda3\\\\lib\\\\site-packages\\\\Pythonwin', 'C:\\\\Users\\\\maztl\\\\anaconda3\\\\lib\\\\site-packages\\\\IPython\\\\extensions', 'C:\\\\Users\\\\maztl\\\\.ipython', 'C:\\\\WebDrivers']\n"
     ]
    }
   ],
   "source": [
    "if r'C:\\WebDrivers' not in sys.path :\n",
    "    sys.path.append(r'C:\\WebDrivers')\n",
    "\n",
    "print(sys.path)"
   ]
  },
  {
   "cell_type": "code",
   "execution_count": 6,
   "id": "097abfd1",
   "metadata": {},
   "outputs": [],
   "source": [
    "chrome = webdriver.Chrome(executable_path='chromedriver')"
   ]
  },
  {
   "cell_type": "code",
   "execution_count": 7,
   "id": "3a9fb912",
   "metadata": {},
   "outputs": [],
   "source": [
    "URL='http://www.google.com.tw'\n",
    "chrome.get(URL)"
   ]
  },
  {
   "cell_type": "code",
   "execution_count": 8,
   "id": "d7b66140",
   "metadata": {},
   "outputs": [],
   "source": [
    "url2='http://news.ltn.com.tw/'\n",
    "chrome.get(url2)"
   ]
  },
  {
   "cell_type": "code",
   "execution_count": 9,
   "id": "370b80ac",
   "metadata": {},
   "outputs": [],
   "source": [
    "url3='http://www.scu.edu.tw'\n",
    "chrome.get(url3)"
   ]
  },
  {
   "cell_type": "code",
   "execution_count": 12,
   "id": "062063e5",
   "metadata": {},
   "outputs": [],
   "source": [
    "chrome.back() # 回上一頁"
   ]
  },
  {
   "cell_type": "code",
   "execution_count": 13,
   "id": "87bda49d",
   "metadata": {},
   "outputs": [],
   "source": [
    "chrome.forward() # 到下一頁"
   ]
  },
  {
   "cell_type": "code",
   "execution_count": null,
   "id": "543ad9e0",
   "metadata": {},
   "outputs": [],
   "source": []
  },
  {
   "cell_type": "code",
   "execution_count": 14,
   "id": "e15db023",
   "metadata": {},
   "outputs": [],
   "source": [
    "urls=['http://www.google.com.tw','http://news.ltn.com.tw/','http://www.scu.edu.tw']"
   ]
  },
  {
   "cell_type": "code",
   "execution_count": 15,
   "id": "fc957b87",
   "metadata": {},
   "outputs": [],
   "source": [
    "chromes=[webdriver.Chrome(executable_path='chromedriver') for _ in range(len(urls))]"
   ]
  },
  {
   "cell_type": "code",
   "execution_count": 16,
   "id": "45f6d0d9",
   "metadata": {},
   "outputs": [],
   "source": [
    "for idx,url in enumerate(urls,start=0):\n",
    "    chromes[idx].get(url)"
   ]
  },
  {
   "cell_type": "code",
   "execution_count": 17,
   "id": "6a4970ae",
   "metadata": {},
   "outputs": [],
   "source": [
    "for i in range(len(urls)):\n",
    "    chromes[i].close()"
   ]
  },
  {
   "cell_type": "code",
   "execution_count": null,
   "id": "511633b1",
   "metadata": {},
   "outputs": [],
   "source": []
  },
  {
   "cell_type": "code",
   "execution_count": 19,
   "id": "abf703f8",
   "metadata": {},
   "outputs": [],
   "source": [
    "url4 = \"http://180.218.162.136:2018/練習Selenium操作用.html\""
   ]
  },
  {
   "cell_type": "code",
   "execution_count": 20,
   "id": "55976637",
   "metadata": {},
   "outputs": [],
   "source": [
    "chrome=webdriver.Chrome(executable_path='chromedriver')"
   ]
  },
  {
   "cell_type": "code",
   "execution_count": 21,
   "id": "914de315",
   "metadata": {},
   "outputs": [],
   "source": [
    "chrome.get(url4)"
   ]
  },
  {
   "cell_type": "code",
   "execution_count": 27,
   "id": "93fc69f1",
   "metadata": {},
   "outputs": [],
   "source": [
    "chrome.find_element(by=By.CSS_SELECTOR,value=\"#fname\").clear()\n",
    "chrome.find_element(by=By.CSS_SELECTOR,value=\"#fname\").send_keys(\"Mack\")"
   ]
  },
  {
   "cell_type": "code",
   "execution_count": 29,
   "id": "1eae7af8",
   "metadata": {},
   "outputs": [],
   "source": [
    "chrome.find_element(by=By.CSS_SELECTOR,value=\"#lname\").clear()\n",
    "chrome.find_element(by=By.CSS_SELECTOR,value=\"#lname\").send_keys(\"Steven\")"
   ]
  },
  {
   "cell_type": "code",
   "execution_count": null,
   "id": "15123bc0",
   "metadata": {},
   "outputs": [],
   "source": []
  },
  {
   "cell_type": "code",
   "execution_count": 30,
   "id": "17f9e1a4",
   "metadata": {},
   "outputs": [],
   "source": [
    "import time"
   ]
  },
  {
   "cell_type": "code",
   "execution_count": 32,
   "id": "47466a49",
   "metadata": {},
   "outputs": [],
   "source": [
    "chrome.find_element(by=By.CSS_SELECTOR,value=\"#male\").click()\n",
    "time.sleep(2)\n",
    "chrome.find_element(by=By.CSS_SELECTOR,value=\"#female\").click()\n",
    "time.sleep(2)\n",
    "chrome.find_element(by=By.CSS_SELECTOR,value=\"#other\").click()\n",
    "time.sleep(2)"
   ]
  },
  {
   "cell_type": "code",
   "execution_count": 39,
   "id": "fdf78e6b",
   "metadata": {},
   "outputs": [],
   "source": [
    "chrome.find_element(by=By.CSS_SELECTOR,value=\"#vehicle1\").click()\n",
    "time.sleep(2)\n",
    "chrome.find_element(by=By.CSS_SELECTOR,value=\"#vehicle1\").click()\n",
    "time.sleep(2)\n",
    "chrome.find_element(by=By.CSS_SELECTOR,value=\"#vehicle2\").click()\n",
    "time.sleep(2)\n",
    "chrome.find_element(by=By.CSS_SELECTOR,value=\"#vehicle3\").click()\n",
    "time.sleep(2)"
   ]
  },
  {
   "cell_type": "code",
   "execution_count": null,
   "id": "c4d3dffc",
   "metadata": {},
   "outputs": [],
   "source": []
  },
  {
   "cell_type": "code",
   "execution_count": 43,
   "id": "69ce3032",
   "metadata": {},
   "outputs": [],
   "source": [
    "#cars > option:nth-child(3)"
   ]
  },
  {
   "cell_type": "code",
   "execution_count": 41,
   "id": "05ae9e7c",
   "metadata": {},
   "outputs": [],
   "source": [
    "chrome.find_element(by=By.CSS_SELECTOR, value=\"#cars > option:nth-child(3)\").click()\n",
    "time.sleep(1.5)\n",
    "chrome.find_element(by=By.CSS_SELECTOR, value=\"#cars > option:nth-child(5)\").click()\n",
    "time.sleep(1.5)\n",
    "chrome.find_element(by=By.CSS_SELECTOR, value=\"#cars > option:nth-child(2)\").click()"
   ]
  },
  {
   "cell_type": "code",
   "execution_count": 42,
   "id": "7b4c852d",
   "metadata": {},
   "outputs": [],
   "source": [
    "chrome.close()"
   ]
  },
  {
   "cell_type": "code",
   "execution_count": null,
   "id": "8d65af28",
   "metadata": {},
   "outputs": [],
   "source": []
  },
  {
   "cell_type": "code",
   "execution_count": 45,
   "id": "a2eb7494",
   "metadata": {},
   "outputs": [],
   "source": [
    "purl=\"https://24h.pchome.com.tw/\"\n",
    "chrome=webdriver.Chrome(executable_path='chromedriver')"
   ]
  },
  {
   "cell_type": "code",
   "execution_count": 46,
   "id": "44e1fcc1",
   "metadata": {},
   "outputs": [],
   "source": [
    "chrome.get(purl)"
   ]
  },
  {
   "cell_type": "code",
   "execution_count": 51,
   "id": "238af228",
   "metadata": {},
   "outputs": [],
   "source": [
    "# #root > div > header > div.container.container--lg > div:nth-child(1) > div > div > div > div > div.c-siteSearchBar > input"
   ]
  },
  {
   "cell_type": "code",
   "execution_count": 47,
   "id": "8f7a90d2",
   "metadata": {},
   "outputs": [],
   "source": [
    "chrome.find_element(by=By.CSS_SELECTOR,value=\"div.c-siteSearchBar > input\").clear()\n",
    "chrome.find_element(by=By.CSS_SELECTOR,value=\"div.c-siteSearchBar > input\").send_keys(\"dyson\")"
   ]
  },
  {
   "cell_type": "code",
   "execution_count": 52,
   "id": "c11debdf",
   "metadata": {},
   "outputs": [],
   "source": [
    "# #root > div > header > div.container.container--lg > div:nth-child(1) > div > div > div > div > div.c-siteSearchBtn > button > span"
   ]
  },
  {
   "cell_type": "code",
   "execution_count": 48,
   "id": "67da8e25",
   "metadata": {},
   "outputs": [],
   "source": [
    "chrome.find_element(by=By.CSS_SELECTOR,value=\"div.c-siteSearchBtn > button > span\").click()"
   ]
  },
  {
   "cell_type": "code",
   "execution_count": 49,
   "id": "7fae2a97",
   "metadata": {},
   "outputs": [],
   "source": [
    "# .prod_name a"
   ]
  },
  {
   "cell_type": "code",
   "execution_count": 55,
   "id": "6eebcbf0",
   "metadata": {},
   "outputs": [],
   "source": [
    "nodes=chrome.find_elements(by=By.CSS_SELECTOR,value=\".prod_name a\")\n",
    "names=[node.text for node in nodes]"
   ]
  },
  {
   "cell_type": "code",
   "execution_count": 59,
   "id": "933a88af",
   "metadata": {},
   "outputs": [
    {
     "name": "stdout",
     "output_type": "stream",
     "text": [
      "['https://cs.ecimg.tw/img/search/v1/layout/8/20220707151235_560x560.jpg', 'https://cs.ecimg.tw/img/search/v1/layout/8/20220707151456_560x560.jpg', 'https://cs-a.ecimg.tw/items/DMBF051900FN7NU/000002_1669559184.jpg', 'https://cs-b.ecimg.tw/items/DMBP011900FN7OB/000002_1669560608.jpg', 'https://cs-c.ecimg.tw/items/DMBF051900FN7NB/000002_1669607859.jpg', 'https://cs-d.ecimg.tw/items/DMBP011900FN7OW/000002_1669560194.jpg', 'https://cs-e.ecimg.tw/items/DMBP011900FN7OU/000002_1669560243.jpg', 'https://cs-f.ecimg.tw/items/DMBP021900FN7O9/000002_1669598448.jpg', 'https://cs-a.ecimg.tw/items/DMBP061900FNE3Z/000002_1669598298.jpg', 'https://cs-b.ecimg.tw/items/DMBP021900FN7OT/000002_1669598419.jpg', 'https://cs-c.ecimg.tw/items/DMBP021900FNE3Y/000002_1669598388.jpg', 'https://cs-d.ecimg.tw/items/DMBP021900FNE4F/000002_1669598349.jpg', 'https://cs-e.ecimg.tw/items/DMBF051900BWH14/000002_1669604902.jpg', 'https://cs-f.ecimg.tw/items/DMBF1U1900F0SAP/000002_1669616832.jpg', 'https://cs-a.ecimg.tw/items/DMBF051900EN855/000002_1669604853.jpg', 'https://cs-b.ecimg.tw/items/DMBF0D1900FN7NV/000002_1669558417.jpg', 'https://cs-c.ecimg.tw/items/DMBF0D1900FC867/000002_1669605373.jpg', 'https://cs-d.ecimg.tw/items/DMBF1FA900F7E89/000002_1669784726.jpg', 'https://cs-e.ecimg.tw/items/DMBF171900BLWOZ/000002_1669605354.jpg', 'https://cs-f.ecimg.tw/items/DMBF0D1900ES380/000002_1669605468.jpg', 'https://cs-a.ecimg.tw/items/DMBF0AA900DYH35/000002_1666319376.jpg', 'https://cs-b.ecimg.tw/items/DMBF051900FSA0C/000002_1669359840.jpg']\n"
     ]
    }
   ],
   "source": [
    "nodes = chrome.find_elements(by=By.CSS_SELECTOR, value=\"img\")\n",
    "print([node.get_attribute('src') for node in nodes])"
   ]
  },
  {
   "cell_type": "code",
   "execution_count": null,
   "id": "9f86a159",
   "metadata": {},
   "outputs": [],
   "source": []
  }
 ],
 "metadata": {
  "kernelspec": {
   "display_name": "Python 3 (ipykernel)",
   "language": "python",
   "name": "python3"
  },
  "language_info": {
   "codemirror_mode": {
    "name": "ipython",
    "version": 3
   },
   "file_extension": ".py",
   "mimetype": "text/x-python",
   "name": "python",
   "nbconvert_exporter": "python",
   "pygments_lexer": "ipython3",
   "version": "3.9.12"
  }
 },
 "nbformat": 4,
 "nbformat_minor": 5
}
