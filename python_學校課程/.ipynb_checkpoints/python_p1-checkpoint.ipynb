{
 "cells": [
  {
   "cell_type": "markdown",
   "id": "6cae75fb",
   "metadata": {},
   "source": [
    "<html>\n",
    "    <h1>hello python</h1>\n",
    "    <h2>hello python</h2>\n",
    "    <h3>hello python</h3>\n",
    "</html>"
   ]
  },
  {
   "cell_type": "markdown",
   "id": "e4e38c4f",
   "metadata": {},
   "source": [
    "# hello world\n",
    "## hello world\n",
    "### hello world"
   ]
  },
  {
   "cell_type": "markdown",
   "id": "0b6fc139",
   "metadata": {},
   "source": [
    "#### <font color=blue> logic </font>"
   ]
  },
  {
   "cell_type": "markdown",
   "id": "5242dd9b",
   "metadata": {},
   "source": [
    "- aaa\n",
    "    - bbb\n",
    "    - ccc\n",
    "- ddd\n",
    "- eee"
   ]
  },
  {
   "cell_type": "markdown",
   "id": "0b992634",
   "metadata": {},
   "source": [
    "* a\n",
    "* b\n",
    "* c\n",
    "* d\n",
    "* e"
   ]
  },
  {
   "cell_type": "markdown",
   "id": "fd7f4c2a",
   "metadata": {},
   "source": [
    "1. a\n",
    "2. b\n",
    "3. c"
   ]
  },
  {
   "cell_type": "markdown",
   "id": "752d00b6",
   "metadata": {},
   "source": [
    "- [class's information](http://114.198.168.26:2022/)\n",
    "    - account\n",
    "    - password\n",
    "- [google](http://www.google.com.tw) \n",
    "- <http://114.198.168.26:2022/> : 直接顯示URL"
   ]
  },
  {
   "cell_type": "code",
   "execution_count": 6,
   "id": "927190ee",
   "metadata": {},
   "outputs": [
    {
     "ename": "SyntaxError",
     "evalue": "invalid syntax (1774283515.py, line 1)",
     "output_type": "error",
     "traceback": [
      "\u001b[1;36m  File \u001b[1;32m\"C:\\Users\\maztl\\AppData\\Local\\Temp\\ipykernel_1160\\1774283515.py\"\u001b[1;36m, line \u001b[1;32m1\u001b[0m\n\u001b[1;33m    <img src=\"https://pgw.udn.com.tw/gw/photo.php?u=https://uc.udn.com.tw/photo/2021/12/30/0/14969367.jpg&x=0&y=0&sw=0&sh=0&sl=W&fw=800&exp=3600&w=930&nt=1\" width=300 align=left>\u001b[0m\n\u001b[1;37m    ^\u001b[0m\n\u001b[1;31mSyntaxError\u001b[0m\u001b[1;31m:\u001b[0m invalid syntax\n"
     ]
    }
   ],
   "source": [
    "<img src=\"\" width=300 align=left>"
   ]
  },
  {
   "cell_type": "markdown",
   "id": "3054f8d1",
   "metadata": {},
   "source": [
    "<img src=\" \" width=300 align=left> </img>"
   ]
  },
  {
   "cell_type": "markdown",
   "id": "344445c0",
   "metadata": {},
   "source": [
    "<pre>\n",
    "  美國媒體《CBS》針對NBA新賽季進行五大位置最佳球員評選，其中將帶領勇士踏上衛冕之路的當家球星史蒂芬柯瑞，成為控球後衛榜單第一人。\n",
    "公鹿「字母哥」阿提托康波力壓籃網杜蘭特與湖人詹姆斯，成為最強大前鋒位置。\n",
    "  甫在男籃歐錦賽表現出色的獨行俠東契奇，依舊無法撼動柯瑞的地位，只能在控球後衛榜排名第2，灰熊莫蘭特第3，七六人「大鬍子」哈登僅排在第7。\n",
    "2020-21賽季率領太陽勇闖總決賽的德文布克，進攻手段愈來愈成熟幹練，在得分後衛榜上榮膺首席；從爵士轉戰騎士的米契爾和公牛拉文也只能緊追其後。\n",
    "</pre>"
   ]
  }
 ],
 "metadata": {
  "kernelspec": {
   "display_name": "Python 3 (ipykernel)",
   "language": "python",
   "name": "python3"
  },
  "language_info": {
   "codemirror_mode": {
    "name": "ipython",
    "version": 3
   },
   "file_extension": ".py",
   "mimetype": "text/x-python",
   "name": "python",
   "nbconvert_exporter": "python",
   "pygments_lexer": "ipython3",
   "version": "3.9.12"
  }
 },
 "nbformat": 4,
 "nbformat_minor": 5
}
