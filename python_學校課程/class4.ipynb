{
 "cells": [
  {
   "cell_type": "code",
   "execution_count": 1,
   "id": "82fc5d14",
   "metadata": {},
   "outputs": [],
   "source": [
    "# -*- coding: utf-8 -*-\n",
    "from platform import python_version\n",
    "import os, time, glob, pickle, socket, sys\n",
    "import pandas as pd"
   ]
  },
  {
   "cell_type": "code",
   "execution_count": 2,
   "id": "b55bdbb9",
   "metadata": {},
   "outputs": [
    {
     "name": "stdout",
     "output_type": "stream",
     "text": [
      "+0800 Thu Thursday Dec December Thu Dec  1 22:44:11 2022 10 PM\n"
     ]
    }
   ],
   "source": [
    "print(time.strftime('%z %a %A %b %B %c %I %p'))"
   ]
  },
  {
   "cell_type": "code",
   "execution_count": 3,
   "id": "e4b343df",
   "metadata": {},
   "outputs": [
    {
     "data": {
      "text/plain": [
       "'Thu Dec  1 22:45:09 2022'"
      ]
     },
     "execution_count": 3,
     "metadata": {},
     "output_type": "execute_result"
    }
   ],
   "source": [
    "time.strftime('%c')"
   ]
  },
  {
   "cell_type": "code",
   "execution_count": 4,
   "id": "ab370a28",
   "metadata": {},
   "outputs": [
    {
     "data": {
      "text/plain": [
       "'10'"
      ]
     },
     "execution_count": 4,
     "metadata": {},
     "output_type": "execute_result"
    }
   ],
   "source": [
    "time.strftime('%I')"
   ]
  },
  {
   "cell_type": "code",
   "execution_count": 5,
   "id": "35c2c66e",
   "metadata": {},
   "outputs": [
    {
     "data": {
      "text/plain": [
       "'C:\\\\Users\\\\maztl\\\\python_class'"
      ]
     },
     "execution_count": 5,
     "metadata": {},
     "output_type": "execute_result"
    }
   ],
   "source": [
    "os.getcwd()"
   ]
  },
  {
   "cell_type": "markdown",
   "id": "55aab285",
   "metadata": {},
   "source": [
    "* 不同路徑的表示法\n",
    "  - path = 'C:\\\\Anaconda3\\\\Lib'            ---  \\ : 跳脫字元\n",
    "  - path = r'C:\\Anaconda3\\Lib\\dbm'          ---  raw string\n",
    "  - path = 'C:/Anaconda3/man'"
   ]
  },
  {
   "cell_type": "code",
   "execution_count": 5,
   "id": "30f412c2",
   "metadata": {},
   "outputs": [],
   "source": [
    "# os.chdir(path) # 去修改當前的檔案路徑"
   ]
  },
  {
   "cell_type": "code",
   "execution_count": 2,
   "id": "d6e216c2",
   "metadata": {},
   "outputs": [],
   "source": [
    "path=r'C:\\temp'\n",
    "if not os.path.exists(path):\n",
    "    os.mkdir(path) # 建立新的檔案目錄"
   ]
  },
  {
   "cell_type": "code",
   "execution_count": 9,
   "id": "3ce05f5b",
   "metadata": {},
   "outputs": [],
   "source": [
    "if os.path.exists(path):\n",
    "    os.rmdir(path) # 刪除檔案目錄"
   ]
  },
  {
   "cell_type": "code",
   "execution_count": null,
   "id": "7c08562a",
   "metadata": {},
   "outputs": [],
   "source": []
  },
  {
   "cell_type": "code",
   "execution_count": 11,
   "id": "5a5eb373",
   "metadata": {},
   "outputs": [],
   "source": [
    "path=r'C:\\TempDir\\A\\B\\C\\D\\E'\n",
    "os.makedirs(path,exist_ok=True) # 先預設若已有檔案就不執行(True)"
   ]
  },
  {
   "cell_type": "code",
   "execution_count": 15,
   "id": "d754a0cc",
   "metadata": {},
   "outputs": [],
   "source": [
    "path = r'C:\\TempDir\\A\\B\\C\\D\\E'\n",
    "os.makedirs(path,exist_ok=True) # 建立多層的目錄"
   ]
  },
  {
   "cell_type": "code",
   "execution_count": 17,
   "id": "727e85dc",
   "metadata": {},
   "outputs": [],
   "source": [
    "if os.path.exists(path):\n",
    "    os.removedirs(path) # 刪除多層的目錄"
   ]
  },
  {
   "cell_type": "code",
   "execution_count": null,
   "id": "40225895",
   "metadata": {},
   "outputs": [],
   "source": []
  },
  {
   "cell_type": "code",
   "execution_count": 1,
   "id": "aa9323de",
   "metadata": {
    "scrolled": true
   },
   "outputs": [
    {
     "name": "stdout",
     "output_type": "stream",
     "text": [
      "<class 'str'>\n"
     ]
    }
   ],
   "source": [
    "msg = u'東吳資管Python'     # u : unicode\n",
    "print(type(msg))"
   ]
  },
  {
   "cell_type": "code",
   "execution_count": 18,
   "id": "fc1dfa79",
   "metadata": {},
   "outputs": [
    {
     "data": {
      "text/plain": [
       "'東吳資管Python'"
      ]
     },
     "execution_count": 18,
     "metadata": {},
     "output_type": "execute_result"
    }
   ],
   "source": [
    "msg"
   ]
  },
  {
   "cell_type": "code",
   "execution_count": 2,
   "id": "35731c6f",
   "metadata": {},
   "outputs": [
    {
     "name": "stdout",
     "output_type": "stream",
     "text": [
      "b'\\xaaF\\xa7d\\xb8\\xea\\xba\\xdePython'\n",
      "b'\\xaaF\\xa7d\\xb8\\xea\\xba\\xdePython'\n",
      "b'\\xaaF\\xa7d\\xb8\\xea\\xba\\xdePython'\n",
      "-------------------------------------\n",
      "b'\\xe6\\x9d\\xb1\\xe5\\x90\\xb3\\xe8\\xb3\\x87\\xe7\\xae\\xa1Python'\n",
      "b'\\xe6\\x9d\\xb1\\xe5\\x90\\xb3\\xe8\\xb3\\x87\\xe7\\xae\\xa1Python'\n",
      "b'\\xef\\xbb\\xbf\\xe6\\x9d\\xb1\\xe5\\x90\\xb3\\xe8\\xb3\\x87\\xe7\\xae\\xa1Python'\n"
     ]
    }
   ],
   "source": [
    "print(msg.encode(encoding='950'))\n",
    "print(msg.encode(encoding='cp950'))\n",
    "print(msg.encode(encoding='ms950'))\n",
    "print('-------------------------------------')\n",
    "print(msg.encode(encoding='utf-8'))\n",
    "print(msg.encode(encoding='utf8'))\n",
    "print(msg.encode(encoding='utf-8-sig'))   # utf-8-bom"
   ]
  },
  {
   "cell_type": "code",
   "execution_count": 4,
   "id": "5e94f0dd",
   "metadata": {},
   "outputs": [
    {
     "name": "stdout",
     "output_type": "stream",
     "text": [
      "東吳資管Python\n",
      "東吳資管Python\n",
      "東吳資管Python\n"
     ]
    }
   ],
   "source": [
    "byte_1 = b'\\xaaF\\xa7d\\xb8\\xea\\xba\\xdePython'\n",
    "byte_2 = b'\\xe6\\x9d\\xb1\\xe5\\x90\\xb3\\xe8\\xb3\\x87\\xe7\\xae\\xa1Python'\n",
    "byte_3 = b'\\xef\\xbb\\xbf\\xe6\\x9d\\xb1\\xe5\\x90\\xb3\\xe8\\xb3\\x87\\xe7\\xae\\xa1Python'\n",
    "print(byte_1.decode(encoding='cp950'))\n",
    "print(byte_2.decode(encoding='utf-8'))\n",
    "print(byte_3.decode(encoding='utf-8-sig'))"
   ]
  },
  {
   "cell_type": "code",
   "execution_count": null,
   "id": "6629ec38",
   "metadata": {},
   "outputs": [],
   "source": []
  },
  {
   "cell_type": "code",
   "execution_count": 24,
   "id": "7d2486d4",
   "metadata": {},
   "outputs": [],
   "source": [
    "# mode = \"wt\" + write() : 會覆蓋掉已經存在的檔案"
   ]
  },
  {
   "cell_type": "code",
   "execution_count": 9,
   "id": "a5bcca7d",
   "metadata": {},
   "outputs": [
    {
     "name": "stdout",
     "output_type": "stream",
     "text": [
      "True\n"
     ]
    }
   ],
   "source": [
    "outf=open(file=r'C:\\Data\\outf.txt',mode='wt',encoding='utf-8')\n",
    "print(outf.writable()) # 做確認用\n",
    "outf.write(\"hello python_001\\n\")\n",
    "outf.write(\"hello python_001\\n\")\n",
    "outf.write(\"hello python_001\\n\")\n",
    "# outf.flush()   # 強制將 buffer 內的資料寫入硬碟\n",
    "outf.close() #要關掉才會寫入"
   ]
  },
  {
   "cell_type": "code",
   "execution_count": 10,
   "id": "a67e8c55",
   "metadata": {},
   "outputs": [],
   "source": [
    "# mode = \"at\" + write() : 不會覆蓋掉已經存在的檔案，會附加到後面"
   ]
  },
  {
   "cell_type": "code",
   "execution_count": 13,
   "id": "0ae17eb1",
   "metadata": {},
   "outputs": [],
   "source": [
    "outf2=open(file=r'C:\\Data\\outf.txt',mode='at',encoding='utf-8')\n",
    "outf2.write(\"hello python_002\\n\")\n",
    "outf2.write(\"hello python_002\\n\")\n",
    "outf2.write(\"hello python_002\\n\")\n",
    "outf2.close()"
   ]
  },
  {
   "cell_type": "code",
   "execution_count": 14,
   "id": "8f9c764c",
   "metadata": {},
   "outputs": [],
   "source": [
    "# mode = \"at\" + writelines() : 不會覆蓋掉已經存在的檔案，會附加到後面。\n",
    "# 將 list 內的字串寫入檔案，每一個元素如同一列"
   ]
  },
  {
   "cell_type": "code",
   "execution_count": 16,
   "id": "09ba6734",
   "metadata": {},
   "outputs": [],
   "source": [
    "data = ['人生苦短、我愛用Python_003\\n', \n",
    "        '人生苦短、我愛用Python_003\\n', \n",
    "        '人生苦短、我愛用Python_003\\n', \n",
    "        '人生苦短、我愛用Python_004\\n', \n",
    "        '人生苦短、我愛用Python_004\\n', \n",
    "        '人生苦短、我愛用Python_004\\n']\n",
    "outf3=open(file=r'C:\\Data\\outf.txt',mode='at',encoding='utf-8')\n",
    "outf3.writelines(data)\n",
    "outf3.close()"
   ]
  },
  {
   "cell_type": "code",
   "execution_count": 17,
   "id": "64ef1de3",
   "metadata": {},
   "outputs": [],
   "source": [
    "# mode = \"rt\" + readline() : 每次讀一列，直到 EOF 回傳空字串\n",
    "#    BOF : Begin Of File\n",
    "#    EOF : End Of File"
   ]
  },
  {
   "cell_type": "code",
   "execution_count": 21,
   "id": "7e40789a",
   "metadata": {
    "scrolled": true
   },
   "outputs": [
    {
     "name": "stdout",
     "output_type": "stream",
     "text": [
      "<class 'str'>\n",
      "hello python_001\n",
      "\n",
      "hello python_001\n",
      "hello python_001\n",
      "hello python_001\n",
      "hello python_002\n",
      "hello python_002\n",
      "hello python_002\n",
      "人生苦短、我愛用Python_003\n",
      "人生苦短、我愛用Python_003\n",
      "人生苦短、我愛用Python_003\n",
      "人生苦短、我愛用Python_004\n",
      "人生苦短、我愛用Python_004\n",
      "人生苦短、我愛用Python_004\n"
     ]
    }
   ],
   "source": [
    "inpf=open(file=r'C:\\Data\\outf.txt',mode='rt',encoding='utf-8')\n",
    "msg=inpf.readline()  # 先讀取一列，之後再用來判斷是否全部讀取完\n",
    "print(type(msg))\n",
    "print(msg)\n",
    "while msg != \"\":      \n",
    "    print(msg,end=\"\")\n",
    "    msg=inpf.readline()\n",
    "inpf.close()"
   ]
  },
  {
   "cell_type": "code",
   "execution_count": 38,
   "id": "b3e38892",
   "metadata": {},
   "outputs": [],
   "source": [
    "# mode = \"rt\" + readlines() : 一次將檔案讀入 list 物件，每一個元素等同於一個列"
   ]
  },
  {
   "cell_type": "code",
   "execution_count": 26,
   "id": "d5e3d3d4",
   "metadata": {},
   "outputs": [
    {
     "name": "stdout",
     "output_type": "stream",
     "text": [
      "True\n",
      "<class 'list'>\n",
      "['hello python_001\\n', 'hello python_001\\n', 'hello python_001\\n', 'hello python_002\\n', 'hello python_002\\n', 'hello python_002\\n', '人生苦短、我愛用Python_003\\n', '人生苦短、我愛用Python_003\\n', '人生苦短、我愛用Python_003\\n', '人生苦短、我愛用Python_004\\n', '人生苦短、我愛用Python_004\\n', '人生苦短、我愛用Python_004\\n']\n"
     ]
    }
   ],
   "source": [
    "inpf = open(file=r'C:\\Data\\outf.txt', mode='rt', encoding='utf-8')\n",
    "print(inpf.readable())\n",
    "msg=inpf.readlines()\n",
    "print(type(msg))\n",
    "print(msg)\n",
    "inpf.close()"
   ]
  },
  {
   "cell_type": "code",
   "execution_count": 27,
   "id": "fdf8be93",
   "metadata": {},
   "outputs": [],
   "source": [
    "# mode = \"rt\" + read() : 一次將檔案讀入 str"
   ]
  },
  {
   "cell_type": "code",
   "execution_count": 30,
   "id": "265f1378",
   "metadata": {},
   "outputs": [
    {
     "name": "stdout",
     "output_type": "stream",
     "text": [
      "<class 'str'>\n",
      "hello python_001\n",
      "hello python_001\n",
      "hello python_001\n",
      "hello python_002\n",
      "hello python_002\n",
      "hello python_002\n",
      "人生苦短、我愛用Python_003\n",
      "人生苦短、我愛用Python_003\n",
      "人生苦短、我愛用Python_003\n",
      "人生苦短、我愛用Python_004\n",
      "人生苦短、我愛用Python_004\n",
      "人生苦短、我愛用Python_004\n",
      "\n"
     ]
    }
   ],
   "source": [
    "inpf = open(file=r'C:\\Data\\outf.txt', mode='rt', encoding='utf-8')\n",
    "msg=inpf.read()\n",
    "print(type(msg))\n",
    "print(msg)\n",
    "inpf.close()"
   ]
  },
  {
   "cell_type": "code",
   "execution_count": null,
   "id": "d3c37020",
   "metadata": {},
   "outputs": [],
   "source": []
  },
  {
   "cell_type": "markdown",
   "id": "fdd1d2e6",
   "metadata": {},
   "source": [
    "###  第二種方法 with open () as alias :"
   ]
  },
  {
   "cell_type": "markdown",
   "id": "5515e0fc",
   "metadata": {},
   "source": [
    "##### 用這個方法不用額外去關檔案"
   ]
  },
  {
   "cell_type": "code",
   "execution_count": 33,
   "id": "a11bfea2",
   "metadata": {},
   "outputs": [],
   "source": [
    "with open(file=r'C:\\Data\\outf.txt',mode='wt',encoding='utf-8') as outf:\n",
    "    outf.write(\"人生苦短、我愛用Python_005\\n\")\n",
    "    outf.write(\"人生苦短、我愛用Python_005\\n\")\n",
    "    outf.write(\"人生苦短、我愛用Python_005\\n\")"
   ]
  },
  {
   "cell_type": "code",
   "execution_count": 34,
   "id": "6a2a6735",
   "metadata": {},
   "outputs": [
    {
     "name": "stdout",
     "output_type": "stream",
     "text": [
      "人生苦短、我愛用Python_005\n",
      "人生苦短、我愛用Python_005\n",
      "人生苦短、我愛用Python_005\n",
      "\n"
     ]
    }
   ],
   "source": [
    "with open(file=r'C:\\Data\\outf.txt',mode='rt',encoding='utf-8') as inpf:\n",
    "    msg=inpf.read()\n",
    "    print(msg)"
   ]
  },
  {
   "cell_type": "markdown",
   "id": "e05daf60",
   "metadata": {},
   "source": [
    "### 方法三 物件導向寫法"
   ]
  },
  {
   "cell_type": "code",
   "execution_count": 35,
   "id": "2edb90c9",
   "metadata": {
    "scrolled": true
   },
   "outputs": [
    {
     "name": "stdout",
     "output_type": "stream",
     "text": [
      "['人生苦短、我愛用', 'Python', '005', '人生苦短、我愛用', 'Python', '005', '人生苦短、我愛用', 'Python', '005', '']\n"
     ]
    }
   ],
   "source": [
    "msg = open(file=r'C:\\Data\\outf.txt', mode='rt', encoding='utf-8') \\\n",
    "                .read() \\\n",
    "                .replace('P', '_P') \\\n",
    "                .replace('\\n','_') \\\n",
    "                .split('_')\n",
    "print(msg)"
   ]
  },
  {
   "cell_type": "code",
   "execution_count": 36,
   "id": "639ff5b5",
   "metadata": {},
   "outputs": [
    {
     "name": "stdout",
     "output_type": "stream",
     "text": [
      "3\n"
     ]
    }
   ],
   "source": [
    "msg = open(file=r'C:\\Data\\outf.txt', mode='rt', encoding='utf-8') \\\n",
    "                .read() \\\n",
    "                .replace('P', '_P') \\\n",
    "                .replace('\\n','_') \\\n",
    "                .split('_') \\\n",
    "                .count('Python')\n",
    "print(msg)"
   ]
  },
  {
   "cell_type": "code",
   "execution_count": null,
   "id": "0d4f1961",
   "metadata": {},
   "outputs": [],
   "source": []
  },
  {
   "cell_type": "markdown",
   "id": "cf6c757f",
   "metadata": {},
   "source": [
    "glob 模組 — Unix style pathname pattern expansion"
   ]
  },
  {
   "cell_type": "code",
   "execution_count": 1,
   "id": "733bcd5a",
   "metadata": {},
   "outputs": [],
   "source": [
    "import glob"
   ]
  },
  {
   "cell_type": "code",
   "execution_count": 53,
   "id": "93f1cb7a",
   "metadata": {},
   "outputs": [
    {
     "name": "stdout",
     "output_type": "stream",
     "text": [
      "30\n",
      "<class 'list'>\n",
      "C:\\Data\\PyData\\AirQty(201604)\\AirQty2016-04-01.csv\n"
     ]
    }
   ],
   "source": [
    "path = r'C:\\Data\\PyData\\AirQty(201604)'\n",
    "fn=glob.glob(path+r'\\*.csv',recursive=False)  # 下一層去找相符合的檔案\n",
    "print(len(fn))\n",
    "print(type(fn))\n",
    "print(fn[0])"
   ]
  },
  {
   "cell_type": "code",
   "execution_count": 10,
   "id": "d6d390a6",
   "metadata": {
    "scrolled": false
   },
   "outputs": [
    {
     "name": "stdout",
     "output_type": "stream",
     "text": [
      "140\n",
      "C:\\Data\\news\\news\\01\\news01002.csv\n"
     ]
    }
   ],
   "source": [
    "path = r'C:\\Data\\news'\n",
    "fn2=glob.glob(path+r'\\**\\*.csv',recursive=True) # 可以更深入地尋找相符合的檔案\n",
    "print(len(fn2))\n",
    "print(fn2[1])"
   ]
  },
  {
   "cell_type": "code",
   "execution_count": null,
   "id": "3863aa33",
   "metadata": {},
   "outputs": [],
   "source": []
  },
  {
   "cell_type": "code",
   "execution_count": 11,
   "id": "60e66ea8",
   "metadata": {},
   "outputs": [],
   "source": [
    "import pickle,joblib"
   ]
  },
  {
   "cell_type": "code",
   "execution_count": null,
   "id": "a0802919",
   "metadata": {},
   "outputs": [],
   "source": []
  },
  {
   "cell_type": "code",
   "execution_count": 13,
   "id": "6f303e5e",
   "metadata": {
    "scrolled": false
   },
   "outputs": [],
   "source": [
    "# print(type(fn2))\n",
    "\n",
    "with open(file=r'C:\\Data\\news.pkl', mode='wb') as outf :\n",
    "    pickle.dump(obj=fn2, file=outf)"
   ]
  },
  {
   "cell_type": "code",
   "execution_count": 14,
   "id": "95684e24",
   "metadata": {},
   "outputs": [
    {
     "name": "stdout",
     "output_type": "stream",
     "text": [
      "<class 'list'>\n",
      "140\n",
      "C:\\Data\\news\\news\\01\\news01001.csv\n"
     ]
    }
   ],
   "source": [
    "with open(file=r'C:\\Data\\news.pkl', mode='rb') as inpf :\n",
    "    fnames2 = pickle.load(inpf)\n",
    "    \n",
    "print(type(fnames2))\n",
    "print(len(fnames2))\n",
    "print(fnames2[0])"
   ]
  },
  {
   "cell_type": "code",
   "execution_count": 15,
   "id": "e6514c40",
   "metadata": {
    "scrolled": true
   },
   "outputs": [
    {
     "data": {
      "text/plain": [
       "['C:\\\\Data\\\\news.job']"
      ]
     },
     "execution_count": 15,
     "metadata": {},
     "output_type": "execute_result"
    }
   ],
   "source": [
    "joblib.dump(value=fn2, filename=r'C:\\Data\\news.job', compress=0)"
   ]
  },
  {
   "cell_type": "code",
   "execution_count": 16,
   "id": "c16498f4",
   "metadata": {},
   "outputs": [
    {
     "name": "stdout",
     "output_type": "stream",
     "text": [
      "<class 'list'>\n",
      "140\n",
      "C:\\Data\\news\\news\\01\\news01001.csv\n"
     ]
    }
   ],
   "source": [
    "fnames3 = joblib.load(filename=r'C:\\Data\\news.job')\n",
    "    \n",
    "print(type(fnames3))\n",
    "print(len(fnames3))\n",
    "print(fnames3[0])"
   ]
  },
  {
   "cell_type": "code",
   "execution_count": null,
   "id": "afe83ec6",
   "metadata": {},
   "outputs": [],
   "source": []
  },
  {
   "cell_type": "markdown",
   "id": "d1dc535b",
   "metadata": {},
   "source": [
    "### 匯入 csv 檔案格式 (使用 pandas module)"
   ]
  },
  {
   "cell_type": "code",
   "execution_count": 12,
   "id": "355377e3",
   "metadata": {},
   "outputs": [],
   "source": [
    "import pandas as pd"
   ]
  },
  {
   "cell_type": "code",
   "execution_count": 70,
   "id": "377912e8",
   "metadata": {},
   "outputs": [
    {
     "name": "stdout",
     "output_type": "stream",
     "text": [
      "<class 'pandas.core.frame.DataFrame'>\n",
      "(76, 17)\n",
      "Index(['SiteName', 'County', 'PSI', 'MajorPollutant', 'Status', 'SO2', 'CO',\n",
      "       'O3', 'PM10', 'PM2.5', 'NO2', 'WindSpeed', 'WindDirec', 'FPMI', 'NOx',\n",
      "       'NO', 'PublishTime'],\n",
      "      dtype='object')\n"
     ]
    },
    {
     "data": {
      "text/html": [
       "<div>\n",
       "<style scoped>\n",
       "    .dataframe tbody tr th:only-of-type {\n",
       "        vertical-align: middle;\n",
       "    }\n",
       "\n",
       "    .dataframe tbody tr th {\n",
       "        vertical-align: top;\n",
       "    }\n",
       "\n",
       "    .dataframe thead th {\n",
       "        text-align: right;\n",
       "    }\n",
       "</style>\n",
       "<table border=\"1\" class=\"dataframe\">\n",
       "  <thead>\n",
       "    <tr style=\"text-align: right;\">\n",
       "      <th></th>\n",
       "      <th>SiteName</th>\n",
       "      <th>County</th>\n",
       "      <th>PSI</th>\n",
       "      <th>MajorPollutant</th>\n",
       "      <th>Status</th>\n",
       "      <th>SO2</th>\n",
       "      <th>CO</th>\n",
       "      <th>O3</th>\n",
       "      <th>PM10</th>\n",
       "      <th>PM2.5</th>\n",
       "      <th>NO2</th>\n",
       "      <th>WindSpeed</th>\n",
       "      <th>WindDirec</th>\n",
       "      <th>FPMI</th>\n",
       "      <th>NOx</th>\n",
       "      <th>NO</th>\n",
       "      <th>PublishTime</th>\n",
       "    </tr>\n",
       "  </thead>\n",
       "  <tbody>\n",
       "    <tr>\n",
       "      <th>0</th>\n",
       "      <td>麥寮</td>\n",
       "      <td>雲林縣</td>\n",
       "      <td>36</td>\n",
       "      <td>NaN</td>\n",
       "      <td>良好</td>\n",
       "      <td>1.2</td>\n",
       "      <td>0.11</td>\n",
       "      <td>10.0</td>\n",
       "      <td>35.0</td>\n",
       "      <td>7</td>\n",
       "      <td>4.5</td>\n",
       "      <td>2.2</td>\n",
       "      <td>182.0</td>\n",
       "      <td>1</td>\n",
       "      <td>6.78</td>\n",
       "      <td>2.30</td>\n",
       "      <td>2016/6/1 02:00</td>\n",
       "    </tr>\n",
       "    <tr>\n",
       "      <th>1</th>\n",
       "      <td>關山</td>\n",
       "      <td>臺東縣</td>\n",
       "      <td>23</td>\n",
       "      <td>NaN</td>\n",
       "      <td>良好</td>\n",
       "      <td>1.2</td>\n",
       "      <td>NaN</td>\n",
       "      <td>5.1</td>\n",
       "      <td>21.0</td>\n",
       "      <td>7</td>\n",
       "      <td>3.6</td>\n",
       "      <td>0.7</td>\n",
       "      <td>232.0</td>\n",
       "      <td>1</td>\n",
       "      <td>4.89</td>\n",
       "      <td>1.32</td>\n",
       "      <td>2016/6/1 02:00</td>\n",
       "    </tr>\n",
       "    <tr>\n",
       "      <th>2</th>\n",
       "      <td>馬公</td>\n",
       "      <td>澎湖縣</td>\n",
       "      <td>16</td>\n",
       "      <td>NaN</td>\n",
       "      <td>良好</td>\n",
       "      <td>0.8</td>\n",
       "      <td>0.09</td>\n",
       "      <td>20.0</td>\n",
       "      <td>5.0</td>\n",
       "      <td>2</td>\n",
       "      <td>1.7</td>\n",
       "      <td>2.5</td>\n",
       "      <td>173.0</td>\n",
       "      <td>1</td>\n",
       "      <td>3.26</td>\n",
       "      <td>1.53</td>\n",
       "      <td>2016/6/1 02:00</td>\n",
       "    </tr>\n",
       "  </tbody>\n",
       "</table>\n",
       "</div>"
      ],
      "text/plain": [
       "  SiteName County  PSI MajorPollutant Status  SO2    CO    O3  PM10  PM2.5  \\\n",
       "0       麥寮    雲林縣   36            NaN     良好  1.2  0.11  10.0  35.0      7   \n",
       "1       關山    臺東縣   23            NaN     良好  1.2   NaN   5.1  21.0      7   \n",
       "2       馬公    澎湖縣   16            NaN     良好  0.8  0.09  20.0   5.0      2   \n",
       "\n",
       "   NO2  WindSpeed  WindDirec  FPMI   NOx    NO     PublishTime  \n",
       "0  4.5        2.2      182.0     1  6.78  2.30  2016/6/1 02:00  \n",
       "1  3.6        0.7      232.0     1  4.89  1.32  2016/6/1 02:00  \n",
       "2  1.7        2.5      173.0     1  3.26  1.53  2016/6/1 02:00  "
      ]
     },
     "execution_count": 70,
     "metadata": {},
     "output_type": "execute_result"
    }
   ],
   "source": [
    "fname = r'C:\\Data\\PyData\\AirQty2016-06-01_CP950.csv'\n",
    "air=pd.read_csv(fname,sep=',',encoding='cp950',engine='python')\n",
    "print(type(air))\n",
    "print(air.shape)\n",
    "print(air.columns)\n",
    "air.head(3)"
   ]
  },
  {
   "cell_type": "code",
   "execution_count": 23,
   "id": "372a7395",
   "metadata": {
    "scrolled": true
   },
   "outputs": [
    {
     "name": "stdout",
     "output_type": "stream",
     "text": [
      "Index(['SiteName', 'County', 'PSI', 'MajorPollutant', 'Status', 'SO2', 'CO',\n",
      "       'O3', 'PM10', 'PM2.5', 'NO2', 'WindSpeed', 'WindDirec', 'FPMI', 'NOx',\n",
      "       'NO', 'PublishTime'],\n",
      "      dtype='object')\n"
     ]
    },
    {
     "data": {
      "text/html": [
       "<div>\n",
       "<style scoped>\n",
       "    .dataframe tbody tr th:only-of-type {\n",
       "        vertical-align: middle;\n",
       "    }\n",
       "\n",
       "    .dataframe tbody tr th {\n",
       "        vertical-align: top;\n",
       "    }\n",
       "\n",
       "    .dataframe thead th {\n",
       "        text-align: right;\n",
       "    }\n",
       "</style>\n",
       "<table border=\"1\" class=\"dataframe\">\n",
       "  <thead>\n",
       "    <tr style=\"text-align: right;\">\n",
       "      <th></th>\n",
       "      <th>SiteName</th>\n",
       "      <th>County</th>\n",
       "      <th>PSI</th>\n",
       "      <th>MajorPollutant</th>\n",
       "      <th>Status</th>\n",
       "      <th>SO2</th>\n",
       "      <th>CO</th>\n",
       "      <th>O3</th>\n",
       "      <th>PM10</th>\n",
       "      <th>PM2.5</th>\n",
       "      <th>NO2</th>\n",
       "      <th>WindSpeed</th>\n",
       "      <th>WindDirec</th>\n",
       "      <th>FPMI</th>\n",
       "      <th>NOx</th>\n",
       "      <th>NO</th>\n",
       "      <th>PublishTime</th>\n",
       "    </tr>\n",
       "  </thead>\n",
       "  <tbody>\n",
       "    <tr>\n",
       "      <th>0</th>\n",
       "      <td>麥寮</td>\n",
       "      <td>雲林縣</td>\n",
       "      <td>36</td>\n",
       "      <td>NaN</td>\n",
       "      <td>良好</td>\n",
       "      <td>1.2</td>\n",
       "      <td>0.11</td>\n",
       "      <td>10.0</td>\n",
       "      <td>35.0</td>\n",
       "      <td>7</td>\n",
       "      <td>4.5</td>\n",
       "      <td>2.2</td>\n",
       "      <td>182.0</td>\n",
       "      <td>1</td>\n",
       "      <td>6.78</td>\n",
       "      <td>2.30</td>\n",
       "      <td>2016/6/1 02:00</td>\n",
       "    </tr>\n",
       "    <tr>\n",
       "      <th>1</th>\n",
       "      <td>關山</td>\n",
       "      <td>臺東縣</td>\n",
       "      <td>23</td>\n",
       "      <td>NaN</td>\n",
       "      <td>良好</td>\n",
       "      <td>1.2</td>\n",
       "      <td>NaN</td>\n",
       "      <td>5.1</td>\n",
       "      <td>21.0</td>\n",
       "      <td>7</td>\n",
       "      <td>3.6</td>\n",
       "      <td>0.7</td>\n",
       "      <td>232.0</td>\n",
       "      <td>1</td>\n",
       "      <td>4.89</td>\n",
       "      <td>1.32</td>\n",
       "      <td>2016/6/1 02:00</td>\n",
       "    </tr>\n",
       "    <tr>\n",
       "      <th>2</th>\n",
       "      <td>馬公</td>\n",
       "      <td>澎湖縣</td>\n",
       "      <td>16</td>\n",
       "      <td>NaN</td>\n",
       "      <td>良好</td>\n",
       "      <td>0.8</td>\n",
       "      <td>0.09</td>\n",
       "      <td>20.0</td>\n",
       "      <td>5.0</td>\n",
       "      <td>2</td>\n",
       "      <td>1.7</td>\n",
       "      <td>2.5</td>\n",
       "      <td>173.0</td>\n",
       "      <td>1</td>\n",
       "      <td>3.26</td>\n",
       "      <td>1.53</td>\n",
       "      <td>2016/6/1 02:00</td>\n",
       "    </tr>\n",
       "  </tbody>\n",
       "</table>\n",
       "</div>"
      ],
      "text/plain": [
       "  SiteName County  PSI MajorPollutant Status  SO2    CO    O3  PM10  PM2.5  \\\n",
       "0       麥寮    雲林縣   36            NaN     良好  1.2  0.11  10.0  35.0      7   \n",
       "1       關山    臺東縣   23            NaN     良好  1.2   NaN   5.1  21.0      7   \n",
       "2       馬公    澎湖縣   16            NaN     良好  0.8  0.09  20.0   5.0      2   \n",
       "\n",
       "   NO2  WindSpeed  WindDirec  FPMI   NOx    NO     PublishTime  \n",
       "0  4.5        2.2      182.0     1  6.78  2.30  2016/6/1 02:00  \n",
       "1  3.6        0.7      232.0     1  4.89  1.32  2016/6/1 02:00  \n",
       "2  1.7        2.5      173.0     1  3.26  1.53  2016/6/1 02:00  "
      ]
     },
     "execution_count": 23,
     "metadata": {},
     "output_type": "execute_result"
    }
   ],
   "source": [
    "fname = r'C:\\Data\\PyData\\AirQty2016-06-01_UTF8.csv'\n",
    "airQty=pd.read_csv(fname,sep=',',encoding='utf-8',engine='python')\n",
    "print(airQty.columns)\n",
    "airQty.head(3)"
   ]
  },
  {
   "cell_type": "code",
   "execution_count": 72,
   "id": "2fb3cfa4",
   "metadata": {},
   "outputs": [
    {
     "data": {
      "text/html": [
       "<div>\n",
       "<style scoped>\n",
       "    .dataframe tbody tr th:only-of-type {\n",
       "        vertical-align: middle;\n",
       "    }\n",
       "\n",
       "    .dataframe tbody tr th {\n",
       "        vertical-align: top;\n",
       "    }\n",
       "\n",
       "    .dataframe thead th {\n",
       "        text-align: right;\n",
       "    }\n",
       "</style>\n",
       "<table border=\"1\" class=\"dataframe\">\n",
       "  <thead>\n",
       "    <tr style=\"text-align: right;\">\n",
       "      <th></th>\n",
       "      <th>SiteName</th>\n",
       "      <th>County</th>\n",
       "      <th>PSI</th>\n",
       "      <th>MajorPollutant</th>\n",
       "      <th>Status</th>\n",
       "      <th>SO2</th>\n",
       "      <th>CO</th>\n",
       "      <th>O3</th>\n",
       "      <th>PM10</th>\n",
       "      <th>PM2.5</th>\n",
       "      <th>NO2</th>\n",
       "      <th>WindSpeed</th>\n",
       "      <th>WindDirec</th>\n",
       "      <th>FPMI</th>\n",
       "      <th>NOx</th>\n",
       "      <th>NO</th>\n",
       "      <th>PublishTime</th>\n",
       "    </tr>\n",
       "  </thead>\n",
       "  <tbody>\n",
       "    <tr>\n",
       "      <th>0</th>\n",
       "      <td>麥寮</td>\n",
       "      <td>雲林縣</td>\n",
       "      <td>36</td>\n",
       "      <td>NaN</td>\n",
       "      <td>良好</td>\n",
       "      <td>1.2</td>\n",
       "      <td>0.11</td>\n",
       "      <td>10.0</td>\n",
       "      <td>35.0</td>\n",
       "      <td>7</td>\n",
       "      <td>4.5</td>\n",
       "      <td>2.2</td>\n",
       "      <td>182.0</td>\n",
       "      <td>1</td>\n",
       "      <td>6.78</td>\n",
       "      <td>2.30</td>\n",
       "      <td>2016/6/1 02:00</td>\n",
       "    </tr>\n",
       "    <tr>\n",
       "      <th>1</th>\n",
       "      <td>關山</td>\n",
       "      <td>臺東縣</td>\n",
       "      <td>23</td>\n",
       "      <td>NaN</td>\n",
       "      <td>良好</td>\n",
       "      <td>1.2</td>\n",
       "      <td>NaN</td>\n",
       "      <td>5.1</td>\n",
       "      <td>21.0</td>\n",
       "      <td>7</td>\n",
       "      <td>3.6</td>\n",
       "      <td>0.7</td>\n",
       "      <td>232.0</td>\n",
       "      <td>1</td>\n",
       "      <td>4.89</td>\n",
       "      <td>1.32</td>\n",
       "      <td>2016/6/1 02:00</td>\n",
       "    </tr>\n",
       "    <tr>\n",
       "      <th>2</th>\n",
       "      <td>馬公</td>\n",
       "      <td>澎湖縣</td>\n",
       "      <td>16</td>\n",
       "      <td>NaN</td>\n",
       "      <td>良好</td>\n",
       "      <td>0.8</td>\n",
       "      <td>0.09</td>\n",
       "      <td>20.0</td>\n",
       "      <td>5.0</td>\n",
       "      <td>2</td>\n",
       "      <td>1.7</td>\n",
       "      <td>2.5</td>\n",
       "      <td>173.0</td>\n",
       "      <td>1</td>\n",
       "      <td>3.26</td>\n",
       "      <td>1.53</td>\n",
       "      <td>2016/6/1 02:00</td>\n",
       "    </tr>\n",
       "  </tbody>\n",
       "</table>\n",
       "</div>"
      ],
      "text/plain": [
       "  SiteName County  PSI MajorPollutant Status  SO2    CO    O3  PM10  PM2.5  \\\n",
       "0       麥寮    雲林縣   36            NaN     良好  1.2  0.11  10.0  35.0      7   \n",
       "1       關山    臺東縣   23            NaN     良好  1.2   NaN   5.1  21.0      7   \n",
       "2       馬公    澎湖縣   16            NaN     良好  0.8  0.09  20.0   5.0      2   \n",
       "\n",
       "   NO2  WindSpeed  WindDirec  FPMI   NOx    NO     PublishTime  \n",
       "0  4.5        2.2      182.0     1  6.78  2.30  2016/6/1 02:00  \n",
       "1  3.6        0.7      232.0     1  4.89  1.32  2016/6/1 02:00  \n",
       "2  1.7        2.5      173.0     1  3.26  1.53  2016/6/1 02:00  "
      ]
     },
     "execution_count": 72,
     "metadata": {},
     "output_type": "execute_result"
    }
   ],
   "source": [
    "fname = r'C:\\Data\\PyData\\AirQty2016-06-01_UTF8_BOM.csv'\n",
    "airQty=pd.read_csv(fname,sep=',',encoding='utf-8-sig',engine='python')\n",
    "airQty.head(3)"
   ]
  },
  {
   "cell_type": "markdown",
   "id": "37cc8341",
   "metadata": {},
   "source": [
    "### 匯入 excel 檔案格式"
   ]
  },
  {
   "cell_type": "code",
   "execution_count": 73,
   "id": "e7342fbf",
   "metadata": {},
   "outputs": [
    {
     "name": "stdout",
     "output_type": "stream",
     "text": [
      "(697287, 10)\n",
      "Wall time: 3min 25s\n"
     ]
    }
   ],
   "source": [
    "%%time\n",
    "fname = r'C:\\Data\\PyData\\rlog2016-06-01.xlsx'\n",
    "air=pd.read_excel(fname)\n",
    "print(air.shape)"
   ]
  },
  {
   "cell_type": "code",
   "execution_count": 22,
   "id": "402c4211",
   "metadata": {
    "scrolled": true
   },
   "outputs": [
    {
     "name": "stdout",
     "output_type": "stream",
     "text": [
      "(697287, 10)\n",
      "Wall time: 4.68 s\n"
     ]
    }
   ],
   "source": [
    "%%time\n",
    "fname=fname = r'C:\\Data\\PyData\\rlog2016-06-01.csv'\n",
    "rlog = pd.read_csv(fname, sep=',', encoding='utf-8', engine='python')\n",
    "print(rlog.shape)"
   ]
  },
  {
   "cell_type": "code",
   "execution_count": 77,
   "id": "8457c047",
   "metadata": {},
   "outputs": [
    {
     "name": "stdout",
     "output_type": "stream",
     "text": [
      "<class 'pandas.core.frame.DataFrame'>\n"
     ]
    }
   ],
   "source": [
    "print(type(rlog))"
   ]
  },
  {
   "cell_type": "markdown",
   "id": "cbc4e544",
   "metadata": {},
   "source": [
    "### 匯出 csv / excel 檔案格式\n",
    " pandas.DataFrame.to_**()"
   ]
  },
  {
   "cell_type": "code",
   "execution_count": 26,
   "id": "f15a135c",
   "metadata": {},
   "outputs": [],
   "source": [
    "airQty.to_excel(r'C:\\Data\\airQty.xlsx',sheet_name='空氣污染指標',index=False)"
   ]
  },
  {
   "cell_type": "code",
   "execution_count": 27,
   "id": "d810d539",
   "metadata": {},
   "outputs": [],
   "source": [
    "rlog.to_csv(r'C:\\Data\\rlog.txt',sep=',',index=False) # 出來的結果會是記事本，是文字檔"
   ]
  },
  {
   "cell_type": "code",
   "execution_count": null,
   "id": "926eedca",
   "metadata": {},
   "outputs": [],
   "source": []
  },
  {
   "cell_type": "code",
   "execution_count": null,
   "id": "8ff6b246",
   "metadata": {},
   "outputs": [],
   "source": []
  },
  {
   "cell_type": "code",
   "execution_count": null,
   "id": "b2110aac",
   "metadata": {},
   "outputs": [],
   "source": []
  },
  {
   "cell_type": "code",
   "execution_count": null,
   "id": "f28122e2",
   "metadata": {},
   "outputs": [],
   "source": []
  },
  {
   "cell_type": "code",
   "execution_count": null,
   "id": "4610b1d0",
   "metadata": {},
   "outputs": [],
   "source": []
  },
  {
   "cell_type": "code",
   "execution_count": null,
   "id": "6fdd39dd",
   "metadata": {},
   "outputs": [],
   "source": []
  },
  {
   "cell_type": "code",
   "execution_count": null,
   "id": "909424e5",
   "metadata": {},
   "outputs": [],
   "source": []
  },
  {
   "cell_type": "code",
   "execution_count": null,
   "id": "a4151bac",
   "metadata": {},
   "outputs": [],
   "source": []
  },
  {
   "cell_type": "code",
   "execution_count": null,
   "id": "962d74be",
   "metadata": {},
   "outputs": [],
   "source": []
  },
  {
   "cell_type": "code",
   "execution_count": null,
   "id": "32c850e7",
   "metadata": {},
   "outputs": [],
   "source": []
  },
  {
   "cell_type": "code",
   "execution_count": null,
   "id": "61804057",
   "metadata": {},
   "outputs": [],
   "source": []
  },
  {
   "cell_type": "code",
   "execution_count": null,
   "id": "4dd606d4",
   "metadata": {},
   "outputs": [],
   "source": []
  },
  {
   "cell_type": "code",
   "execution_count": null,
   "id": "aa1890fa",
   "metadata": {},
   "outputs": [],
   "source": []
  },
  {
   "cell_type": "code",
   "execution_count": null,
   "id": "c17611f4",
   "metadata": {},
   "outputs": [],
   "source": []
  },
  {
   "cell_type": "code",
   "execution_count": null,
   "id": "1ccef1fb",
   "metadata": {},
   "outputs": [],
   "source": []
  },
  {
   "cell_type": "code",
   "execution_count": null,
   "id": "8e116f9d",
   "metadata": {},
   "outputs": [],
   "source": []
  },
  {
   "cell_type": "code",
   "execution_count": null,
   "id": "cc09804a",
   "metadata": {},
   "outputs": [],
   "source": []
  },
  {
   "cell_type": "code",
   "execution_count": null,
   "id": "f8fc24d4",
   "metadata": {},
   "outputs": [],
   "source": []
  },
  {
   "cell_type": "code",
   "execution_count": null,
   "id": "f1c04e03",
   "metadata": {},
   "outputs": [],
   "source": []
  },
  {
   "cell_type": "code",
   "execution_count": null,
   "id": "50195de2",
   "metadata": {},
   "outputs": [],
   "source": []
  },
  {
   "cell_type": "code",
   "execution_count": null,
   "id": "416a00ff",
   "metadata": {},
   "outputs": [],
   "source": []
  },
  {
   "cell_type": "code",
   "execution_count": null,
   "id": "627bcb4b",
   "metadata": {},
   "outputs": [],
   "source": []
  },
  {
   "cell_type": "code",
   "execution_count": null,
   "id": "96b05871",
   "metadata": {},
   "outputs": [],
   "source": []
  },
  {
   "cell_type": "code",
   "execution_count": null,
   "id": "26a9ccbc",
   "metadata": {},
   "outputs": [],
   "source": []
  },
  {
   "cell_type": "code",
   "execution_count": null,
   "id": "393b6515",
   "metadata": {},
   "outputs": [],
   "source": []
  },
  {
   "cell_type": "code",
   "execution_count": null,
   "id": "cf3ae7cd",
   "metadata": {},
   "outputs": [],
   "source": []
  },
  {
   "cell_type": "code",
   "execution_count": null,
   "id": "6a48d3e8",
   "metadata": {},
   "outputs": [],
   "source": []
  },
  {
   "cell_type": "code",
   "execution_count": null,
   "id": "ec4205fe",
   "metadata": {},
   "outputs": [],
   "source": []
  },
  {
   "cell_type": "code",
   "execution_count": null,
   "id": "aa19cbf1",
   "metadata": {},
   "outputs": [],
   "source": []
  },
  {
   "cell_type": "code",
   "execution_count": null,
   "id": "ab1cc06c",
   "metadata": {},
   "outputs": [],
   "source": []
  },
  {
   "cell_type": "code",
   "execution_count": null,
   "id": "3c92d2df",
   "metadata": {},
   "outputs": [],
   "source": []
  },
  {
   "cell_type": "code",
   "execution_count": null,
   "id": "f4e844a6",
   "metadata": {},
   "outputs": [],
   "source": []
  },
  {
   "cell_type": "code",
   "execution_count": null,
   "id": "ee8df994",
   "metadata": {},
   "outputs": [],
   "source": []
  },
  {
   "cell_type": "code",
   "execution_count": null,
   "id": "8f50e671",
   "metadata": {},
   "outputs": [],
   "source": []
  },
  {
   "cell_type": "code",
   "execution_count": null,
   "id": "82a1b806",
   "metadata": {},
   "outputs": [],
   "source": []
  },
  {
   "cell_type": "code",
   "execution_count": null,
   "id": "2c078a83",
   "metadata": {},
   "outputs": [],
   "source": []
  },
  {
   "cell_type": "code",
   "execution_count": null,
   "id": "0464920f",
   "metadata": {},
   "outputs": [],
   "source": []
  },
  {
   "cell_type": "code",
   "execution_count": null,
   "id": "71f7b042",
   "metadata": {},
   "outputs": [],
   "source": []
  },
  {
   "cell_type": "code",
   "execution_count": null,
   "id": "a62d219a",
   "metadata": {},
   "outputs": [],
   "source": []
  },
  {
   "cell_type": "code",
   "execution_count": null,
   "id": "8e135eb8",
   "metadata": {},
   "outputs": [],
   "source": []
  },
  {
   "cell_type": "code",
   "execution_count": null,
   "id": "4fb19f30",
   "metadata": {},
   "outputs": [],
   "source": []
  }
 ],
 "metadata": {
  "kernelspec": {
   "display_name": "Python 3 (ipykernel)",
   "language": "python",
   "name": "python3"
  },
  "language_info": {
   "codemirror_mode": {
    "name": "ipython",
    "version": 3
   },
   "file_extension": ".py",
   "mimetype": "text/x-python",
   "name": "python",
   "nbconvert_exporter": "python",
   "pygments_lexer": "ipython3",
   "version": "3.9.12"
  }
 },
 "nbformat": 4,
 "nbformat_minor": 5
}
