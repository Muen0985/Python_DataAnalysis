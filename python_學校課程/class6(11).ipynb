{
 "cells": [
  {
   "cell_type": "code",
   "execution_count": 1,
   "id": "72a02539",
   "metadata": {},
   "outputs": [],
   "source": [
    "import os, time, socket\n",
    "import pandas as pd"
   ]
  },
  {
   "cell_type": "code",
   "execution_count": 2,
   "id": "651eff2c",
   "metadata": {},
   "outputs": [],
   "source": [
    "import bs4,lxml\n",
    "from bs4 import BeautifulSoup\n",
    "from lxml import etree\n",
    "import requests"
   ]
  },
  {
   "cell_type": "markdown",
   "id": "bdfe7fc8",
   "metadata": {},
   "source": [
    "<html>\n",
    "    <head>\n",
    "        <h3>這裡放的是 text</h3>\n",
    "    </head>\n",
    "    <body>\n",
    "        <p>a<br>b c d</p>\n",
    "    </body>\n",
    "</html>"
   ]
  },
  {
   "cell_type": "markdown",
   "id": "14659ec4",
   "metadata": {},
   "source": [
    "<table>\n",
    "    <tr> <td>a1</td> <td>a2</td> <td>a3</td> <td>a3</td> </tr>\n",
    "    <tr> <td>B1</td> <td>B2</td> <td>B3</td> <td>B4</td> </tr>\n",
    "    <tr> <td>C1</td> <td>C2</td> <td>C3</td> <td>C4</td> </tr>\n",
    "</table>\n",
    "   "
   ]
  },
  {
   "cell_type": "markdown",
   "id": "2f108150",
   "metadata": {},
   "source": [
    "<table>\n",
    "    <tr><th>a1</th><th>a2</th><th>a3</th><th>a3</th></tr>\n",
    "    <tr><th>B1</th><td>B2</td><td>B3</td><td>B4</td></tr>\n",
    "    <tr><th>C1</th><td>C2</td><td>C3</td><td>C4</td></tr>\n",
    "</table>\n",
    "   "
   ]
  },
  {
   "cell_type": "code",
   "execution_count": 4,
   "id": "797bc66e",
   "metadata": {},
   "outputs": [],
   "source": [
    "txt = \"\"\"\n",
    "<table>\n",
    "    <tr><td>A1</td><td>A2</td><td>A3</td><td>A4</td></tr>\n",
    "    <tr><td>B1</td><td>B2</td><td>B3</td><td>B4</td></tr>\n",
    "    <tr><td>C1</td><td>C2</td><td>C3</td><td>C4</td></tr>\n",
    "</table>\n",
    "\n",
    "<table>\n",
    "    <tr><td>X1</td><td>X2</td><td>X3</td><td>X4</td></tr>\n",
    "    <tr><td>Y1</td><td>Y2</td><td>Y3</td><td>Y4</td></tr>\n",
    "    <tr><td>Z1</td><td>Z2</td><td>X3</td><td>Z4</td></tr>\n",
    "</table>\n",
    "\"\"\""
   ]
  },
  {
   "cell_type": "code",
   "execution_count": 9,
   "id": "c2038d00",
   "metadata": {
    "scrolled": false
   },
   "outputs": [
    {
     "name": "stdout",
     "output_type": "stream",
     "text": [
      "<class 'list'>\n",
      "2\n",
      "    0   1   2   3\n",
      "0  A1  A2  A3  A4\n",
      "1  B1  B2  B3  B4\n",
      "2  C1  C2  C3  C4\n",
      "<class 'pandas.core.frame.DataFrame'>\n"
     ]
    }
   ],
   "source": [
    "df_list=pd.read_html(txt)\n",
    "print(type(df_list))\n",
    "print(len(df_list))\n",
    "print(df_list[0])\n",
    "print(type(df_list[0]))"
   ]
  },
  {
   "cell_type": "code",
   "execution_count": 10,
   "id": "ea04be8d",
   "metadata": {
    "scrolled": true
   },
   "outputs": [
    {
     "name": "stdout",
     "output_type": "stream",
     "text": [
      "1----------------\n",
      "    0   1   2   3\n",
      "0  A1  A2  A3  A4\n",
      "1  B1  B2  B3  B4\n",
      "2  C1  C2  C3  C4\n",
      "2----------------\n",
      "    0   1   2   3\n",
      "0  X1  X2  X3  X4\n",
      "1  Y1  Y2  Y3  Y4\n",
      "2  Z1  Z2  X3  Z4\n"
     ]
    }
   ],
   "source": [
    "for idx,df in enumerate(df_list,start=1):\n",
    "    print(f'{idx}----------------')\n",
    "    print(df)"
   ]
  },
  {
   "cell_type": "code",
   "execution_count": null,
   "id": "72c11f58",
   "metadata": {},
   "outputs": [],
   "source": []
  },
  {
   "cell_type": "markdown",
   "id": "63e37228",
   "metadata": {},
   "source": [
    "#### CSS Selector(選取器) : 適用於 HTML\n",
    "\n",
    "#### XPath (XPath stands for XML Path Language) : 適用於 HTML/XML\n",
    "\n",
    "#### JSON Path : 適用於 JSON"
   ]
  },
  {
   "cell_type": "code",
   "execution_count": 11,
   "id": "5b90dc2e",
   "metadata": {},
   "outputs": [],
   "source": [
    "xmltxt = \"\"\" \n",
    "<?xml version=\"1.0\" encoding=\"UTF-8\"?>\n",
    "<bookstore>\n",
    "    <book>\n",
    "      <title bookid='MP31510'>SQL Server 2014專業開發與設計</title>\n",
    "      <author>陳祥輝</author>\n",
    "      <year>2015</year>\n",
    "      <price>680</price>\n",
    "    </book>\n",
    "    <book>\n",
    "      <title bookid='MP21629'>Oracle PL/SQL程式設計(暢銷回饋版)</title>\n",
    "      <author>陳祥輝</author>\n",
    "      <year>2016</year>\n",
    "      <price>580</price>\n",
    "    </book>\n",
    "    <book>\n",
    "      <title bookid='MP21724'>SQL Server效能調校(暢銷修訂版)</title>\n",
    "      <author authorID='1'>陳祥輝</author>\n",
    "      <author authorID='2'>陳臆如</author>\n",
    "      <author authorID='3'>黃浩</author>\n",
    "      <year>2017</year>\n",
    "      <price>450</price>\n",
    "    </book>\n",
    "</bookstore>\n",
    "\"\"\""
   ]
  },
  {
   "cell_type": "code",
   "execution_count": 17,
   "id": "25d5bced",
   "metadata": {
    "scrolled": false
   },
   "outputs": [
    {
     "name": "stdout",
     "output_type": "stream",
     "text": [
      "<class 'lxml.etree._Element'>\n",
      "<class 'list'>\n",
      "3\n",
      "SQL Server 2014專業開發與設計\n"
     ]
    }
   ],
   "source": [
    "xml_obj=etree.HTML(xmltxt) # 先把純文字轉成物件\n",
    "print(type(xml_obj))\n",
    "nodes=xml_obj.xpath(_path='//book/title')\n",
    "print(type(nodes))\n",
    "print(len(nodes))\n",
    "print(nodes[0].text)  # .text 指的就是 成對標籤中間的文字"
   ]
  },
  {
   "cell_type": "code",
   "execution_count": 19,
   "id": "29843993",
   "metadata": {},
   "outputs": [
    {
     "name": "stdout",
     "output_type": "stream",
     "text": [
      "['SQL Server 2014專業開發與設計', 'Oracle PL/SQL程式設計(暢銷回饋版)', 'SQL Server效能調校(暢銷修訂版)']\n"
     ]
    }
   ],
   "source": [
    "print([node.text for node in nodes])"
   ]
  },
  {
   "cell_type": "code",
   "execution_count": 26,
   "id": "ffa3daa2",
   "metadata": {},
   "outputs": [
    {
     "name": "stdout",
     "output_type": "stream",
     "text": [
      "['SQL Server效能調校(暢銷修訂版)']\n"
     ]
    }
   ],
   "source": [
    "xml_obj=etree.HTML(xmltxt)\n",
    "nodes=xml_obj.xpath(_path=\"//book[author='陳臆如']/title\")\n",
    "print([node.text for node in nodes])"
   ]
  },
  {
   "cell_type": "code",
   "execution_count": 32,
   "id": "60023dd5",
   "metadata": {},
   "outputs": [
    {
     "name": "stdout",
     "output_type": "stream",
     "text": [
      "['Oracle PL/SQL程式設計(暢銷回饋版)']\n"
     ]
    }
   ],
   "source": [
    "xml_obj=etree.HTML(xmltxt)\n",
    "nodes=xml_obj.xpath(_path=\"//book/title[@bookid='MP21629']\")\n",
    "print([node.text for node in nodes])"
   ]
  },
  {
   "cell_type": "code",
   "execution_count": 28,
   "id": "f03fccef",
   "metadata": {},
   "outputs": [
    {
     "name": "stdout",
     "output_type": "stream",
     "text": [
      "['SQL Server效能調校(暢銷修訂版)']\n"
     ]
    }
   ],
   "source": [
    "xml_obj=etree.HTML(xmltxt)\n",
    "nodes=xml_obj.xpath(_path=\"//book[price<500]/title\")\n",
    "print([node.text for node in nodes])"
   ]
  },
  {
   "cell_type": "code",
   "execution_count": 36,
   "id": "2899bdd8",
   "metadata": {},
   "outputs": [
    {
     "name": "stdout",
     "output_type": "stream",
     "text": [
      "['SQL Server 2014專業開發與設計', 'SQL Server效能調校(暢銷修訂版)']\n"
     ]
    }
   ],
   "source": [
    "xml_obj=etree.HTML(xmltxt)\n",
    "nodes=xml_obj.xpath(_path=\"//book[price<500 or price>600]/title\")\n",
    "print([node.text for node in nodes])"
   ]
  },
  {
   "cell_type": "code",
   "execution_count": 38,
   "id": "1c9d5089",
   "metadata": {},
   "outputs": [
    {
     "name": "stdout",
     "output_type": "stream",
     "text": [
      "['SQL Server效能調校(暢銷修訂版)', '陳祥輝', '陳臆如', '黃浩', '2017', '450']\n"
     ]
    }
   ],
   "source": [
    "xml_obj=etree.HTML(xmltxt)\n",
    "nodes=xml_obj.xpath(_path=\"//book[price<500 and year>=2016]/*\")\n",
    "print([node.text for node in nodes])"
   ]
  },
  {
   "cell_type": "code",
   "execution_count": 48,
   "id": "72454760",
   "metadata": {},
   "outputs": [
    {
     "name": "stdout",
     "output_type": "stream",
     "text": [
      "['SQL Server效能調校(暢銷修訂版)', '陳祥輝', '陳臆如', '黃浩']\n"
     ]
    }
   ],
   "source": [
    "xml_obj=etree.HTML(xmltxt)\n",
    "nodes=xml_obj.xpath(_path=\"//book[price<500 and year>=2016]/title\"\n",
    "                    \"| //book[price<500 and year>=2016]/author\")\n",
    "print([node.text for node in nodes])"
   ]
  },
  {
   "cell_type": "code",
   "execution_count": 50,
   "id": "c9157ecb",
   "metadata": {},
   "outputs": [
    {
     "name": "stdout",
     "output_type": "stream",
     "text": [
      "['陳祥輝', '陳臆如', '黃浩']\n"
     ]
    }
   ],
   "source": [
    "xml_obj=etree.HTML(xmltxt)\n",
    "nodes=xml_obj.xpath(_path=\"//book/author[@ authorid]\")\n",
    "print([node.text for node in nodes])"
   ]
  },
  {
   "cell_type": "code",
   "execution_count": 53,
   "id": "ad62a4c9",
   "metadata": {},
   "outputs": [
    {
     "name": "stdout",
     "output_type": "stream",
     "text": [
      "['1', '2', '3']\n"
     ]
    }
   ],
   "source": [
    "xml_obj=etree.HTML(xmltxt)\n",
    "nodes=xml_obj.xpath(_path=\"//book/author/@authorid\")\n",
    "print([node for node in nodes])"
   ]
  },
  {
   "cell_type": "markdown",
   "id": "122a6716",
   "metadata": {},
   "source": [
    "#### CSS Selector(選取器) : 適用於 HTML\n",
    "\n",
    "#### XPath (XPath stands for XML Path Language) : 適用於 HTML/XML\n",
    "\n",
    "#### JSON Path : 適用於 JSON"
   ]
  },
  {
   "cell_type": "code",
   "execution_count": 30,
   "id": "72c8d982",
   "metadata": {},
   "outputs": [],
   "source": [
    "webpage = \"\"\"\n",
    "<!DOCTYPE html>\n",
    "<html>\n",
    "  <head>\n",
    "<title>這裡是放網頁的標題</title>\n",
    "<style>\n",
    ".container1 {\n",
    "color:blue;\n",
    "text-align: center;\n",
    "}\n",
    ".container2 {\n",
    "color:red;\n",
    "text-align: left;\n",
    "}\n",
    "</style>\n",
    "</head>\n",
    "\n",
    "<body>\n",
    "<div class=container1>\n",
    "<p>網頁內容(X)</p>\n",
    "<p>\n",
    "<ul>\n",
    "<li>X第一個項目</li>\n",
    "<li>X第二個項目</li>\n",
    "<li>X第三個項目</li>\n",
    "</ul>\n",
    "</p>\n",
    "<p>\n",
    "<table>\n",
    "<tr><th>X1</th><th>X2</th><th>X3</th></tr>\n",
    "<tr><td>X(1,1)</td><td>X(1,2)</td><td>X(1,3)</td></tr>\n",
    "<tr><td>X(2,1)</td><td>X(2,2)</td><td>X(2,3)</td></tr>\n",
    "<tr><td>X(3,1)</td><td>X(3,2)</td><td>X(3,3)</td></tr>\n",
    "<tr><td>X(4,1)</td><td>X(4,2)</td><td>X(4,3)</td></tr>\n",
    "</table>\n",
    "</p>\n",
    "</div>\n",
    "<div class=container2>\n",
    "<p>網頁內容(Y)</p>\n",
    "<p>\n",
    "<ul>\n",
    "<li>Y第一個項目</li>\n",
    "<li>Y第二個項目</li>\n",
    "<li>Y第三個項目</li>\n",
    "</ul>\n",
    "</p>\n",
    "<p>\n",
    "<table>\n",
    "<tr><th>Y1</th><th>Y2</th><th>Y3</th></tr>\n",
    "<tr><td>Y(1,1)</td><td>Y(1,2)</td><td>Y(1,3)</td></tr>\n",
    "<tr><td>Y(2,1)</td><td>Y(2,2)</td><td>Y(2,3)</td></tr>\n",
    "<tr><td>Y(3,1)</td><td>Y(3,2)</td><td>Y(3,3)</td></tr>\n",
    "<tr><td>Y(4,1)</td><td>Y(4,2)</td><td>Y(4,3)</td></tr>\n",
    "</table>\n",
    "</p>\n",
    "<p id=\"p1\">我是段落一</p>\n",
    "<p id=\"p2\">我是段落二</p>\n",
    "</div>\n",
    "</body>\n",
    "</html>\n",
    "\"\"\""
   ]
  },
  {
   "cell_type": "code",
   "execution_count": 33,
   "id": "21c46560",
   "metadata": {},
   "outputs": [
    {
     "name": "stdout",
     "output_type": "stream",
     "text": [
      "['我是段落一', '我是段落二']\n"
     ]
    }
   ],
   "source": [
    "html_obj=etree.HTML(webpage)\n",
    "nodes=html_obj.xpath(_path=\"//p[@id]\")\n",
    "print([node.text for node in nodes])"
   ]
  },
  {
   "cell_type": "code",
   "execution_count": 34,
   "id": "7ddf8973",
   "metadata": {},
   "outputs": [
    {
     "name": "stdout",
     "output_type": "stream",
     "text": [
      "['我是段落一']\n"
     ]
    }
   ],
   "source": [
    "html_obj=etree.HTML(webpage)\n",
    "nodes=html_obj.xpath(_path=\"//p[@id='p1']\")\n",
    "print([node.text for node in nodes])"
   ]
  },
  {
   "cell_type": "code",
   "execution_count": 57,
   "id": "e116683f",
   "metadata": {},
   "outputs": [
    {
     "name": "stdout",
     "output_type": "stream",
     "text": [
      "['X第一個項目', 'X第二個項目', 'X第三個項目', 'Y第一個項目', 'Y第二個項目', 'Y第三個項目']\n"
     ]
    }
   ],
   "source": [
    "html_obj=etree.HTML(webpage)\n",
    "nodes=html_obj.xpath(_path=\"//li\")\n",
    "print([node.text for node in nodes])"
   ]
  },
  {
   "cell_type": "code",
   "execution_count": 38,
   "id": "90ada3bd",
   "metadata": {
    "scrolled": true
   },
   "outputs": [
    {
     "name": "stdout",
     "output_type": "stream",
     "text": [
      "['X第一個項目', 'X第二個項目', 'X第三個項目']\n"
     ]
    }
   ],
   "source": [
    "html_obj=etree.HTML(webpage)\n",
    "nodes=html_obj.xpath(_path=\"//div[@class='container1']/*/li\")\n",
    "print([node.text for node in nodes])"
   ]
  },
  {
   "cell_type": "code",
   "execution_count": null,
   "id": "37fc70ca",
   "metadata": {},
   "outputs": [],
   "source": []
  },
  {
   "cell_type": "code",
   "execution_count": 44,
   "id": "bcec35f7",
   "metadata": {
    "scrolled": false
   },
   "outputs": [
    {
     "name": "stdout",
     "output_type": "stream",
     "text": [
      "<class 'list'>\n",
      "2\n",
      "<class 'pandas.core.frame.DataFrame'>\n"
     ]
    }
   ],
   "source": [
    "data=pd.read_html(webpage)\n",
    "print(type(data))\n",
    "print(len(data))\n",
    "print(type(data[0]))"
   ]
  },
  {
   "cell_type": "code",
   "execution_count": 45,
   "id": "067b4f01",
   "metadata": {},
   "outputs": [],
   "source": [
    "path=r\"C:\\Tempdir\"\n",
    "if not os.path.exists(path):\n",
    "    os.mkdir(path)\n",
    "data=pd.read_html(webpage)\n",
    "for idx,df in enumerate (data,start=1):\n",
    "    df.to_excel(path+f'//tbl_{idx:0>3d}.xlsx',index=False)"
   ]
  },
  {
   "cell_type": "code",
   "execution_count": 48,
   "id": "59519d86",
   "metadata": {},
   "outputs": [],
   "source": [
    "from pandas import ExcelWriter"
   ]
  },
  {
   "cell_type": "code",
   "execution_count": 47,
   "id": "d3c907e1",
   "metadata": {},
   "outputs": [],
   "source": [
    "path = r'C:\\TempDir'\n",
    "if not os.path.exists(path) :\n",
    "    os.mkdir(path)\n",
    "data=pd.read_html(webpage)\n",
    "\n",
    "with ExcelWriter(path+f'//Excel_tbls.xlsx') as writer:\n",
    "    for idx,df in enumerate(data,start=1):\n",
    "        df.to_excel(writer,sheet_name=f'{idx:0>3d}',index=False)"
   ]
  },
  {
   "cell_type": "code",
   "execution_count": null,
   "id": "12f85032",
   "metadata": {},
   "outputs": [],
   "source": []
  },
  {
   "cell_type": "markdown",
   "id": "9061b8e4",
   "metadata": {},
   "source": [
    "使用 CSS Selector 選取HTML的節點\n",
    "\n",
    "【特別注意】\n",
    "遇到 class attribute ，前面要加上 . / \n",
    "遇到 id attribute ，前面要加上 #"
   ]
  },
  {
   "cell_type": "code",
   "execution_count": 50,
   "id": "c18101fd",
   "metadata": {},
   "outputs": [],
   "source": [
    "webpage = \"\"\"\n",
    "<!DOCTYPE html>\n",
    "<html>\n",
    "  <head>\n",
    "<title>這裡是放網頁的標題</title>\n",
    "<style>\n",
    ".container1 {\n",
    "color:blue;\n",
    "text-align: center;\n",
    "}\n",
    ".container2 {\n",
    "color:red;\n",
    "text-align: left;\n",
    "}\n",
    "</style>\n",
    "</head>\n",
    "\n",
    "<body>\n",
    "<div class=container1>\n",
    "<p>網頁內容(X)</p>\n",
    "<p>\n",
    "<ul>\n",
    "<li>X第一個項目</li>\n",
    "<li>X第二個項目</li>\n",
    "<li>X第三個項目</li>\n",
    "</ul>\n",
    "</p>\n",
    "<p>\n",
    "<table>\n",
    "<tr><th>X1</th><th>X2</th><th>X3</th></tr>\n",
    "<tr><td>X(1,1)</td><td>X(1,2)</td><td>X(1,3)</td></tr>\n",
    "<tr><td>X(2,1)</td><td>X(2,2)</td><td>X(2,3)</td></tr>\n",
    "<tr><td>X(3,1)</td><td>X(3,2)</td><td>X(3,3)</td></tr>\n",
    "<tr><td>X(4,1)</td><td>X(4,2)</td><td>X(4,3)</td></tr>\n",
    "</table>\n",
    "</p>\n",
    "</div>\n",
    "<div class=container2>\n",
    "<p>網頁內容(Y)</p>\n",
    "<p>\n",
    "<ul>\n",
    "<li>Y第一個項目</li>\n",
    "<li>Y第二個項目</li>\n",
    "<li>Y第三個項目</li>\n",
    "</ul>\n",
    "</p>\n",
    "<p>\n",
    "<table>\n",
    "<tr><th>Y1</th><th>Y2</th><th>Y3</th></tr>\n",
    "<tr><td>Y(1,1)</td><td>Y(1,2)</td><td>Y(1,3)</td></tr>\n",
    "<tr><td>Y(2,1)</td><td>Y(2,2)</td><td>Y(2,3)</td></tr>\n",
    "<tr><td>Y(3,1)</td><td>Y(3,2)</td><td>Y(3,3)</td></tr>\n",
    "<tr><td>Y(4,1)</td><td>Y(4,2)</td><td>Y(4,3)</td></tr>\n",
    "</table>\n",
    "</p>\n",
    "<p id=\"p1\">我是段落一</p>\n",
    "<p id=\"p2\">我是段落二</p>\n",
    "</div>\n",
    "</body>\n",
    "</html>\n",
    "\"\"\""
   ]
  },
  {
   "cell_type": "code",
   "execution_count": 70,
   "id": "f1081595",
   "metadata": {
    "scrolled": true
   },
   "outputs": [
    {
     "name": "stdout",
     "output_type": "stream",
     "text": [
      "['X第一個項目', 'X第二個項目', 'X第三個項目', 'Y第一個項目', 'Y第二個項目', 'Y第三個項目']\n"
     ]
    }
   ],
   "source": [
    "soup=BeautifulSoup(markup=webpage,features=\"html.parser\")\n",
    "nodes=soup.select(selector='div li')\n",
    "print([node.text for node in nodes])"
   ]
  },
  {
   "cell_type": "code",
   "execution_count": 73,
   "id": "788e6a74",
   "metadata": {},
   "outputs": [
    {
     "name": "stdout",
     "output_type": "stream",
     "text": [
      "['X第一個項目', 'X第二個項目', 'X第三個項目']\n"
     ]
    }
   ],
   "source": [
    "soup=BeautifulSoup(markup=webpage,features=\"html.parser\")\n",
    "nodes=soup.select(selector='div.container1 li')\n",
    "print([node.text for node in nodes])"
   ]
  },
  {
   "cell_type": "code",
   "execution_count": 74,
   "id": "d50bd5ad",
   "metadata": {},
   "outputs": [
    {
     "name": "stdout",
     "output_type": "stream",
     "text": [
      "['X第一個項目', 'X第二個項目', 'X第三個項目']\n"
     ]
    }
   ],
   "source": [
    "soup=BeautifulSoup(markup=webpage,features=\"html.parser\")\n",
    "nodes=soup.select(selector='.container1 li')\n",
    "print([node.text for node in nodes])"
   ]
  },
  {
   "cell_type": "code",
   "execution_count": 54,
   "id": "5aed12cd",
   "metadata": {},
   "outputs": [
    {
     "name": "stdout",
     "output_type": "stream",
     "text": [
      "['X第一個項目', 'X第二個項目', 'X第三個項目', 'Y第一個項目', 'Y第二個項目', 'Y第三個項目']\n"
     ]
    }
   ],
   "source": [
    "soup=BeautifulSoup(markup=webpage,features=\"html.parser\")\n",
    "nodes=soup.select(selector='ul li')\n",
    "print([node.text for node in nodes])"
   ]
  },
  {
   "cell_type": "code",
   "execution_count": 77,
   "id": "cea914c9",
   "metadata": {
    "scrolled": true
   },
   "outputs": [
    {
     "name": "stdout",
     "output_type": "stream",
     "text": [
      "['X第一個項目', 'X第二個項目', 'X第三個項目', 'Y第一個項目', 'Y第二個項目', 'Y第三個項目']\n"
     ]
    }
   ],
   "source": [
    "soup=BeautifulSoup(markup=webpage,features=\"html.parser\")\n",
    "nodes=soup.select(selector='div>p>ul>li')\n",
    "print([node.text for node in nodes])"
   ]
  },
  {
   "cell_type": "code",
   "execution_count": 78,
   "id": "d7b2de00",
   "metadata": {
    "scrolled": true
   },
   "outputs": [
    {
     "name": "stdout",
     "output_type": "stream",
     "text": [
      "['我是段落一']\n"
     ]
    }
   ],
   "source": [
    "soup=BeautifulSoup(markup=webpage,features=\"html.parser\")\n",
    "nodes=soup.select(selector='p#p1')\n",
    "print([node.text for node in nodes])"
   ]
  },
  {
   "cell_type": "code",
   "execution_count": 79,
   "id": "62352b39",
   "metadata": {
    "scrolled": true
   },
   "outputs": [
    {
     "name": "stdout",
     "output_type": "stream",
     "text": [
      "['我是段落一', '我是段落二']\n"
     ]
    }
   ],
   "source": [
    "soup=BeautifulSoup(markup=webpage,features=\"html.parser\")\n",
    "nodes=soup.select(selector='p#p1,p#p2')\n",
    "print([node.text for node in nodes])"
   ]
  },
  {
   "cell_type": "code",
   "execution_count": 56,
   "id": "38155cf8",
   "metadata": {
    "scrolled": true
   },
   "outputs": [
    {
     "name": "stdout",
     "output_type": "stream",
     "text": [
      "['\\n\\nX1X2X3\\nX(1,1)X(1,2)X(1,3)\\nX(2,1)X(2,2)X(2,3)\\nX(3,1)X(3,2)X(3,3)\\nX(4,1)X(4,2)X(4,3)\\n\\n', '\\n\\nY1Y2Y3\\nY(1,1)Y(1,2)Y(1,3)\\nY(2,1)Y(2,2)Y(2,3)\\nY(3,1)Y(3,2)Y(3,3)\\nY(4,1)Y(4,2)Y(4,3)\\n\\n', '我是段落一', '我是段落二']\n"
     ]
    }
   ],
   "source": [
    "soup=BeautifulSoup(markup=webpage,features=\"html.parser\")\n",
    "nodes=soup.select(selector='p + p + p')\n",
    "print([node.text for node in nodes])"
   ]
  },
  {
   "cell_type": "code",
   "execution_count": 57,
   "id": "3c6c4a4e",
   "metadata": {},
   "outputs": [
    {
     "name": "stdout",
     "output_type": "stream",
     "text": [
      "['我是段落一', '我是段落二']\n"
     ]
    }
   ],
   "source": [
    "soup=BeautifulSoup(markup=webpage,features=\"html.parser\")\n",
    "nodes=soup.select(selector='p[id]')\n",
    "print([node.text for node in nodes])"
   ]
  },
  {
   "cell_type": "code",
   "execution_count": null,
   "id": "ac466305",
   "metadata": {},
   "outputs": [],
   "source": []
  },
  {
   "cell_type": "code",
   "execution_count": null,
   "id": "4d12cbc5",
   "metadata": {},
   "outputs": [],
   "source": []
  },
  {
   "cell_type": "code",
   "execution_count": null,
   "id": "04730e39",
   "metadata": {},
   "outputs": [],
   "source": []
  },
  {
   "cell_type": "code",
   "execution_count": null,
   "id": "d9b08b18",
   "metadata": {},
   "outputs": [],
   "source": []
  },
  {
   "cell_type": "code",
   "execution_count": null,
   "id": "49ee9d44",
   "metadata": {},
   "outputs": [],
   "source": []
  },
  {
   "cell_type": "code",
   "execution_count": null,
   "id": "74e1f1fc",
   "metadata": {},
   "outputs": [],
   "source": []
  },
  {
   "cell_type": "code",
   "execution_count": null,
   "id": "b3476ba8",
   "metadata": {},
   "outputs": [],
   "source": []
  },
  {
   "cell_type": "code",
   "execution_count": null,
   "id": "2721fedc",
   "metadata": {},
   "outputs": [],
   "source": []
  },
  {
   "cell_type": "code",
   "execution_count": null,
   "id": "9079232c",
   "metadata": {},
   "outputs": [],
   "source": []
  },
  {
   "cell_type": "code",
   "execution_count": null,
   "id": "8d85ebe6",
   "metadata": {},
   "outputs": [],
   "source": []
  },
  {
   "cell_type": "code",
   "execution_count": null,
   "id": "a7edf817",
   "metadata": {},
   "outputs": [],
   "source": []
  },
  {
   "cell_type": "code",
   "execution_count": null,
   "id": "98b956c3",
   "metadata": {},
   "outputs": [],
   "source": []
  },
  {
   "cell_type": "code",
   "execution_count": null,
   "id": "2be2dabb",
   "metadata": {},
   "outputs": [],
   "source": []
  },
  {
   "cell_type": "code",
   "execution_count": null,
   "id": "e4106d79",
   "metadata": {},
   "outputs": [],
   "source": []
  }
 ],
 "metadata": {
  "kernelspec": {
   "display_name": "Python 3 (ipykernel)",
   "language": "python",
   "name": "python3"
  },
  "language_info": {
   "codemirror_mode": {
    "name": "ipython",
    "version": 3
   },
   "file_extension": ".py",
   "mimetype": "text/x-python",
   "name": "python",
   "nbconvert_exporter": "python",
   "pygments_lexer": "ipython3",
   "version": "3.9.12"
  }
 },
 "nbformat": 4,
 "nbformat_minor": 5
}
