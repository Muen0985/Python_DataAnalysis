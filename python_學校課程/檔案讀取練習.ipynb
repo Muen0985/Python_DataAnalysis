{
 "cells": [
  {
   "cell_type": "code",
   "execution_count": 2,
   "id": "ab10f872",
   "metadata": {},
   "outputs": [],
   "source": [
    "import pandas as pd\n",
    "import os, time, glob, pickle, socket, sys"
   ]
  },
  {
   "cell_type": "code",
   "execution_count": 13,
   "id": "fdcc9ffb",
   "metadata": {},
   "outputs": [
    {
     "name": "stdout",
     "output_type": "stream",
     "text": [
      "DATE: 2023 03 20 / TIME: 17:07:32\n"
     ]
    }
   ],
   "source": [
    "print(time.strftime('DATE: %Y %m %d / TIME: %H:%M:%S'))"
   ]
  },
  {
   "cell_type": "code",
   "execution_count": 14,
   "id": "cf9a1d9b",
   "metadata": {},
   "outputs": [
    {
     "data": {
      "text/plain": [
       "'C:\\\\Users\\\\maztl\\\\python_class'"
      ]
     },
     "execution_count": 14,
     "metadata": {},
     "output_type": "execute_result"
    }
   ],
   "source": [
    "os.getcwd()"
   ]
  },
  {
   "cell_type": "code",
   "execution_count": 15,
   "id": "739d6630",
   "metadata": {},
   "outputs": [],
   "source": [
    "# open(file,mode,encoding)"
   ]
  },
  {
   "cell_type": "code",
   "execution_count": 25,
   "id": "66efc2b8",
   "metadata": {},
   "outputs": [
    {
     "name": "stdout",
     "output_type": "stream",
     "text": [
      "True\n"
     ]
    }
   ],
   "source": [
    "of=open(file=r'C:\\Users\\maztl\\python_class\\pracfile\\outf.txt',mode='wt',encoding='utf-8')\n",
    "print(of.writable())\n",
    "of.write(\"curry\\n\")\n",
    "of.write(\"thompson\\n\")\n",
    "of.write(\"poole\\n\")\n",
    "of.close()"
   ]
  },
  {
   "cell_type": "code",
   "execution_count": 26,
   "id": "f4857c81",
   "metadata": {},
   "outputs": [],
   "source": [
    "of=open(file=r'C:\\Users\\maztl\\python_class\\pracfile\\outf.txt',mode='at',encoding='utf-8')\n",
    "of.write('green\\n')\n",
    "of.write('looney\\n')\n",
    "of.write('\\n')\n",
    "of.close()"
   ]
  },
  {
   "cell_type": "code",
   "execution_count": 27,
   "id": "72e29c47",
   "metadata": {},
   "outputs": [],
   "source": [
    "data=['lebron\\n','durant\\n','irving\\n','booker\\n']\n",
    "of=open(file=r'C:\\Users\\maztl\\python_class\\pracfile\\outf.txt',mode='at',encoding='utf-8')\n",
    "of.writelines(data)\n",
    "of.close()"
   ]
  },
  {
   "cell_type": "code",
   "execution_count": null,
   "id": "00367b29",
   "metadata": {},
   "outputs": [],
   "source": []
  },
  {
   "cell_type": "code",
   "execution_count": 34,
   "id": "3e2ed9a9",
   "metadata": {
    "scrolled": true
   },
   "outputs": [
    {
     "name": "stdout",
     "output_type": "stream",
     "text": [
      "curry\n",
      "thompson\n",
      "poole\n",
      "green\n",
      "looney\n",
      "\n",
      "lebron\n",
      "durant\n",
      "irving\n",
      "booker\n"
     ]
    }
   ],
   "source": [
    "inf=open(file=r'C:\\Users\\maztl\\python_class\\pracfile\\outf.txt',mode='rt',encoding='utf-8')\n",
    "msg=inf.readline() #每次讀一列\n",
    "while msg!=\"\":\n",
    "    print(msg, end=\"\")\n",
    "    msg=inf.readline()\n",
    "inf.close()"
   ]
  },
  {
   "cell_type": "code",
   "execution_count": 32,
   "id": "23c9f323",
   "metadata": {},
   "outputs": [
    {
     "name": "stdout",
     "output_type": "stream",
     "text": [
      "['curry\\n', 'thompson\\n', 'poole\\n', 'green\\n', 'looney\\n', '\\n', 'lebron\\n', 'durant\\n', 'irving\\n', 'booker\\n']\n",
      "<class 'list'>\n"
     ]
    }
   ],
   "source": [
    "inf=open(file=r'C:\\Users\\maztl\\python_class\\pracfile\\outf.txt',mode='rt',encoding='utf-8')\n",
    "msg=inf.readlines()\n",
    "print(msg)\n",
    "print(type(msg))\n",
    "inf.close()"
   ]
  },
  {
   "cell_type": "code",
   "execution_count": 33,
   "id": "c3a81c10",
   "metadata": {},
   "outputs": [
    {
     "name": "stdout",
     "output_type": "stream",
     "text": [
      "curry\n",
      "thompson\n",
      "poole\n",
      "green\n",
      "looney\n",
      "\n",
      "lebron\n",
      "durant\n",
      "irving\n",
      "booker\n",
      "\n",
      "<class 'str'>\n"
     ]
    }
   ],
   "source": [
    "inf=open(file=r'C:\\Users\\maztl\\python_class\\pracfile\\outf.txt',mode='rt',encoding='utf-8')\n",
    "msg=inf.read()\n",
    "print(msg)\n",
    "print(type(msg))\n",
    "inf.close()"
   ]
  },
  {
   "cell_type": "code",
   "execution_count": 35,
   "id": "f5fbdc00",
   "metadata": {},
   "outputs": [
    {
     "name": "stdout",
     "output_type": "stream",
     "text": [
      "['curry', 'thompson', 'poole', 'green', 'looney', '', 'lebron', 'durant', 'irving', 'booker', '']\n"
     ]
    }
   ],
   "source": [
    "msg=open(file=r'C:\\Users\\maztl\\python_class\\pracfile\\outf.txt',mode='rt',encoding='utf-8')\\\n",
    ".read().replace('\\n','_').split('_')\n",
    "print(msg)"
   ]
  },
  {
   "cell_type": "code",
   "execution_count": 36,
   "id": "4d46f9db",
   "metadata": {},
   "outputs": [
    {
     "name": "stdout",
     "output_type": "stream",
     "text": [
      "(76, 17)\n",
      "Index(['SiteName', 'County', 'PSI', 'MajorPollutant', 'Status', 'SO2', 'CO',\n",
      "       'O3', 'PM10', 'PM2.5', 'NO2', 'WindSpeed', 'WindDirec', 'FPMI', 'NOx',\n",
      "       'NO', 'PublishTime'],\n",
      "      dtype='object')\n"
     ]
    },
    {
     "data": {
      "text/html": [
       "<div>\n",
       "<style scoped>\n",
       "    .dataframe tbody tr th:only-of-type {\n",
       "        vertical-align: middle;\n",
       "    }\n",
       "\n",
       "    .dataframe tbody tr th {\n",
       "        vertical-align: top;\n",
       "    }\n",
       "\n",
       "    .dataframe thead th {\n",
       "        text-align: right;\n",
       "    }\n",
       "</style>\n",
       "<table border=\"1\" class=\"dataframe\">\n",
       "  <thead>\n",
       "    <tr style=\"text-align: right;\">\n",
       "      <th></th>\n",
       "      <th>SiteName</th>\n",
       "      <th>County</th>\n",
       "      <th>PSI</th>\n",
       "      <th>MajorPollutant</th>\n",
       "      <th>Status</th>\n",
       "      <th>SO2</th>\n",
       "      <th>CO</th>\n",
       "      <th>O3</th>\n",
       "      <th>PM10</th>\n",
       "      <th>PM2.5</th>\n",
       "      <th>NO2</th>\n",
       "      <th>WindSpeed</th>\n",
       "      <th>WindDirec</th>\n",
       "      <th>FPMI</th>\n",
       "      <th>NOx</th>\n",
       "      <th>NO</th>\n",
       "      <th>PublishTime</th>\n",
       "    </tr>\n",
       "  </thead>\n",
       "  <tbody>\n",
       "    <tr>\n",
       "      <th>0</th>\n",
       "      <td>麥寮</td>\n",
       "      <td>雲林縣</td>\n",
       "      <td>36</td>\n",
       "      <td>NaN</td>\n",
       "      <td>良好</td>\n",
       "      <td>1.2</td>\n",
       "      <td>0.11</td>\n",
       "      <td>10.0</td>\n",
       "      <td>35.0</td>\n",
       "      <td>7</td>\n",
       "      <td>4.5</td>\n",
       "      <td>2.2</td>\n",
       "      <td>182.0</td>\n",
       "      <td>1</td>\n",
       "      <td>6.78</td>\n",
       "      <td>2.30</td>\n",
       "      <td>2016/6/1 02:00</td>\n",
       "    </tr>\n",
       "    <tr>\n",
       "      <th>1</th>\n",
       "      <td>關山</td>\n",
       "      <td>臺東縣</td>\n",
       "      <td>23</td>\n",
       "      <td>NaN</td>\n",
       "      <td>良好</td>\n",
       "      <td>1.2</td>\n",
       "      <td>NaN</td>\n",
       "      <td>5.1</td>\n",
       "      <td>21.0</td>\n",
       "      <td>7</td>\n",
       "      <td>3.6</td>\n",
       "      <td>0.7</td>\n",
       "      <td>232.0</td>\n",
       "      <td>1</td>\n",
       "      <td>4.89</td>\n",
       "      <td>1.32</td>\n",
       "      <td>2016/6/1 02:00</td>\n",
       "    </tr>\n",
       "    <tr>\n",
       "      <th>2</th>\n",
       "      <td>馬公</td>\n",
       "      <td>澎湖縣</td>\n",
       "      <td>16</td>\n",
       "      <td>NaN</td>\n",
       "      <td>良好</td>\n",
       "      <td>0.8</td>\n",
       "      <td>0.09</td>\n",
       "      <td>20.0</td>\n",
       "      <td>5.0</td>\n",
       "      <td>2</td>\n",
       "      <td>1.7</td>\n",
       "      <td>2.5</td>\n",
       "      <td>173.0</td>\n",
       "      <td>1</td>\n",
       "      <td>3.26</td>\n",
       "      <td>1.53</td>\n",
       "      <td>2016/6/1 02:00</td>\n",
       "    </tr>\n",
       "    <tr>\n",
       "      <th>3</th>\n",
       "      <td>金門</td>\n",
       "      <td>金門縣</td>\n",
       "      <td>32</td>\n",
       "      <td>NaN</td>\n",
       "      <td>良好</td>\n",
       "      <td>1.4</td>\n",
       "      <td>0.08</td>\n",
       "      <td>20.0</td>\n",
       "      <td>25.0</td>\n",
       "      <td>2</td>\n",
       "      <td>3.8</td>\n",
       "      <td>4.9</td>\n",
       "      <td>220.0</td>\n",
       "      <td>1</td>\n",
       "      <td>4.23</td>\n",
       "      <td>0.48</td>\n",
       "      <td>2016/6/1 02:00</td>\n",
       "    </tr>\n",
       "    <tr>\n",
       "      <th>4</th>\n",
       "      <td>馬祖</td>\n",
       "      <td>連江縣</td>\n",
       "      <td>39</td>\n",
       "      <td>NaN</td>\n",
       "      <td>良好</td>\n",
       "      <td>2.8</td>\n",
       "      <td>0.08</td>\n",
       "      <td>17.0</td>\n",
       "      <td>29.0</td>\n",
       "      <td>11</td>\n",
       "      <td>6.2</td>\n",
       "      <td>6.5</td>\n",
       "      <td>200.0</td>\n",
       "      <td>2</td>\n",
       "      <td>7.74</td>\n",
       "      <td>1.55</td>\n",
       "      <td>2016/6/1 02:00</td>\n",
       "    </tr>\n",
       "  </tbody>\n",
       "</table>\n",
       "</div>"
      ],
      "text/plain": [
       "  SiteName County  PSI MajorPollutant Status  SO2    CO    O3  PM10  PM2.5  \\\n",
       "0       麥寮    雲林縣   36            NaN     良好  1.2  0.11  10.0  35.0      7   \n",
       "1       關山    臺東縣   23            NaN     良好  1.2   NaN   5.1  21.0      7   \n",
       "2       馬公    澎湖縣   16            NaN     良好  0.8  0.09  20.0   5.0      2   \n",
       "3       金門    金門縣   32            NaN     良好  1.4  0.08  20.0  25.0      2   \n",
       "4       馬祖    連江縣   39            NaN     良好  2.8  0.08  17.0  29.0     11   \n",
       "\n",
       "   NO2  WindSpeed  WindDirec  FPMI   NOx    NO     PublishTime  \n",
       "0  4.5        2.2      182.0     1  6.78  2.30  2016/6/1 02:00  \n",
       "1  3.6        0.7      232.0     1  4.89  1.32  2016/6/1 02:00  \n",
       "2  1.7        2.5      173.0     1  3.26  1.53  2016/6/1 02:00  \n",
       "3  3.8        4.9      220.0     1  4.23  0.48  2016/6/1 02:00  \n",
       "4  6.2        6.5      200.0     2  7.74  1.55  2016/6/1 02:00  "
      ]
     },
     "execution_count": 36,
     "metadata": {},
     "output_type": "execute_result"
    }
   ],
   "source": [
    "fname = r'C:\\Data\\PyData\\AirQty2016-06-01_CP950.csv'\n",
    "air=pd.read_csv(fname,sep=',',encoding='cp950',engine='python')\n",
    "print(air.shape)\n",
    "print(air.columns)\n",
    "air.head()"
   ]
  },
  {
   "cell_type": "code",
   "execution_count": 46,
   "id": "d35df890",
   "metadata": {},
   "outputs": [
    {
     "name": "stdout",
     "output_type": "stream",
     "text": [
      "already have this file, but will delete it instead\n",
      "success\n"
     ]
    }
   ],
   "source": [
    "path=r'C:\\Data\\airQty.xlsx'\n",
    "if os.path.isfile(path):\n",
    "    print(\"already have this file, but will delete it instead\")\n",
    "    os.remove(path)\n",
    "air.to_excel(path,sheet_name='空汙指標',index=False)\n",
    "print(\"success\")"
   ]
  }
 ],
 "metadata": {
  "kernelspec": {
   "display_name": "Python 3 (ipykernel)",
   "language": "python",
   "name": "python3"
  },
  "language_info": {
   "codemirror_mode": {
    "name": "ipython",
    "version": 3
   },
   "file_extension": ".py",
   "mimetype": "text/x-python",
   "name": "python",
   "nbconvert_exporter": "python",
   "pygments_lexer": "ipython3",
   "version": "3.9.12"
  }
 },
 "nbformat": 4,
 "nbformat_minor": 5
}
