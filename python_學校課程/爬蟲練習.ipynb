{
 "cells": [
  {
   "cell_type": "code",
   "execution_count": 1,
   "id": "40f7ca11",
   "metadata": {},
   "outputs": [],
   "source": [
    "import pandas as pd\n",
    "import bs4\n",
    "from bs4 import BeautifulSoup\n",
    "import requests"
   ]
  },
  {
   "cell_type": "code",
   "execution_count": 29,
   "id": "43771441",
   "metadata": {},
   "outputs": [],
   "source": [
    "# https://news.pts.org.tw/search/%E8%94%A3%E8%90%AC%E5%AE%89"
   ]
  },
  {
   "cell_type": "code",
   "execution_count": 33,
   "id": "42263df4",
   "metadata": {},
   "outputs": [],
   "source": [
    "p1='蔣萬安'\n",
    "p2='黃珊珊'\n",
    "p3='陳時中'"
   ]
  },
  {
   "cell_type": "code",
   "execution_count": null,
   "id": "2f0c5f1f",
   "metadata": {},
   "outputs": [],
   "source": []
  },
  {
   "cell_type": "code",
   "execution_count": 34,
   "id": "df104da2",
   "metadata": {
    "scrolled": true
   },
   "outputs": [
    {
     "name": "stdout",
     "output_type": "stream",
     "text": [
      "%E8%94%A3%E8%90%AC%E5%AE%89\n"
     ]
    }
   ],
   "source": [
    "k=p1\n",
    "u=str(k.encode(encoding='utf-8'))\n",
    "name=u.replace('\\\\x',\"%\",20)\n",
    "word=''\n",
    "for w in range(2,len(name)-1):\n",
    "    if name[w] in list(string.ascii_lowercase):\n",
    "        word+=name[w].upper()\n",
    "    else:\n",
    "        word+=name[w]\n",
    "print(word)             "
   ]
  },
  {
   "cell_type": "code",
   "execution_count": 143,
   "id": "df3a3e21",
   "metadata": {},
   "outputs": [],
   "source": [
    "url=\"https://news.pts.org.tw/search/\"+word\n",
    "resp=requests.request(method='GET',url=url)\n",
    "soup=BeautifulSoup(markup=resp.text,features='html.parser')"
   ]
  },
  {
   "cell_type": "code",
   "execution_count": 144,
   "id": "e51665ed",
   "metadata": {},
   "outputs": [],
   "source": [
    "nodes=soup.select('div > h2 > a')\n",
    "titles=[node.text for node in nodes]\n",
    "hrefs=[node.get('href') for node in nodes]"
   ]
  },
  {
   "cell_type": "code",
   "execution_count": 152,
   "id": "68498ddf",
   "metadata": {},
   "outputs": [],
   "source": [
    "nodes=soup.select('div > p')\n",
    "contents=[node.text.replace(\"\\n\", \"\") for node in nodes]\n",
    "\n",
    "nodes=soup.select('div > time')\n",
    "times=[node.text.replace(\"\\n\", \"\") for node in nodes]"
   ]
  },
  {
   "cell_type": "code",
   "execution_count": 153,
   "id": "9f52bf03",
   "metadata": {},
   "outputs": [
    {
     "name": "stdout",
     "output_type": "stream",
     "text": [
      "15\n"
     ]
    }
   ],
   "source": [
    "print(len(times))"
   ]
  },
  {
   "cell_type": "code",
   "execution_count": 154,
   "id": "ad5e0e31",
   "metadata": {
    "scrolled": true
   },
   "outputs": [
    {
     "name": "stdout",
     "output_type": "stream",
     "text": [
      "['                                        2022-11-16 12:56', '                                        2022-11-15 19:51', '                                        2022-11-15 15:20', '                                        2022-11-14 12:56', '                                        2022-11-13 12:31', '                                        2022-11-12 19:10', '                                        2022-11-12 12:31', '                                        2022-11-12 10:20', '                                        2022-11-11 12:56', '                                        2022-11-10 19:51', '                                        2022-11-10 19:51', '                                        2022-11-10 12:56', '                                        2022-11-10 10:11', '                                        2022-11-09 12:56', '                                        2022-11-07 12:56']\n"
     ]
    }
   ],
   "source": [
    "print(times)"
   ]
  },
  {
   "cell_type": "code",
   "execution_count": 158,
   "id": "93f3cbdc",
   "metadata": {
    "scrolled": true
   },
   "outputs": [
    {
     "name": "stdout",
     "output_type": "stream",
     "text": [
      "                                        2022-11-16 12:56\n",
      "                                        2022-11-15 19:51\n",
      "                                        2022-11-15 15:20\n",
      "                                        2022-11-14 12:56\n",
      "                                        2022-11-13 12:31\n",
      "                                        2022-11-11 12:56\n",
      "                                        2022-11-10 19:51\n",
      "                                        2022-11-10 19:51\n",
      "                                        2022-11-10 12:56\n",
      "                                        2022-11-10 10:11\n",
      "                                        2022-11-09 12:56\n",
      "                                        2022-11-07 12:56\n",
      "['2022-11-12', '2022-11-12', '2022-11-12']\n",
      "[5, 6, 7]\n"
     ]
    }
   ],
   "source": [
    "t=[]\n",
    "idx=[]\n",
    "for num in range(0,len(times)):\n",
    "    if '2022-11-12' not in times[num]:\n",
    "        print(times[num])\n",
    "    else:\n",
    "        t.append(times[num].strip()[:10])\n",
    "        idx.append(num)\n",
    "print(t)\n",
    "print(idx)"
   ]
  },
  {
   "cell_type": "code",
   "execution_count": 173,
   "id": "5ab78531",
   "metadata": {},
   "outputs": [
    {
     "data": {
      "text/plain": [
       "'                                        2022-11-12 19:10'"
      ]
     },
     "execution_count": 173,
     "metadata": {},
     "output_type": "execute_result"
    }
   ],
   "source": [
    "times[idx[0]]"
   ]
  },
  {
   "cell_type": "code",
   "execution_count": 182,
   "id": "f88c5280",
   "metadata": {
    "scrolled": true
   },
   "outputs": [],
   "source": [
    "df=pd.DataFrame({\"Time\":times[idx[0]],\"Title\":titles[idx[0]],\"Content\":contents[idx[0]],\"link\":hrefs[idx[0]]}, index=[0])"
   ]
  },
  {
   "cell_type": "code",
   "execution_count": 183,
   "id": "90bea09a",
   "metadata": {},
   "outputs": [],
   "source": [
    "for i in range(1,len(idx)):\n",
    "    df.loc[len(df.index)]=[times[i],titles[i],contents[i],hrefs[i]]"
   ]
  },
  {
   "cell_type": "code",
   "execution_count": 184,
   "id": "1f40568a",
   "metadata": {},
   "outputs": [
    {
     "data": {
      "text/html": [
       "<div>\n",
       "<style scoped>\n",
       "    .dataframe tbody tr th:only-of-type {\n",
       "        vertical-align: middle;\n",
       "    }\n",
       "\n",
       "    .dataframe tbody tr th {\n",
       "        vertical-align: top;\n",
       "    }\n",
       "\n",
       "    .dataframe thead th {\n",
       "        text-align: right;\n",
       "    }\n",
       "</style>\n",
       "<table border=\"1\" class=\"dataframe\">\n",
       "  <thead>\n",
       "    <tr style=\"text-align: right;\">\n",
       "      <th></th>\n",
       "      <th>Time</th>\n",
       "      <th>Title</th>\n",
       "      <th>Content</th>\n",
       "      <th>link</th>\n",
       "    </tr>\n",
       "  </thead>\n",
       "  <tbody>\n",
       "    <tr>\n",
       "      <th>0</th>\n",
       "      <td>2022-1...</td>\n",
       "      <td>九合一大選／北市長公辦政見會  12候選人闡述政見理念</td>\n",
       "      <td>台北市長選舉公辦首場...</td>\n",
       "      <td>https://news.pts.org.tw/article/609044</td>\n",
       "    </tr>\n",
       "    <tr>\n",
       "      <th>1</th>\n",
       "      <td>2022-1...</td>\n",
       "      <td>九合一大選／台北市第2場公辦政見會 12位候選人發表多元政見</td>\n",
       "      <td>台北市第2場政見發表...</td>\n",
       "      <td>https://news.pts.org.tw/article/609504</td>\n",
       "    </tr>\n",
       "    <tr>\n",
       "      <th>2</th>\n",
       "      <td>2022-1...</td>\n",
       "      <td>九合一大選／台北市長候選人第2場政見發表會 12人持續申論</td>\n",
       "      <td>台北市長選舉多達12...</td>\n",
       "      <td>https://news.pts.org.tw/article/609381</td>\n",
       "    </tr>\n",
       "  </tbody>\n",
       "</table>\n",
       "</div>"
      ],
      "text/plain": [
       "                                                Time  \\\n",
       "0                                          2022-1...   \n",
       "1                                          2022-1...   \n",
       "2                                          2022-1...   \n",
       "\n",
       "                            Title  \\\n",
       "0     九合一大選／北市長公辦政見會  12候選人闡述政見理念   \n",
       "1  九合一大選／台北市第2場公辦政見會 12位候選人發表多元政見   \n",
       "2   九合一大選／台北市長候選人第2場政見發表會 12人持續申論   \n",
       "\n",
       "                                             Content  \\\n",
       "0                                      台北市長選舉公辦首場...   \n",
       "1                                      台北市第2場政見發表...   \n",
       "2                                      台北市長選舉多達12...   \n",
       "\n",
       "                                     link  \n",
       "0  https://news.pts.org.tw/article/609044  \n",
       "1  https://news.pts.org.tw/article/609504  \n",
       "2  https://news.pts.org.tw/article/609381  "
      ]
     },
     "execution_count": 184,
     "metadata": {},
     "output_type": "execute_result"
    }
   ],
   "source": [
    "df"
   ]
  },
  {
   "cell_type": "code",
   "execution_count": null,
   "id": "960e300e",
   "metadata": {},
   "outputs": [],
   "source": []
  },
  {
   "cell_type": "markdown",
   "id": "6ce81d9c",
   "metadata": {},
   "source": [
    "### 第二部分"
   ]
  },
  {
   "cell_type": "code",
   "execution_count": null,
   "id": "ca2f2bb0",
   "metadata": {},
   "outputs": [],
   "source": []
  },
  {
   "cell_type": "code",
   "execution_count": 2,
   "id": "b266f96f",
   "metadata": {},
   "outputs": [],
   "source": [
    "import pandas as pd\n",
    "import bs4\n",
    "from bs4 import BeautifulSoup\n",
    "import requests"
   ]
  },
  {
   "cell_type": "code",
   "execution_count": 23,
   "id": "ac82b88e",
   "metadata": {},
   "outputs": [],
   "source": [
    "url='https://www.ext.scu.edu.tw/courses_search.php?key='"
   ]
  },
  {
   "cell_type": "code",
   "execution_count": null,
   "id": "c74a9d6a",
   "metadata": {},
   "outputs": [],
   "source": []
  },
  {
   "cell_type": "code",
   "execution_count": null,
   "id": "6fbffaf0",
   "metadata": {},
   "outputs": [],
   "source": []
  },
  {
   "cell_type": "code",
   "execution_count": null,
   "id": "c6c1fcfd",
   "metadata": {},
   "outputs": [],
   "source": []
  },
  {
   "cell_type": "code",
   "execution_count": null,
   "id": "c3d0ed41",
   "metadata": {},
   "outputs": [],
   "source": []
  },
  {
   "cell_type": "code",
   "execution_count": null,
   "id": "164dcb89",
   "metadata": {},
   "outputs": [],
   "source": []
  },
  {
   "cell_type": "code",
   "execution_count": null,
   "id": "19ffdbd8",
   "metadata": {},
   "outputs": [],
   "source": []
  },
  {
   "cell_type": "code",
   "execution_count": null,
   "id": "a32b34c2",
   "metadata": {},
   "outputs": [],
   "source": []
  },
  {
   "cell_type": "code",
   "execution_count": null,
   "id": "5def5863",
   "metadata": {},
   "outputs": [],
   "source": []
  },
  {
   "cell_type": "code",
   "execution_count": null,
   "id": "0860919e",
   "metadata": {},
   "outputs": [],
   "source": []
  },
  {
   "cell_type": "code",
   "execution_count": null,
   "id": "52ed4375",
   "metadata": {},
   "outputs": [],
   "source": []
  },
  {
   "cell_type": "code",
   "execution_count": null,
   "id": "0fc65824",
   "metadata": {},
   "outputs": [],
   "source": []
  },
  {
   "cell_type": "code",
   "execution_count": null,
   "id": "9f9f5fa4",
   "metadata": {},
   "outputs": [],
   "source": []
  },
  {
   "cell_type": "code",
   "execution_count": null,
   "id": "aa4929cf",
   "metadata": {},
   "outputs": [],
   "source": []
  },
  {
   "cell_type": "code",
   "execution_count": null,
   "id": "87cce44d",
   "metadata": {},
   "outputs": [],
   "source": []
  }
 ],
 "metadata": {
  "kernelspec": {
   "display_name": "Python 3 (ipykernel)",
   "language": "python",
   "name": "python3"
  },
  "language_info": {
   "codemirror_mode": {
    "name": "ipython",
    "version": 3
   },
   "file_extension": ".py",
   "mimetype": "text/x-python",
   "name": "python",
   "nbconvert_exporter": "python",
   "pygments_lexer": "ipython3",
   "version": "3.9.12"
  }
 },
 "nbformat": 4,
 "nbformat_minor": 5
}
